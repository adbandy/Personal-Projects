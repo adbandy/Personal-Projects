{
 "cells": [
  {
   "cell_type": "markdown",
   "metadata": {
    "collapsed": true
   },
   "source": [
    "# Prediciting House Sale Prices With Linear Regression Machine Learning\n",
    "\n",
    "###### In this project we will work on housing data for the city of Ames, Iowa, USA from 2006 to 2010.\n",
    "\n",
    "###### The aim of this project is to explore feature engineering (that is how to decide which features will be important in machine learning, and how to manipulate them to function in machine learning\n",
    "\n",
    "###### More about the data can be found [here](https://doi.org/10.1080/10691898.2011.11889627)"
   ]
  },
  {
   "cell_type": "markdown",
   "metadata": {},
   "source": [
    "### Loading The Data"
   ]
  },
  {
   "cell_type": "code",
   "execution_count": 1,
   "metadata": {
    "collapsed": true
   },
   "outputs": [],
   "source": [
    "import pandas as pd\n",
    "import numpy as np\n",
    "from sklearn.linear_model import LinearRegression\n",
    "from sklearn.metrics import mean_squared_error\n",
    "from sklearn.model_selection import KFold\n",
    "\n",
    "pd.options.display.max_columns = 999"
   ]
  },
  {
   "cell_type": "code",
   "execution_count": 2,
   "metadata": {
    "collapsed": false
   },
   "outputs": [],
   "source": [
    "housing = pd.read_csv('AmesHousing.tsv', sep='\\t')"
   ]
  },
  {
   "cell_type": "code",
   "execution_count": 3,
   "metadata": {
    "collapsed": false
   },
   "outputs": [
    {
     "data": {
      "text/plain": [
       "(2930, 82)"
      ]
     },
     "execution_count": 3,
     "metadata": {},
     "output_type": "execute_result"
    }
   ],
   "source": [
    "housing.shape"
   ]
  },
  {
   "cell_type": "code",
   "execution_count": 4,
   "metadata": {
    "collapsed": false
   },
   "outputs": [
    {
     "data": {
      "text/html": [
       "<div>\n",
       "<style scoped>\n",
       "    .dataframe tbody tr th:only-of-type {\n",
       "        vertical-align: middle;\n",
       "    }\n",
       "\n",
       "    .dataframe tbody tr th {\n",
       "        vertical-align: top;\n",
       "    }\n",
       "\n",
       "    .dataframe thead th {\n",
       "        text-align: right;\n",
       "    }\n",
       "</style>\n",
       "<table border=\"1\" class=\"dataframe\">\n",
       "  <thead>\n",
       "    <tr style=\"text-align: right;\">\n",
       "      <th></th>\n",
       "      <th>Order</th>\n",
       "      <th>PID</th>\n",
       "      <th>MS SubClass</th>\n",
       "      <th>MS Zoning</th>\n",
       "      <th>Lot Frontage</th>\n",
       "      <th>Lot Area</th>\n",
       "      <th>Street</th>\n",
       "      <th>Alley</th>\n",
       "      <th>Lot Shape</th>\n",
       "      <th>Land Contour</th>\n",
       "      <th>Utilities</th>\n",
       "      <th>Lot Config</th>\n",
       "      <th>Land Slope</th>\n",
       "      <th>Neighborhood</th>\n",
       "      <th>Condition 1</th>\n",
       "      <th>Condition 2</th>\n",
       "      <th>Bldg Type</th>\n",
       "      <th>House Style</th>\n",
       "      <th>Overall Qual</th>\n",
       "      <th>Overall Cond</th>\n",
       "      <th>Year Built</th>\n",
       "      <th>Year Remod/Add</th>\n",
       "      <th>Roof Style</th>\n",
       "      <th>Roof Matl</th>\n",
       "      <th>Exterior 1st</th>\n",
       "      <th>Exterior 2nd</th>\n",
       "      <th>Mas Vnr Type</th>\n",
       "      <th>Mas Vnr Area</th>\n",
       "      <th>Exter Qual</th>\n",
       "      <th>Exter Cond</th>\n",
       "      <th>Foundation</th>\n",
       "      <th>Bsmt Qual</th>\n",
       "      <th>Bsmt Cond</th>\n",
       "      <th>Bsmt Exposure</th>\n",
       "      <th>BsmtFin Type 1</th>\n",
       "      <th>BsmtFin SF 1</th>\n",
       "      <th>BsmtFin Type 2</th>\n",
       "      <th>BsmtFin SF 2</th>\n",
       "      <th>Bsmt Unf SF</th>\n",
       "      <th>Total Bsmt SF</th>\n",
       "      <th>Heating</th>\n",
       "      <th>Heating QC</th>\n",
       "      <th>Central Air</th>\n",
       "      <th>Electrical</th>\n",
       "      <th>1st Flr SF</th>\n",
       "      <th>2nd Flr SF</th>\n",
       "      <th>Low Qual Fin SF</th>\n",
       "      <th>Gr Liv Area</th>\n",
       "      <th>Bsmt Full Bath</th>\n",
       "      <th>Bsmt Half Bath</th>\n",
       "      <th>Full Bath</th>\n",
       "      <th>Half Bath</th>\n",
       "      <th>Bedroom AbvGr</th>\n",
       "      <th>Kitchen AbvGr</th>\n",
       "      <th>Kitchen Qual</th>\n",
       "      <th>TotRms AbvGrd</th>\n",
       "      <th>Functional</th>\n",
       "      <th>Fireplaces</th>\n",
       "      <th>Fireplace Qu</th>\n",
       "      <th>Garage Type</th>\n",
       "      <th>Garage Yr Blt</th>\n",
       "      <th>Garage Finish</th>\n",
       "      <th>Garage Cars</th>\n",
       "      <th>Garage Area</th>\n",
       "      <th>Garage Qual</th>\n",
       "      <th>Garage Cond</th>\n",
       "      <th>Paved Drive</th>\n",
       "      <th>Wood Deck SF</th>\n",
       "      <th>Open Porch SF</th>\n",
       "      <th>Enclosed Porch</th>\n",
       "      <th>3Ssn Porch</th>\n",
       "      <th>Screen Porch</th>\n",
       "      <th>Pool Area</th>\n",
       "      <th>Pool QC</th>\n",
       "      <th>Fence</th>\n",
       "      <th>Misc Feature</th>\n",
       "      <th>Misc Val</th>\n",
       "      <th>Mo Sold</th>\n",
       "      <th>Yr Sold</th>\n",
       "      <th>Sale Type</th>\n",
       "      <th>Sale Condition</th>\n",
       "      <th>SalePrice</th>\n",
       "    </tr>\n",
       "  </thead>\n",
       "  <tbody>\n",
       "    <tr>\n",
       "      <th>74</th>\n",
       "      <td>75</td>\n",
       "      <td>531380080</td>\n",
       "      <td>60</td>\n",
       "      <td>RL</td>\n",
       "      <td>NaN</td>\n",
       "      <td>8880</td>\n",
       "      <td>Pave</td>\n",
       "      <td>NaN</td>\n",
       "      <td>IR1</td>\n",
       "      <td>Lvl</td>\n",
       "      <td>AllPub</td>\n",
       "      <td>Inside</td>\n",
       "      <td>Gtl</td>\n",
       "      <td>SawyerW</td>\n",
       "      <td>Norm</td>\n",
       "      <td>Norm</td>\n",
       "      <td>1Fam</td>\n",
       "      <td>2Story</td>\n",
       "      <td>7</td>\n",
       "      <td>5</td>\n",
       "      <td>1994</td>\n",
       "      <td>2002</td>\n",
       "      <td>Gable</td>\n",
       "      <td>CompShg</td>\n",
       "      <td>VinylSd</td>\n",
       "      <td>VinylSd</td>\n",
       "      <td>None</td>\n",
       "      <td>0.0</td>\n",
       "      <td>Gd</td>\n",
       "      <td>TA</td>\n",
       "      <td>PConc</td>\n",
       "      <td>Gd</td>\n",
       "      <td>TA</td>\n",
       "      <td>No</td>\n",
       "      <td>GLQ</td>\n",
       "      <td>695.0</td>\n",
       "      <td>Unf</td>\n",
       "      <td>0.0</td>\n",
       "      <td>253.0</td>\n",
       "      <td>948.0</td>\n",
       "      <td>GasA</td>\n",
       "      <td>Ex</td>\n",
       "      <td>Y</td>\n",
       "      <td>SBrkr</td>\n",
       "      <td>1222</td>\n",
       "      <td>888</td>\n",
       "      <td>0</td>\n",
       "      <td>2110</td>\n",
       "      <td>1.0</td>\n",
       "      <td>0.0</td>\n",
       "      <td>2</td>\n",
       "      <td>1</td>\n",
       "      <td>3</td>\n",
       "      <td>1</td>\n",
       "      <td>Gd</td>\n",
       "      <td>8</td>\n",
       "      <td>Typ</td>\n",
       "      <td>2</td>\n",
       "      <td>Fa</td>\n",
       "      <td>Attchd</td>\n",
       "      <td>1994.0</td>\n",
       "      <td>RFn</td>\n",
       "      <td>2.0</td>\n",
       "      <td>463.0</td>\n",
       "      <td>TA</td>\n",
       "      <td>TA</td>\n",
       "      <td>Y</td>\n",
       "      <td>0</td>\n",
       "      <td>130</td>\n",
       "      <td>0</td>\n",
       "      <td>0</td>\n",
       "      <td>0</td>\n",
       "      <td>0</td>\n",
       "      <td>NaN</td>\n",
       "      <td>NaN</td>\n",
       "      <td>NaN</td>\n",
       "      <td>0</td>\n",
       "      <td>5</td>\n",
       "      <td>2010</td>\n",
       "      <td>WD</td>\n",
       "      <td>Normal</td>\n",
       "      <td>205000</td>\n",
       "    </tr>\n",
       "    <tr>\n",
       "      <th>642</th>\n",
       "      <td>643</td>\n",
       "      <td>535303110</td>\n",
       "      <td>20</td>\n",
       "      <td>RL</td>\n",
       "      <td>53.0</td>\n",
       "      <td>8128</td>\n",
       "      <td>Pave</td>\n",
       "      <td>NaN</td>\n",
       "      <td>IR1</td>\n",
       "      <td>Lvl</td>\n",
       "      <td>AllPub</td>\n",
       "      <td>CulDSac</td>\n",
       "      <td>Gtl</td>\n",
       "      <td>NAmes</td>\n",
       "      <td>Norm</td>\n",
       "      <td>Norm</td>\n",
       "      <td>1Fam</td>\n",
       "      <td>1Story</td>\n",
       "      <td>6</td>\n",
       "      <td>7</td>\n",
       "      <td>1954</td>\n",
       "      <td>1954</td>\n",
       "      <td>Hip</td>\n",
       "      <td>CompShg</td>\n",
       "      <td>MetalSd</td>\n",
       "      <td>MetalSd</td>\n",
       "      <td>BrkFace</td>\n",
       "      <td>80.0</td>\n",
       "      <td>TA</td>\n",
       "      <td>TA</td>\n",
       "      <td>CBlock</td>\n",
       "      <td>TA</td>\n",
       "      <td>TA</td>\n",
       "      <td>No</td>\n",
       "      <td>ALQ</td>\n",
       "      <td>490.0</td>\n",
       "      <td>Unf</td>\n",
       "      <td>0.0</td>\n",
       "      <td>572.0</td>\n",
       "      <td>1062.0</td>\n",
       "      <td>GasA</td>\n",
       "      <td>Gd</td>\n",
       "      <td>Y</td>\n",
       "      <td>SBrkr</td>\n",
       "      <td>1062</td>\n",
       "      <td>0</td>\n",
       "      <td>0</td>\n",
       "      <td>1062</td>\n",
       "      <td>1.0</td>\n",
       "      <td>0.0</td>\n",
       "      <td>1</td>\n",
       "      <td>0</td>\n",
       "      <td>3</td>\n",
       "      <td>1</td>\n",
       "      <td>TA</td>\n",
       "      <td>6</td>\n",
       "      <td>Typ</td>\n",
       "      <td>0</td>\n",
       "      <td>NaN</td>\n",
       "      <td>Attchd</td>\n",
       "      <td>1954.0</td>\n",
       "      <td>Unf</td>\n",
       "      <td>1.0</td>\n",
       "      <td>297.0</td>\n",
       "      <td>TA</td>\n",
       "      <td>TA</td>\n",
       "      <td>Y</td>\n",
       "      <td>0</td>\n",
       "      <td>0</td>\n",
       "      <td>0</td>\n",
       "      <td>0</td>\n",
       "      <td>0</td>\n",
       "      <td>0</td>\n",
       "      <td>NaN</td>\n",
       "      <td>NaN</td>\n",
       "      <td>NaN</td>\n",
       "      <td>0</td>\n",
       "      <td>2</td>\n",
       "      <td>2009</td>\n",
       "      <td>WD</td>\n",
       "      <td>Normal</td>\n",
       "      <td>131000</td>\n",
       "    </tr>\n",
       "    <tr>\n",
       "      <th>2018</th>\n",
       "      <td>2019</td>\n",
       "      <td>903233140</td>\n",
       "      <td>45</td>\n",
       "      <td>RM</td>\n",
       "      <td>51.0</td>\n",
       "      <td>6120</td>\n",
       "      <td>Pave</td>\n",
       "      <td>NaN</td>\n",
       "      <td>Reg</td>\n",
       "      <td>Lvl</td>\n",
       "      <td>AllPub</td>\n",
       "      <td>Corner</td>\n",
       "      <td>Gtl</td>\n",
       "      <td>BrkSide</td>\n",
       "      <td>Norm</td>\n",
       "      <td>Norm</td>\n",
       "      <td>1Fam</td>\n",
       "      <td>1.5Unf</td>\n",
       "      <td>7</td>\n",
       "      <td>8</td>\n",
       "      <td>1929</td>\n",
       "      <td>2001</td>\n",
       "      <td>Gable</td>\n",
       "      <td>CompShg</td>\n",
       "      <td>Wd Sdng</td>\n",
       "      <td>Wd Sdng</td>\n",
       "      <td>None</td>\n",
       "      <td>0.0</td>\n",
       "      <td>TA</td>\n",
       "      <td>TA</td>\n",
       "      <td>BrkTil</td>\n",
       "      <td>TA</td>\n",
       "      <td>TA</td>\n",
       "      <td>No</td>\n",
       "      <td>Unf</td>\n",
       "      <td>0.0</td>\n",
       "      <td>Unf</td>\n",
       "      <td>0.0</td>\n",
       "      <td>832.0</td>\n",
       "      <td>832.0</td>\n",
       "      <td>GasA</td>\n",
       "      <td>Ex</td>\n",
       "      <td>Y</td>\n",
       "      <td>FuseA</td>\n",
       "      <td>854</td>\n",
       "      <td>0</td>\n",
       "      <td>0</td>\n",
       "      <td>854</td>\n",
       "      <td>0.0</td>\n",
       "      <td>0.0</td>\n",
       "      <td>1</td>\n",
       "      <td>0</td>\n",
       "      <td>2</td>\n",
       "      <td>1</td>\n",
       "      <td>TA</td>\n",
       "      <td>5</td>\n",
       "      <td>Typ</td>\n",
       "      <td>0</td>\n",
       "      <td>NaN</td>\n",
       "      <td>Detchd</td>\n",
       "      <td>1991.0</td>\n",
       "      <td>Unf</td>\n",
       "      <td>2.0</td>\n",
       "      <td>576.0</td>\n",
       "      <td>TA</td>\n",
       "      <td>TA</td>\n",
       "      <td>Y</td>\n",
       "      <td>48</td>\n",
       "      <td>112</td>\n",
       "      <td>0</td>\n",
       "      <td>0</td>\n",
       "      <td>0</td>\n",
       "      <td>0</td>\n",
       "      <td>NaN</td>\n",
       "      <td>GdPrv</td>\n",
       "      <td>NaN</td>\n",
       "      <td>0</td>\n",
       "      <td>7</td>\n",
       "      <td>2007</td>\n",
       "      <td>WD</td>\n",
       "      <td>Normal</td>\n",
       "      <td>132000</td>\n",
       "    </tr>\n",
       "    <tr>\n",
       "      <th>1772</th>\n",
       "      <td>1773</td>\n",
       "      <td>528366050</td>\n",
       "      <td>20</td>\n",
       "      <td>RL</td>\n",
       "      <td>NaN</td>\n",
       "      <td>12692</td>\n",
       "      <td>Pave</td>\n",
       "      <td>NaN</td>\n",
       "      <td>IR1</td>\n",
       "      <td>Lvl</td>\n",
       "      <td>AllPub</td>\n",
       "      <td>Inside</td>\n",
       "      <td>Gtl</td>\n",
       "      <td>NoRidge</td>\n",
       "      <td>Norm</td>\n",
       "      <td>Norm</td>\n",
       "      <td>1Fam</td>\n",
       "      <td>1Story</td>\n",
       "      <td>8</td>\n",
       "      <td>5</td>\n",
       "      <td>1992</td>\n",
       "      <td>1993</td>\n",
       "      <td>Hip</td>\n",
       "      <td>CompShg</td>\n",
       "      <td>BrkFace</td>\n",
       "      <td>BrkFace</td>\n",
       "      <td>None</td>\n",
       "      <td>0.0</td>\n",
       "      <td>Gd</td>\n",
       "      <td>TA</td>\n",
       "      <td>PConc</td>\n",
       "      <td>Gd</td>\n",
       "      <td>TA</td>\n",
       "      <td>No</td>\n",
       "      <td>GLQ</td>\n",
       "      <td>1231.0</td>\n",
       "      <td>Unf</td>\n",
       "      <td>0.0</td>\n",
       "      <td>1969.0</td>\n",
       "      <td>3200.0</td>\n",
       "      <td>GasA</td>\n",
       "      <td>Ex</td>\n",
       "      <td>Y</td>\n",
       "      <td>SBrkr</td>\n",
       "      <td>3228</td>\n",
       "      <td>0</td>\n",
       "      <td>0</td>\n",
       "      <td>3228</td>\n",
       "      <td>1.0</td>\n",
       "      <td>0.0</td>\n",
       "      <td>3</td>\n",
       "      <td>0</td>\n",
       "      <td>4</td>\n",
       "      <td>1</td>\n",
       "      <td>Gd</td>\n",
       "      <td>10</td>\n",
       "      <td>Typ</td>\n",
       "      <td>1</td>\n",
       "      <td>Gd</td>\n",
       "      <td>Attchd</td>\n",
       "      <td>1992.0</td>\n",
       "      <td>RFn</td>\n",
       "      <td>2.0</td>\n",
       "      <td>546.0</td>\n",
       "      <td>TA</td>\n",
       "      <td>TA</td>\n",
       "      <td>Y</td>\n",
       "      <td>264</td>\n",
       "      <td>75</td>\n",
       "      <td>291</td>\n",
       "      <td>0</td>\n",
       "      <td>0</td>\n",
       "      <td>0</td>\n",
       "      <td>NaN</td>\n",
       "      <td>NaN</td>\n",
       "      <td>NaN</td>\n",
       "      <td>0</td>\n",
       "      <td>5</td>\n",
       "      <td>2007</td>\n",
       "      <td>WD</td>\n",
       "      <td>Normal</td>\n",
       "      <td>430000</td>\n",
       "    </tr>\n",
       "    <tr>\n",
       "      <th>2739</th>\n",
       "      <td>2740</td>\n",
       "      <td>905451050</td>\n",
       "      <td>20</td>\n",
       "      <td>RL</td>\n",
       "      <td>80.0</td>\n",
       "      <td>12048</td>\n",
       "      <td>Pave</td>\n",
       "      <td>NaN</td>\n",
       "      <td>Reg</td>\n",
       "      <td>Lvl</td>\n",
       "      <td>AllPub</td>\n",
       "      <td>Inside</td>\n",
       "      <td>Gtl</td>\n",
       "      <td>Edwards</td>\n",
       "      <td>Norm</td>\n",
       "      <td>Norm</td>\n",
       "      <td>1Fam</td>\n",
       "      <td>1Story</td>\n",
       "      <td>5</td>\n",
       "      <td>6</td>\n",
       "      <td>1952</td>\n",
       "      <td>2002</td>\n",
       "      <td>Gable</td>\n",
       "      <td>CompShg</td>\n",
       "      <td>Wd Sdng</td>\n",
       "      <td>Wd Sdng</td>\n",
       "      <td>BrkFace</td>\n",
       "      <td>232.0</td>\n",
       "      <td>TA</td>\n",
       "      <td>TA</td>\n",
       "      <td>Slab</td>\n",
       "      <td>NaN</td>\n",
       "      <td>NaN</td>\n",
       "      <td>NaN</td>\n",
       "      <td>NaN</td>\n",
       "      <td>0.0</td>\n",
       "      <td>NaN</td>\n",
       "      <td>0.0</td>\n",
       "      <td>0.0</td>\n",
       "      <td>0.0</td>\n",
       "      <td>GasA</td>\n",
       "      <td>Gd</td>\n",
       "      <td>Y</td>\n",
       "      <td>SBrkr</td>\n",
       "      <td>1488</td>\n",
       "      <td>0</td>\n",
       "      <td>0</td>\n",
       "      <td>1488</td>\n",
       "      <td>0.0</td>\n",
       "      <td>0.0</td>\n",
       "      <td>1</td>\n",
       "      <td>0</td>\n",
       "      <td>3</td>\n",
       "      <td>1</td>\n",
       "      <td>TA</td>\n",
       "      <td>7</td>\n",
       "      <td>Typ</td>\n",
       "      <td>1</td>\n",
       "      <td>Ex</td>\n",
       "      <td>Attchd</td>\n",
       "      <td>2002.0</td>\n",
       "      <td>RFn</td>\n",
       "      <td>2.0</td>\n",
       "      <td>569.0</td>\n",
       "      <td>TA</td>\n",
       "      <td>TA</td>\n",
       "      <td>Y</td>\n",
       "      <td>0</td>\n",
       "      <td>189</td>\n",
       "      <td>36</td>\n",
       "      <td>0</td>\n",
       "      <td>348</td>\n",
       "      <td>0</td>\n",
       "      <td>NaN</td>\n",
       "      <td>NaN</td>\n",
       "      <td>NaN</td>\n",
       "      <td>0</td>\n",
       "      <td>4</td>\n",
       "      <td>2006</td>\n",
       "      <td>WD</td>\n",
       "      <td>Normal</td>\n",
       "      <td>135000</td>\n",
       "    </tr>\n",
       "  </tbody>\n",
       "</table>\n",
       "</div>"
      ],
      "text/plain": [
       "      Order        PID  MS SubClass MS Zoning  Lot Frontage  Lot Area Street  \\\n",
       "74       75  531380080           60        RL           NaN      8880   Pave   \n",
       "642     643  535303110           20        RL          53.0      8128   Pave   \n",
       "2018   2019  903233140           45        RM          51.0      6120   Pave   \n",
       "1772   1773  528366050           20        RL           NaN     12692   Pave   \n",
       "2739   2740  905451050           20        RL          80.0     12048   Pave   \n",
       "\n",
       "     Alley Lot Shape Land Contour Utilities Lot Config Land Slope  \\\n",
       "74     NaN       IR1          Lvl    AllPub     Inside        Gtl   \n",
       "642    NaN       IR1          Lvl    AllPub    CulDSac        Gtl   \n",
       "2018   NaN       Reg          Lvl    AllPub     Corner        Gtl   \n",
       "1772   NaN       IR1          Lvl    AllPub     Inside        Gtl   \n",
       "2739   NaN       Reg          Lvl    AllPub     Inside        Gtl   \n",
       "\n",
       "     Neighborhood Condition 1 Condition 2 Bldg Type House Style  Overall Qual  \\\n",
       "74        SawyerW        Norm        Norm      1Fam      2Story             7   \n",
       "642         NAmes        Norm        Norm      1Fam      1Story             6   \n",
       "2018      BrkSide        Norm        Norm      1Fam      1.5Unf             7   \n",
       "1772      NoRidge        Norm        Norm      1Fam      1Story             8   \n",
       "2739      Edwards        Norm        Norm      1Fam      1Story             5   \n",
       "\n",
       "      Overall Cond  Year Built  Year Remod/Add Roof Style Roof Matl  \\\n",
       "74               5        1994            2002      Gable   CompShg   \n",
       "642              7        1954            1954        Hip   CompShg   \n",
       "2018             8        1929            2001      Gable   CompShg   \n",
       "1772             5        1992            1993        Hip   CompShg   \n",
       "2739             6        1952            2002      Gable   CompShg   \n",
       "\n",
       "     Exterior 1st Exterior 2nd Mas Vnr Type  Mas Vnr Area Exter Qual  \\\n",
       "74        VinylSd      VinylSd         None           0.0         Gd   \n",
       "642       MetalSd      MetalSd      BrkFace          80.0         TA   \n",
       "2018      Wd Sdng      Wd Sdng         None           0.0         TA   \n",
       "1772      BrkFace      BrkFace         None           0.0         Gd   \n",
       "2739      Wd Sdng      Wd Sdng      BrkFace         232.0         TA   \n",
       "\n",
       "     Exter Cond Foundation Bsmt Qual Bsmt Cond Bsmt Exposure BsmtFin Type 1  \\\n",
       "74           TA      PConc        Gd        TA            No            GLQ   \n",
       "642          TA     CBlock        TA        TA            No            ALQ   \n",
       "2018         TA     BrkTil        TA        TA            No            Unf   \n",
       "1772         TA      PConc        Gd        TA            No            GLQ   \n",
       "2739         TA       Slab       NaN       NaN           NaN            NaN   \n",
       "\n",
       "      BsmtFin SF 1 BsmtFin Type 2  BsmtFin SF 2  Bsmt Unf SF  Total Bsmt SF  \\\n",
       "74           695.0            Unf           0.0        253.0          948.0   \n",
       "642          490.0            Unf           0.0        572.0         1062.0   \n",
       "2018           0.0            Unf           0.0        832.0          832.0   \n",
       "1772        1231.0            Unf           0.0       1969.0         3200.0   \n",
       "2739           0.0            NaN           0.0          0.0            0.0   \n",
       "\n",
       "     Heating Heating QC Central Air Electrical  1st Flr SF  2nd Flr SF  \\\n",
       "74      GasA         Ex           Y      SBrkr        1222         888   \n",
       "642     GasA         Gd           Y      SBrkr        1062           0   \n",
       "2018    GasA         Ex           Y      FuseA         854           0   \n",
       "1772    GasA         Ex           Y      SBrkr        3228           0   \n",
       "2739    GasA         Gd           Y      SBrkr        1488           0   \n",
       "\n",
       "      Low Qual Fin SF  Gr Liv Area  Bsmt Full Bath  Bsmt Half Bath  Full Bath  \\\n",
       "74                  0         2110             1.0             0.0          2   \n",
       "642                 0         1062             1.0             0.0          1   \n",
       "2018                0          854             0.0             0.0          1   \n",
       "1772                0         3228             1.0             0.0          3   \n",
       "2739                0         1488             0.0             0.0          1   \n",
       "\n",
       "      Half Bath  Bedroom AbvGr  Kitchen AbvGr Kitchen Qual  TotRms AbvGrd  \\\n",
       "74            1              3              1           Gd              8   \n",
       "642           0              3              1           TA              6   \n",
       "2018          0              2              1           TA              5   \n",
       "1772          0              4              1           Gd             10   \n",
       "2739          0              3              1           TA              7   \n",
       "\n",
       "     Functional  Fireplaces Fireplace Qu Garage Type  Garage Yr Blt  \\\n",
       "74          Typ           2           Fa      Attchd         1994.0   \n",
       "642         Typ           0          NaN      Attchd         1954.0   \n",
       "2018        Typ           0          NaN      Detchd         1991.0   \n",
       "1772        Typ           1           Gd      Attchd         1992.0   \n",
       "2739        Typ           1           Ex      Attchd         2002.0   \n",
       "\n",
       "     Garage Finish  Garage Cars  Garage Area Garage Qual Garage Cond  \\\n",
       "74             RFn          2.0        463.0          TA          TA   \n",
       "642            Unf          1.0        297.0          TA          TA   \n",
       "2018           Unf          2.0        576.0          TA          TA   \n",
       "1772           RFn          2.0        546.0          TA          TA   \n",
       "2739           RFn          2.0        569.0          TA          TA   \n",
       "\n",
       "     Paved Drive  Wood Deck SF  Open Porch SF  Enclosed Porch  3Ssn Porch  \\\n",
       "74             Y             0            130               0           0   \n",
       "642            Y             0              0               0           0   \n",
       "2018           Y            48            112               0           0   \n",
       "1772           Y           264             75             291           0   \n",
       "2739           Y             0            189              36           0   \n",
       "\n",
       "      Screen Porch  Pool Area Pool QC  Fence Misc Feature  Misc Val  Mo Sold  \\\n",
       "74               0          0     NaN    NaN          NaN         0        5   \n",
       "642              0          0     NaN    NaN          NaN         0        2   \n",
       "2018             0          0     NaN  GdPrv          NaN         0        7   \n",
       "1772             0          0     NaN    NaN          NaN         0        5   \n",
       "2739           348          0     NaN    NaN          NaN         0        4   \n",
       "\n",
       "      Yr Sold Sale Type Sale Condition  SalePrice  \n",
       "74       2010       WD          Normal     205000  \n",
       "642      2009       WD          Normal     131000  \n",
       "2018     2007       WD          Normal     132000  \n",
       "1772     2007       WD          Normal     430000  \n",
       "2739     2006       WD          Normal     135000  "
      ]
     },
     "execution_count": 4,
     "metadata": {},
     "output_type": "execute_result"
    }
   ],
   "source": [
    "housing.sample(5)"
   ]
  },
  {
   "cell_type": "code",
   "execution_count": 5,
   "metadata": {
    "collapsed": false,
    "scrolled": true
   },
   "outputs": [
    {
     "data": {
      "text/plain": [
       "Index(['Order', 'PID', 'MS SubClass', 'MS Zoning', 'Lot Frontage', 'Lot Area',\n",
       "       'Street', 'Alley', 'Lot Shape', 'Land Contour', 'Utilities',\n",
       "       'Lot Config', 'Land Slope', 'Neighborhood', 'Condition 1',\n",
       "       'Condition 2', 'Bldg Type', 'House Style', 'Overall Qual',\n",
       "       'Overall Cond', 'Year Built', 'Year Remod/Add', 'Roof Style',\n",
       "       'Roof Matl', 'Exterior 1st', 'Exterior 2nd', 'Mas Vnr Type',\n",
       "       'Mas Vnr Area', 'Exter Qual', 'Exter Cond', 'Foundation', 'Bsmt Qual',\n",
       "       'Bsmt Cond', 'Bsmt Exposure', 'BsmtFin Type 1', 'BsmtFin SF 1',\n",
       "       'BsmtFin Type 2', 'BsmtFin SF 2', 'Bsmt Unf SF', 'Total Bsmt SF',\n",
       "       'Heating', 'Heating QC', 'Central Air', 'Electrical', '1st Flr SF',\n",
       "       '2nd Flr SF', 'Low Qual Fin SF', 'Gr Liv Area', 'Bsmt Full Bath',\n",
       "       'Bsmt Half Bath', 'Full Bath', 'Half Bath', 'Bedroom AbvGr',\n",
       "       'Kitchen AbvGr', 'Kitchen Qual', 'TotRms AbvGrd', 'Functional',\n",
       "       'Fireplaces', 'Fireplace Qu', 'Garage Type', 'Garage Yr Blt',\n",
       "       'Garage Finish', 'Garage Cars', 'Garage Area', 'Garage Qual',\n",
       "       'Garage Cond', 'Paved Drive', 'Wood Deck SF', 'Open Porch SF',\n",
       "       'Enclosed Porch', '3Ssn Porch', 'Screen Porch', 'Pool Area', 'Pool QC',\n",
       "       'Fence', 'Misc Feature', 'Misc Val', 'Mo Sold', 'Yr Sold', 'Sale Type',\n",
       "       'Sale Condition', 'SalePrice'],\n",
       "      dtype='object')"
      ]
     },
     "execution_count": 5,
     "metadata": {},
     "output_type": "execute_result"
    }
   ],
   "source": [
    "housing.columns"
   ]
  },
  {
   "cell_type": "markdown",
   "metadata": {},
   "source": [
    "###### We will begin by creating some simple functions that form the basis for our machine learning.\n",
    "\n",
    "###### We will explore later what we should/could add to these functions."
   ]
  },
  {
   "cell_type": "code",
   "execution_count": 6,
   "metadata": {
    "collapsed": true
   },
   "outputs": [],
   "source": [
    "def transform_features(train):\n",
    "    return train"
   ]
  },
  {
   "cell_type": "code",
   "execution_count": 7,
   "metadata": {
    "collapsed": true
   },
   "outputs": [],
   "source": [
    "def select_features(train):\n",
    "    return train[['Gr Liv Area','SalePrice']]"
   ]
  },
  {
   "cell_type": "code",
   "execution_count": 8,
   "metadata": {
    "collapsed": true
   },
   "outputs": [],
   "source": [
    "def train_and_test(data):\n",
    "    #split the data between train and test datasets#\n",
    "    train = data[:1460]\n",
    "    test = data[1460:]\n",
    "    #Select only numeric columns#\n",
    "    train = train.select_dtypes(include = ['integer', 'float'])\n",
    "    test = test.select_dtypes(include = ['integer', 'float'])\n",
    "    #Remove our target from the train column#    \n",
    "    feature_list= train.columns.drop('SalePrice')\n",
    "    #Create and run the model#\n",
    "    model = LinearRegression()\n",
    "    model.fit(train[feature_list], train['SalePrice'])\n",
    "    predictions = model.predict(test[feature_list])\n",
    "    #Mean squared error calculation#\n",
    "    MSE = mean_squared_error(test['SalePrice'], predictions)\n",
    "    #Relative mean squared error calculation#\n",
    "    RMSE = np.sqrt(MSE)\n",
    "    return RMSE"
   ]
  },
  {
   "cell_type": "code",
   "execution_count": 9,
   "metadata": {
    "collapsed": false,
    "scrolled": true
   },
   "outputs": [
    {
     "name": "stdout",
     "output_type": "stream",
     "text": [
      "The relative mean square error is 57088.25\n"
     ]
    }
   ],
   "source": [
    "#Quick test on data as is#\n",
    "transformed_data = transform_features(housing)\n",
    "filtered_data = select_features(transformed_data)\n",
    "RMSE = train_and_test(filtered_data)\n",
    "print(\"The relative mean square error is {:.2f}\".format(RMSE))"
   ]
  },
  {
   "cell_type": "markdown",
   "metadata": {
    "collapsed": true
   },
   "source": [
    "### Feature Engineering\n",
    "###### To overcome the missing data problem there are many possible solutions.\n",
    " - ###### A)  For this excercise we will keep only columns with <5% missing values\n",
    " - ###### B)  Keep text columns with no missing values\n",
    " - ###### C)  Keep numerical columns and fill in missing data\n"
   ]
  },
  {
   "cell_type": "markdown",
   "metadata": {},
   "source": [
    "###### For now lets start with step A) and drop all columns with 5% missing rows\n",
    "\n",
    "###### Here is a preview of the missing rows."
   ]
  },
  {
   "cell_type": "code",
   "execution_count": 10,
   "metadata": {
    "collapsed": false
   },
   "outputs": [
    {
     "data": {
      "text/plain": [
       "Pool QC           2917\n",
       "Misc Feature      2824\n",
       "Alley             2732\n",
       "Fence             2358\n",
       "Fireplace Qu      1422\n",
       "Lot Frontage       490\n",
       "Garage Yr Blt      159\n",
       "Garage Cond        159\n",
       "Garage Qual        159\n",
       "Garage Finish      159\n",
       "Garage Type        157\n",
       "Bsmt Exposure       83\n",
       "BsmtFin Type 2      81\n",
       "Bsmt Cond           80\n",
       "Bsmt Qual           80\n",
       "BsmtFin Type 1      80\n",
       "Mas Vnr Type        23\n",
       "Mas Vnr Area        23\n",
       "Bsmt Half Bath       2\n",
       "Bsmt Full Bath       2\n",
       "Garage Cars          1\n",
       "BsmtFin SF 2         1\n",
       "BsmtFin SF 1         1\n",
       "Bsmt Unf SF          1\n",
       "Total Bsmt SF        1\n",
       "Garage Area          1\n",
       "Electrical           1\n",
       "dtype: int64"
      ]
     },
     "execution_count": 10,
     "metadata": {},
     "output_type": "execute_result"
    }
   ],
   "source": [
    "housing.isnull().sum()[housing.isnull().sum() >0].sort_values(ascending = False)"
   ]
  },
  {
   "cell_type": "code",
   "execution_count": 11,
   "metadata": {
    "collapsed": false
   },
   "outputs": [
    {
     "name": "stdout",
     "output_type": "stream",
     "text": [
      "5% of the missing values represents 146.5 rows\n"
     ]
    }
   ],
   "source": [
    "print(\"5% of the missing values represents {} rows\".format(len(housing) * 0.05))"
   ]
  },
  {
   "cell_type": "code",
   "execution_count": 12,
   "metadata": {
    "collapsed": false,
    "scrolled": true
   },
   "outputs": [
    {
     "name": "stdout",
     "output_type": "stream",
     "text": [
      "The following columns will be removed: \n",
      "\n",
      "Pool QC          2917\n",
      "Misc Feature     2824\n",
      "Alley            2732\n",
      "Fence            2358\n",
      "Fireplace Qu     1422\n",
      "Lot Frontage      490\n",
      "Garage Cond       159\n",
      "Garage Qual       159\n",
      "Garage Finish     159\n",
      "Garage Yr Blt     159\n",
      "Garage Type       157\n",
      "dtype: int64\n"
     ]
    }
   ],
   "source": [
    "missing_rows = housing.isnull().sum()\n",
    "columns_to_remove = missing_rows[missing_rows > (len(housing) *0.05)]\n",
    "print(\"The following columns will be removed:\",\"\\n\")\n",
    "print(columns_to_remove.sort_values(ascending=False))"
   ]
  },
  {
   "cell_type": "code",
   "execution_count": 13,
   "metadata": {
    "collapsed": true
   },
   "outputs": [],
   "source": [
    "housing = housing.drop(columns_to_remove.index, axis=1)"
   ]
  },
  {
   "cell_type": "markdown",
   "metadata": {},
   "source": [
    "###### Step B) Drop any text columns with 1 or more missing values"
   ]
  },
  {
   "cell_type": "code",
   "execution_count": 14,
   "metadata": {
    "collapsed": false
   },
   "outputs": [
    {
     "data": {
      "text/plain": [
       "Bsmt Exposure     83\n",
       "BsmtFin Type 2    81\n",
       "BsmtFin Type 1    80\n",
       "Bsmt Qual         80\n",
       "Bsmt Cond         80\n",
       "Mas Vnr Type      23\n",
       "Electrical         1\n",
       "Utilities          0\n",
       "dtype: int64"
      ]
     },
     "execution_count": 14,
     "metadata": {},
     "output_type": "execute_result"
    }
   ],
   "source": [
    "missing_text_counts = housing.select_dtypes(include = ['object']).isnull().sum().sort_values(ascending= False)\n",
    "missing_text_counts.head(8)"
   ]
  },
  {
   "cell_type": "code",
   "execution_count": 15,
   "metadata": {
    "collapsed": true
   },
   "outputs": [],
   "source": [
    "#We will only drop the columns above that have missing values#\n",
    "text_cols_to_drop = missing_text_counts[missing_text_counts>0]\n",
    "housing = housing.drop(text_cols_to_drop.index, axis=1)"
   ]
  },
  {
   "cell_type": "markdown",
   "metadata": {},
   "source": [
    "###### Step C) For numerical columns with missing values we shall fill these in. \n",
    "###### Many options can be chosen here such as comparing similar rows or inputting average, median or modes.\n",
    "###### Here we have chosen to inpute the median values (i.e. the most common)\n"
   ]
  },
  {
   "cell_type": "code",
   "execution_count": 16,
   "metadata": {
    "collapsed": false
   },
   "outputs": [
    {
     "data": {
      "text/plain": [
       "Mas Vnr Area      23\n",
       "Bsmt Half Bath     2\n",
       "Bsmt Full Bath     2\n",
       "Garage Area        1\n",
       "Garage Cars        1\n",
       "Total Bsmt SF      1\n",
       "Bsmt Unf SF        1\n",
       "BsmtFin SF 2       1\n",
       "BsmtFin SF 1       1\n",
       "dtype: int64"
      ]
     },
     "execution_count": 16,
     "metadata": {},
     "output_type": "execute_result"
    }
   ],
   "source": [
    "numerical_missing = housing.select_dtypes(include= ['int', 'float']).isnull().sum()\n",
    "numerical_columns_to_update = numerical_missing[(numerical_missing > 0)].sort_values(ascending=False)\n",
    "numerical_columns_to_update"
   ]
  },
  {
   "cell_type": "code",
   "execution_count": 17,
   "metadata": {
    "collapsed": false
   },
   "outputs": [
    {
     "data": {
      "text/html": [
       "<div>\n",
       "<style scoped>\n",
       "    .dataframe tbody tr th:only-of-type {\n",
       "        vertical-align: middle;\n",
       "    }\n",
       "\n",
       "    .dataframe tbody tr th {\n",
       "        vertical-align: top;\n",
       "    }\n",
       "\n",
       "    .dataframe thead th {\n",
       "        text-align: right;\n",
       "    }\n",
       "</style>\n",
       "<table border=\"1\" class=\"dataframe\">\n",
       "  <thead>\n",
       "    <tr style=\"text-align: right;\">\n",
       "      <th></th>\n",
       "      <th>Mas Vnr Area</th>\n",
       "      <th>Bsmt Half Bath</th>\n",
       "      <th>Bsmt Full Bath</th>\n",
       "      <th>Garage Area</th>\n",
       "      <th>Garage Cars</th>\n",
       "      <th>Total Bsmt SF</th>\n",
       "      <th>Bsmt Unf SF</th>\n",
       "      <th>BsmtFin SF 2</th>\n",
       "      <th>BsmtFin SF 1</th>\n",
       "    </tr>\n",
       "  </thead>\n",
       "  <tbody>\n",
       "    <tr>\n",
       "      <th>0</th>\n",
       "      <td>0.0</td>\n",
       "      <td>0.0</td>\n",
       "      <td>0.0</td>\n",
       "      <td>0.0</td>\n",
       "      <td>2.0</td>\n",
       "      <td>0.0</td>\n",
       "      <td>0.0</td>\n",
       "      <td>0.0</td>\n",
       "      <td>0.0</td>\n",
       "    </tr>\n",
       "  </tbody>\n",
       "</table>\n",
       "</div>"
      ],
      "text/plain": [
       "   Mas Vnr Area  Bsmt Half Bath  Bsmt Full Bath  Garage Area  Garage Cars  \\\n",
       "0           0.0             0.0             0.0          0.0          2.0   \n",
       "\n",
       "   Total Bsmt SF  Bsmt Unf SF  BsmtFin SF 2  BsmtFin SF 1  \n",
       "0            0.0          0.0           0.0           0.0  "
      ]
     },
     "execution_count": 17,
     "metadata": {},
     "output_type": "execute_result"
    }
   ],
   "source": [
    "#Most common values can be calculated using the mode function#\n",
    "numerical_mode_values = housing[numerical_columns_to_update.index].mode()\n",
    "numerical_mode_values"
   ]
  },
  {
   "cell_type": "code",
   "execution_count": 18,
   "metadata": {
    "collapsed": false
   },
   "outputs": [
    {
     "data": {
      "text/plain": [
       "{'Bsmt Full Bath': 0.0,\n",
       " 'Bsmt Half Bath': 0.0,\n",
       " 'Bsmt Unf SF': 0.0,\n",
       " 'BsmtFin SF 1': 0.0,\n",
       " 'BsmtFin SF 2': 0.0,\n",
       " 'Garage Area': 0.0,\n",
       " 'Garage Cars': 2.0,\n",
       " 'Mas Vnr Area': 0.0,\n",
       " 'Total Bsmt SF': 0.0}"
      ]
     },
     "execution_count": 18,
     "metadata": {},
     "output_type": "execute_result"
    }
   ],
   "source": [
    "#Convert the above to a replacement dictionary#\n",
    "replacement_dictionary = numerical_mode_values.to_dict(orient = 'records')[0]\n",
    "replacement_dictionary"
   ]
  },
  {
   "cell_type": "code",
   "execution_count": 19,
   "metadata": {
    "collapsed": false
   },
   "outputs": [],
   "source": [
    "#Use the fillna() method to replace the missing values#\n",
    "housing = housing.fillna(replacement_dictionary)"
   ]
  },
  {
   "cell_type": "code",
   "execution_count": 20,
   "metadata": {
    "collapsed": false
   },
   "outputs": [
    {
     "data": {
      "text/plain": [
       "0    64\n",
       "dtype: int64"
      ]
     },
     "execution_count": 20,
     "metadata": {},
     "output_type": "execute_result"
    }
   ],
   "source": [
    "#Check to see if our replacements have worked#\n",
    "housing.isnull().sum().value_counts()"
   ]
  },
  {
   "cell_type": "markdown",
   "metadata": {},
   "source": [
    "### Feature Engineering (Part 2)\n",
    "###### Next lets see if we can create more meaningful features\n",
    "\n",
    "###### We can see that we have columns for the year sold,  year refurbished and the year built. \n",
    "\n",
    "###### These are indeed important but also give rise to extra information - the years between buidling and selling, as well as the number of years between building and refurbishment."
   ]
  },
  {
   "cell_type": "code",
   "execution_count": 21,
   "metadata": {
    "collapsed": false
   },
   "outputs": [
    {
     "data": {
      "text/plain": [
       "1    218\n",
       "0    116\n",
       "2     90\n",
       "4     76\n",
       "5     66\n",
       "dtype: int64"
      ]
     },
     "execution_count": 21,
     "metadata": {},
     "output_type": "execute_result"
    }
   ],
   "source": [
    "years_until_sold = housing['Yr Sold'] - housing['Year Built']\n",
    "years_until_sold.value_counts().head()"
   ]
  },
  {
   "cell_type": "code",
   "execution_count": 22,
   "metadata": {
    "collapsed": false
   },
   "outputs": [
    {
     "data": {
      "text/plain": [
       "230    60\n",
       "304    60\n",
       "282    60\n",
       "314    60\n",
       "197    60\n",
       "dtype: int64"
      ]
     },
     "execution_count": 22,
     "metadata": {},
     "output_type": "execute_result"
    }
   ],
   "source": [
    "years_until_remod = housing['Yr Sold'] - housing['Year Remod/Add']\n",
    "years_until_remod.sort_values(ascending= False).head()"
   ]
  },
  {
   "cell_type": "markdown",
   "metadata": {},
   "source": [
    "###### We should be careful to make sure there are no negative values:"
   ]
  },
  {
   "cell_type": "code",
   "execution_count": 23,
   "metadata": {
    "collapsed": false
   },
   "outputs": [
    {
     "data": {
      "text/plain": [
       "2180   -1\n",
       "dtype: int64"
      ]
     },
     "execution_count": 23,
     "metadata": {},
     "output_type": "execute_result"
    }
   ],
   "source": [
    "years_until_sold[years_until_sold <0]"
   ]
  },
  {
   "cell_type": "code",
   "execution_count": 24,
   "metadata": {
    "collapsed": false
   },
   "outputs": [
    {
     "data": {
      "text/plain": [
       "1702   -1\n",
       "2180   -2\n",
       "2181   -1\n",
       "dtype: int64"
      ]
     },
     "execution_count": 24,
     "metadata": {},
     "output_type": "execute_result"
    }
   ],
   "source": [
    "years_until_remod[years_until_remod <0]"
   ]
  },
  {
   "cell_type": "markdown",
   "metadata": {},
   "source": [
    "###### We can now create the extra columns and drop these suspicious rows."
   ]
  },
  {
   "cell_type": "code",
   "execution_count": 25,
   "metadata": {
    "collapsed": true
   },
   "outputs": [],
   "source": [
    "housing['Years Before Sale'] = years_until_sold\n",
    "housing['Years Before Remod'] = years_until_remod"
   ]
  },
  {
   "cell_type": "code",
   "execution_count": 26,
   "metadata": {
    "collapsed": false
   },
   "outputs": [],
   "source": [
    "housing = housing.drop([1702,2180,2181], axis=0)\n",
    "#Can also drop the original year built and remodelled columns#\n",
    "housing = housing.drop(['Year Built', 'Year Remod/Add'], axis =1 )"
   ]
  },
  {
   "cell_type": "markdown",
   "metadata": {},
   "source": [
    "### Feature Engineering (Part 3)\n",
    "###### Next lets drop columns that will not be useful in machine learning or leak data about the final sale\n",
    "\n",
    "###### The order column is just an index of when the observation was made we could expect no correlation here.\n",
    "\n",
    "###### The PID is the parcel indentification used with the city website for parcel reviews, this also would be expected to have no correlation"
   ]
  },
  {
   "cell_type": "code",
   "execution_count": 27,
   "metadata": {
    "collapsed": false
   },
   "outputs": [
    {
     "data": {
      "text/plain": [
       "Order   -0.031542\n",
       "PID     -0.246389\n",
       "Name: SalePrice, dtype: float64"
      ]
     },
     "execution_count": 27,
     "metadata": {},
     "output_type": "execute_result"
    }
   ],
   "source": [
    "housing.corr()['SalePrice'][['Order', 'PID']].sort_values(ascending= False)"
   ]
  },
  {
   "cell_type": "markdown",
   "metadata": {},
   "source": [
    "###### Suprisingly PID does have some correlation although weak."
   ]
  },
  {
   "cell_type": "markdown",
   "metadata": {},
   "source": [
    "###### We have lots of colums that would leak information about the final sale price: month sold year sold, sale type, sale condition.\n",
    "\n",
    "###### For review these columns are fine but in creating a machine learning model we cannot be using information that would be unknown in a prediction\n",
    "\n",
    "###### So lets drop these columns"
   ]
  },
  {
   "cell_type": "code",
   "execution_count": 28,
   "metadata": {
    "collapsed": false
   },
   "outputs": [],
   "source": [
    "housing = housing.drop([\"Mo Sold\", \"Sale Condition\", \"Sale Type\", \"Yr Sold\"], axis=1)"
   ]
  },
  {
   "cell_type": "markdown",
   "metadata": {},
   "source": [
    "Now lets update the transform features function to include what we have been performing above."
   ]
  },
  {
   "cell_type": "code",
   "execution_count": 29,
   "metadata": {
    "collapsed": false,
    "scrolled": true
   },
   "outputs": [
    {
     "data": {
      "text/plain": [
       "55275.36731241307"
      ]
     },
     "execution_count": 29,
     "metadata": {},
     "output_type": "execute_result"
    }
   ],
   "source": [
    "def transform_features(df):\n",
    "    #remove numerical columns with les\n",
    "    missing_data = df.isnull().sum()\n",
    "    drop_missing_data_columns = missing_data[(missing_data > len(df)*.05)].sort_values()\n",
    "    df = df.drop(drop_missing_data_columns.index, axis =1)    \n",
    "    #Keep text columns with no missing values#\n",
    "    text_missing = df.select_dtypes(include = ['object']).isnull().sum().sort_values(ascending = False)\n",
    "    text_missing_cols = text_missing[text_missing >0]\n",
    "    df = df.drop(text_missing_cols.index, axis =1)  \n",
    "    #Keep remaining numerical columns and fill in missing data#\n",
    "    numerical_missing = df.select_dtypes(include = ['int','float']).isnull().sum()\n",
    "    fixable_numerical_columns = numerical_missing[numerical_missing > 0].sort_values()\n",
    "    #Replace missing numerics with the mode of each respective column#\n",
    "    value_replacement_dictionary = df[fixable_numerical_columns.index].mode().to_dict(orient='records')[0]\n",
    "    df = df.fillna(value_replacement_dictionary)\n",
    "    #Create Years Before Sale and Years Since Remod#\n",
    "    years_sold = df['Yr Sold'] - df['Year Built']\n",
    "    years_since_remod = df['Yr Sold'] - df['Year Remod/Add']\n",
    "    df['Years Before Sale'] = years_sold\n",
    "    df['Years Since Remod'] = years_since_remod\n",
    "    #Remove rows with clearly incorrect inputs (negative year differences) #\n",
    "    df = df.drop([1702, 2180, 2181], axis=0)\n",
    "    #Remove columns with no relevance or leak target information#\n",
    "    df = df.drop([\"PID\", \"Order\", \"Mo Sold\", \"Sale Condition\", \"Sale Type\", \"Year Built\", \"Year Remod/Add\"], axis=1)\n",
    "    return df\n",
    "\n",
    "#Test the updated model#\n",
    "df = pd.read_csv(\"AmesHousing.tsv\", delimiter=\"\\t\")\n",
    "transform_df = transform_features(df)\n",
    "filtered_df = select_features(transform_df)\n",
    "rmse = train_and_test(filtered_df)\n",
    "\n",
    "rmse"
   ]
  },
  {
   "cell_type": "markdown",
   "metadata": {},
   "source": [
    "###### Our Root Mean Squared Error has reduced from 57088 to 55275 (a 3% reduction)"
   ]
  },
  {
   "cell_type": "markdown",
   "metadata": {},
   "source": [
    "### Feature Selection\n",
    "\n",
    "###### What features would be good for our linear regression model?\n",
    "\n",
    "###### Clearly ones that have good linear correlation, so lets see what numerical columns correlate well:"
   ]
  },
  {
   "cell_type": "code",
   "execution_count": 30,
   "metadata": {
    "collapsed": false
   },
   "outputs": [
    {
     "data": {
      "text/plain": [
       "SalePrice            1.000000\n",
       "Overall Qual         0.801206\n",
       "Gr Liv Area          0.717596\n",
       "Garage Cars          0.648361\n",
       "Total Bsmt SF        0.644012\n",
       "Garage Area          0.641425\n",
       "1st Flr SF           0.635185\n",
       "Years Before Sale    0.558979\n",
       "Full Bath            0.546118\n",
       "Years Since Remod    0.534985\n",
       "Mas Vnr Area         0.506983\n",
       "TotRms AbvGrd        0.498574\n",
       "Fireplaces           0.474831\n",
       "BsmtFin SF 1         0.439284\n",
       "Wood Deck SF         0.328183\n",
       "Open Porch SF        0.316262\n",
       "Half Bath            0.284871\n",
       "Bsmt Full Bath       0.276258\n",
       "2nd Flr SF           0.269601\n",
       "Lot Area             0.267520\n",
       "Bsmt Unf SF          0.182751\n",
       "Bedroom AbvGr        0.143916\n",
       "Enclosed Porch       0.128685\n",
       "Kitchen AbvGr        0.119760\n",
       "Screen Porch         0.112280\n",
       "Overall Cond         0.101540\n",
       "MS SubClass          0.085128\n",
       "Pool Area            0.068438\n",
       "Low Qual Fin SF      0.037629\n",
       "Bsmt Half Bath       0.035875\n",
       "3Ssn Porch           0.032268\n",
       "Yr Sold              0.030358\n",
       "Misc Val             0.019273\n",
       "BsmtFin SF 2         0.006127\n",
       "Name: SalePrice, dtype: float64"
      ]
     },
     "execution_count": 30,
     "metadata": {},
     "output_type": "execute_result"
    }
   ],
   "source": [
    "numerical_housing = transform_df.select_dtypes(include = ['int', 'float'])\n",
    "absolute_num_correlation = numerical_housing.corr()['SalePrice'].abs().sort_values(ascending= False)\n",
    "absolute_num_correlation"
   ]
  },
  {
   "cell_type": "markdown",
   "metadata": {},
   "source": [
    "###### Clearly there is a trade off here, poor correlating features can give unwanted noise (and reduced accuracy) as well as increasing the model creation time.\n",
    "\n",
    "###### To few and we may have suffer bias.\n",
    "\n",
    "###### For now lets select any feature column with a value of 0.4 or greater correlation."
   ]
  },
  {
   "cell_type": "code",
   "execution_count": 31,
   "metadata": {
    "collapsed": false
   },
   "outputs": [
    {
     "data": {
      "text/plain": [
       "Wood Deck SF       0.328183\n",
       "Open Porch SF      0.316262\n",
       "Half Bath          0.284871\n",
       "Bsmt Full Bath     0.276258\n",
       "2nd Flr SF         0.269601\n",
       "Lot Area           0.267520\n",
       "Bsmt Unf SF        0.182751\n",
       "Bedroom AbvGr      0.143916\n",
       "Enclosed Porch     0.128685\n",
       "Kitchen AbvGr      0.119760\n",
       "Screen Porch       0.112280\n",
       "Overall Cond       0.101540\n",
       "MS SubClass        0.085128\n",
       "Pool Area          0.068438\n",
       "Low Qual Fin SF    0.037629\n",
       "Bsmt Half Bath     0.035875\n",
       "3Ssn Porch         0.032268\n",
       "Yr Sold            0.030358\n",
       "Misc Val           0.019273\n",
       "BsmtFin SF 2       0.006127\n",
       "Name: SalePrice, dtype: float64"
      ]
     },
     "execution_count": 31,
     "metadata": {},
     "output_type": "execute_result"
    }
   ],
   "source": [
    "corr_features_to_remove = absolute_num_correlation[absolute_num_correlation <0.4]\n",
    "corr_features_to_remove"
   ]
  },
  {
   "cell_type": "code",
   "execution_count": 32,
   "metadata": {
    "collapsed": true
   },
   "outputs": [],
   "source": [
    "transform_df = transform_df.drop(corr_features_to_remove.index, axis=1)"
   ]
  },
  {
   "cell_type": "code",
   "execution_count": 33,
   "metadata": {
    "collapsed": false
   },
   "outputs": [
    {
     "data": {
      "text/plain": [
       "39"
      ]
     },
     "execution_count": 33,
     "metadata": {},
     "output_type": "execute_result"
    }
   ],
   "source": [
    "len(transform_df.columns.tolist())"
   ]
  },
  {
   "cell_type": "markdown",
   "metadata": {},
   "source": [
    "###### We still have 38 features (columns) for the model (the 39th being our target SalePrice) \n",
    "\n",
    "###### From the data source literature ([here](http://jse.amstat.org/v19n3/decock/DataDocumentation.txt)) we can see multiple columns should be categorical"
   ]
  },
  {
   "cell_type": "code",
   "execution_count": 34,
   "metadata": {
    "collapsed": true
   },
   "outputs": [],
   "source": [
    "#Here is a list of columns that according to the documentation are meant to be categorical#\n",
    "nominal_features = [\"PID\", \"MS SubClass\", \"MS Zoning\", \"Street\", \"Alley\", \"Land Contour\", \"Lot Config\", \"Neighborhood\", \n",
    "                    \"Condition 1\", \"Condition 2\", \"Bldg Type\", \"House Style\", \"Roof Style\", \"Roof Matl\", \"Exterior 1st\", \n",
    "                    \"Exterior 2nd\", \"Mas Vnr Type\", \"Foundation\", \"Heating\", \"Central Air\", \"Garage Type\", \n",
    "                    \"Misc Feature\", \"Sale Type\", \"Sale Condition\"]"
   ]
  },
  {
   "cell_type": "markdown",
   "metadata": {},
   "source": [
    "###### - Which columns are currently numerical but should be classed as categorical (as the numbers dont have correct scalable meaning\n",
    "\n",
    "###### - If a categorical column has vast unique values ( >10 say) then we will generate large amounts of columns (as each category variable will get a category with data of 0 or 1)"
   ]
  },
  {
   "cell_type": "code",
   "execution_count": 35,
   "metadata": {
    "collapsed": false
   },
   "outputs": [
    {
     "name": "stdout",
     "output_type": "stream",
     "text": [
      "There are 16 columns that are interpretted as numeric but are really categorical:\n",
      "\n",
      "\n",
      "['MS Zoning', 'Street', 'Land Contour', 'Lot Config', 'Neighborhood', 'Condition 1', 'Condition 2', 'Bldg Type', 'House Style', 'Roof Style', 'Roof Matl', 'Exterior 1st', 'Exterior 2nd', 'Foundation', 'Heating', 'Central Air']\n"
     ]
    }
   ],
   "source": [
    "#Out of the remaining feautres which should be categorical#\n",
    "transform_cat_cols = []\n",
    "for col in nominal_features:\n",
    "    if col in transform_df.columns:\n",
    "        transform_cat_cols.append(col)\n",
    "print('There are', len(transform_cat_cols), 'columns that are interpretted as numeric but are really categorical:')\n",
    "print('\\n')\n",
    "print(transform_cat_cols)"
   ]
  },
  {
   "cell_type": "code",
   "execution_count": 36,
   "metadata": {
    "collapsed": false
   },
   "outputs": [
    {
     "data": {
      "text/plain": [
       "Neighborhood    28\n",
       "Exterior 2nd    17\n",
       "Exterior 1st    16\n",
       "Condition 1      9\n",
       "Roof Matl        8\n",
       "House Style      8\n",
       "Condition 2      8\n",
       "MS Zoning        7\n",
       "Heating          6\n",
       "Foundation       6\n",
       "Roof Style       6\n",
       "Bldg Type        5\n",
       "Lot Config       5\n",
       "Land Contour     4\n",
       "Central Air      2\n",
       "Street           2\n",
       "dtype: int64"
      ]
     },
     "execution_count": 36,
     "metadata": {},
     "output_type": "execute_result"
    }
   ],
   "source": [
    "#How many unique values are there in each category#\n",
    "unique_values = transform_df[transform_cat_cols].apply(lambda x: len(x.value_counts())).sort_values(ascending=False)\n",
    "unique_values"
   ]
  },
  {
   "cell_type": "markdown",
   "metadata": {},
   "source": [
    "###### We have a range of options here and have to make an arbitary cut off.\n",
    "\n",
    "###### Lets use a cutoff of 10 features, this will remove only 3 of the above features"
   ]
  },
  {
   "cell_type": "code",
   "execution_count": 37,
   "metadata": {
    "collapsed": false,
    "scrolled": true
   },
   "outputs": [
    {
     "data": {
      "text/html": [
       "<div>\n",
       "<style scoped>\n",
       "    .dataframe tbody tr th:only-of-type {\n",
       "        vertical-align: middle;\n",
       "    }\n",
       "\n",
       "    .dataframe tbody tr th {\n",
       "        vertical-align: top;\n",
       "    }\n",
       "\n",
       "    .dataframe thead th {\n",
       "        text-align: right;\n",
       "    }\n",
       "</style>\n",
       "<table border=\"1\" class=\"dataframe\">\n",
       "  <thead>\n",
       "    <tr style=\"text-align: right;\">\n",
       "      <th></th>\n",
       "      <th>MS Zoning</th>\n",
       "      <th>Street</th>\n",
       "      <th>Lot Shape</th>\n",
       "      <th>Land Contour</th>\n",
       "      <th>Utilities</th>\n",
       "      <th>Lot Config</th>\n",
       "      <th>Land Slope</th>\n",
       "      <th>Condition 1</th>\n",
       "      <th>Condition 2</th>\n",
       "      <th>Bldg Type</th>\n",
       "      <th>House Style</th>\n",
       "      <th>Overall Qual</th>\n",
       "      <th>Roof Style</th>\n",
       "      <th>Roof Matl</th>\n",
       "      <th>Mas Vnr Area</th>\n",
       "      <th>Exter Qual</th>\n",
       "      <th>Exter Cond</th>\n",
       "      <th>Foundation</th>\n",
       "      <th>BsmtFin SF 1</th>\n",
       "      <th>Total Bsmt SF</th>\n",
       "      <th>Heating</th>\n",
       "      <th>Heating QC</th>\n",
       "      <th>Central Air</th>\n",
       "      <th>1st Flr SF</th>\n",
       "      <th>Gr Liv Area</th>\n",
       "      <th>Full Bath</th>\n",
       "      <th>Kitchen Qual</th>\n",
       "      <th>TotRms AbvGrd</th>\n",
       "      <th>Functional</th>\n",
       "      <th>Fireplaces</th>\n",
       "      <th>Garage Cars</th>\n",
       "      <th>Garage Area</th>\n",
       "      <th>Paved Drive</th>\n",
       "      <th>SalePrice</th>\n",
       "      <th>Years Before Sale</th>\n",
       "      <th>Years Since Remod</th>\n",
       "    </tr>\n",
       "  </thead>\n",
       "  <tbody>\n",
       "    <tr>\n",
       "      <th>567</th>\n",
       "      <td>FV</td>\n",
       "      <td>Pave</td>\n",
       "      <td>Reg</td>\n",
       "      <td>Lvl</td>\n",
       "      <td>AllPub</td>\n",
       "      <td>Inside</td>\n",
       "      <td>Gtl</td>\n",
       "      <td>Norm</td>\n",
       "      <td>Norm</td>\n",
       "      <td>TwnhsE</td>\n",
       "      <td>2Story</td>\n",
       "      <td>6</td>\n",
       "      <td>Gable</td>\n",
       "      <td>CompShg</td>\n",
       "      <td>76.0</td>\n",
       "      <td>Gd</td>\n",
       "      <td>TA</td>\n",
       "      <td>PConc</td>\n",
       "      <td>294.0</td>\n",
       "      <td>612.0</td>\n",
       "      <td>GasA</td>\n",
       "      <td>Ex</td>\n",
       "      <td>Y</td>\n",
       "      <td>612</td>\n",
       "      <td>1224</td>\n",
       "      <td>2</td>\n",
       "      <td>Gd</td>\n",
       "      <td>4</td>\n",
       "      <td>Typ</td>\n",
       "      <td>0</td>\n",
       "      <td>2.0</td>\n",
       "      <td>528.0</td>\n",
       "      <td>Y</td>\n",
       "      <td>173733</td>\n",
       "      <td>0</td>\n",
       "      <td>0</td>\n",
       "    </tr>\n",
       "    <tr>\n",
       "      <th>2477</th>\n",
       "      <td>RL</td>\n",
       "      <td>Pave</td>\n",
       "      <td>IR1</td>\n",
       "      <td>Lvl</td>\n",
       "      <td>AllPub</td>\n",
       "      <td>Inside</td>\n",
       "      <td>Gtl</td>\n",
       "      <td>Norm</td>\n",
       "      <td>Norm</td>\n",
       "      <td>1Fam</td>\n",
       "      <td>2Story</td>\n",
       "      <td>6</td>\n",
       "      <td>Gable</td>\n",
       "      <td>CompShg</td>\n",
       "      <td>0.0</td>\n",
       "      <td>TA</td>\n",
       "      <td>TA</td>\n",
       "      <td>PConc</td>\n",
       "      <td>0.0</td>\n",
       "      <td>941.0</td>\n",
       "      <td>GasA</td>\n",
       "      <td>Ex</td>\n",
       "      <td>Y</td>\n",
       "      <td>941</td>\n",
       "      <td>1837</td>\n",
       "      <td>2</td>\n",
       "      <td>TA</td>\n",
       "      <td>7</td>\n",
       "      <td>Typ</td>\n",
       "      <td>0</td>\n",
       "      <td>2.0</td>\n",
       "      <td>688.0</td>\n",
       "      <td>Y</td>\n",
       "      <td>187000</td>\n",
       "      <td>9</td>\n",
       "      <td>8</td>\n",
       "    </tr>\n",
       "    <tr>\n",
       "      <th>2379</th>\n",
       "      <td>RL</td>\n",
       "      <td>Pave</td>\n",
       "      <td>IR1</td>\n",
       "      <td>Lvl</td>\n",
       "      <td>AllPub</td>\n",
       "      <td>Inside</td>\n",
       "      <td>Gtl</td>\n",
       "      <td>Norm</td>\n",
       "      <td>Norm</td>\n",
       "      <td>1Fam</td>\n",
       "      <td>2Story</td>\n",
       "      <td>9</td>\n",
       "      <td>Hip</td>\n",
       "      <td>CompShg</td>\n",
       "      <td>215.0</td>\n",
       "      <td>Gd</td>\n",
       "      <td>TA</td>\n",
       "      <td>PConc</td>\n",
       "      <td>1369.0</td>\n",
       "      <td>1738.0</td>\n",
       "      <td>GasA</td>\n",
       "      <td>Gd</td>\n",
       "      <td>Y</td>\n",
       "      <td>1738</td>\n",
       "      <td>2589</td>\n",
       "      <td>2</td>\n",
       "      <td>Ex</td>\n",
       "      <td>11</td>\n",
       "      <td>Typ</td>\n",
       "      <td>1</td>\n",
       "      <td>3.0</td>\n",
       "      <td>831.0</td>\n",
       "      <td>Y</td>\n",
       "      <td>412083</td>\n",
       "      <td>0</td>\n",
       "      <td>0</td>\n",
       "    </tr>\n",
       "    <tr>\n",
       "      <th>617</th>\n",
       "      <td>RL</td>\n",
       "      <td>Pave</td>\n",
       "      <td>Reg</td>\n",
       "      <td>Lvl</td>\n",
       "      <td>AllPub</td>\n",
       "      <td>Inside</td>\n",
       "      <td>Gtl</td>\n",
       "      <td>Feedr</td>\n",
       "      <td>Norm</td>\n",
       "      <td>1Fam</td>\n",
       "      <td>1Story</td>\n",
       "      <td>6</td>\n",
       "      <td>Gable</td>\n",
       "      <td>CompShg</td>\n",
       "      <td>0.0</td>\n",
       "      <td>Gd</td>\n",
       "      <td>TA</td>\n",
       "      <td>CBlock</td>\n",
       "      <td>1173.0</td>\n",
       "      <td>1680.0</td>\n",
       "      <td>GasA</td>\n",
       "      <td>TA</td>\n",
       "      <td>Y</td>\n",
       "      <td>1691</td>\n",
       "      <td>1691</td>\n",
       "      <td>1</td>\n",
       "      <td>TA</td>\n",
       "      <td>5</td>\n",
       "      <td>Typ</td>\n",
       "      <td>0</td>\n",
       "      <td>2.0</td>\n",
       "      <td>550.0</td>\n",
       "      <td>Y</td>\n",
       "      <td>175000</td>\n",
       "      <td>42</td>\n",
       "      <td>42</td>\n",
       "    </tr>\n",
       "    <tr>\n",
       "      <th>1226</th>\n",
       "      <td>RL</td>\n",
       "      <td>Pave</td>\n",
       "      <td>Reg</td>\n",
       "      <td>Lvl</td>\n",
       "      <td>AllPub</td>\n",
       "      <td>Inside</td>\n",
       "      <td>Gtl</td>\n",
       "      <td>Norm</td>\n",
       "      <td>Norm</td>\n",
       "      <td>1Fam</td>\n",
       "      <td>SLvl</td>\n",
       "      <td>6</td>\n",
       "      <td>Hip</td>\n",
       "      <td>CompShg</td>\n",
       "      <td>0.0</td>\n",
       "      <td>TA</td>\n",
       "      <td>TA</td>\n",
       "      <td>CBlock</td>\n",
       "      <td>831.0</td>\n",
       "      <td>992.0</td>\n",
       "      <td>GasA</td>\n",
       "      <td>Gd</td>\n",
       "      <td>Y</td>\n",
       "      <td>1661</td>\n",
       "      <td>1661</td>\n",
       "      <td>1</td>\n",
       "      <td>Gd</td>\n",
       "      <td>8</td>\n",
       "      <td>Typ</td>\n",
       "      <td>1</td>\n",
       "      <td>1.0</td>\n",
       "      <td>377.0</td>\n",
       "      <td>Y</td>\n",
       "      <td>165500</td>\n",
       "      <td>53</td>\n",
       "      <td>12</td>\n",
       "    </tr>\n",
       "  </tbody>\n",
       "</table>\n",
       "</div>"
      ],
      "text/plain": [
       "     MS Zoning Street Lot Shape Land Contour Utilities Lot Config Land Slope  \\\n",
       "567         FV   Pave       Reg          Lvl    AllPub     Inside        Gtl   \n",
       "2477        RL   Pave       IR1          Lvl    AllPub     Inside        Gtl   \n",
       "2379        RL   Pave       IR1          Lvl    AllPub     Inside        Gtl   \n",
       "617         RL   Pave       Reg          Lvl    AllPub     Inside        Gtl   \n",
       "1226        RL   Pave       Reg          Lvl    AllPub     Inside        Gtl   \n",
       "\n",
       "     Condition 1 Condition 2 Bldg Type House Style  Overall Qual Roof Style  \\\n",
       "567         Norm        Norm    TwnhsE      2Story             6      Gable   \n",
       "2477        Norm        Norm      1Fam      2Story             6      Gable   \n",
       "2379        Norm        Norm      1Fam      2Story             9        Hip   \n",
       "617        Feedr        Norm      1Fam      1Story             6      Gable   \n",
       "1226        Norm        Norm      1Fam        SLvl             6        Hip   \n",
       "\n",
       "     Roof Matl  Mas Vnr Area Exter Qual Exter Cond Foundation  BsmtFin SF 1  \\\n",
       "567    CompShg          76.0         Gd         TA      PConc         294.0   \n",
       "2477   CompShg           0.0         TA         TA      PConc           0.0   \n",
       "2379   CompShg         215.0         Gd         TA      PConc        1369.0   \n",
       "617    CompShg           0.0         Gd         TA     CBlock        1173.0   \n",
       "1226   CompShg           0.0         TA         TA     CBlock         831.0   \n",
       "\n",
       "      Total Bsmt SF Heating Heating QC Central Air  1st Flr SF  Gr Liv Area  \\\n",
       "567           612.0    GasA         Ex           Y         612         1224   \n",
       "2477          941.0    GasA         Ex           Y         941         1837   \n",
       "2379         1738.0    GasA         Gd           Y        1738         2589   \n",
       "617          1680.0    GasA         TA           Y        1691         1691   \n",
       "1226          992.0    GasA         Gd           Y        1661         1661   \n",
       "\n",
       "      Full Bath Kitchen Qual  TotRms AbvGrd Functional  Fireplaces  \\\n",
       "567           2           Gd              4        Typ           0   \n",
       "2477          2           TA              7        Typ           0   \n",
       "2379          2           Ex             11        Typ           1   \n",
       "617           1           TA              5        Typ           0   \n",
       "1226          1           Gd              8        Typ           1   \n",
       "\n",
       "      Garage Cars  Garage Area Paved Drive  SalePrice  Years Before Sale  \\\n",
       "567           2.0        528.0           Y     173733                  0   \n",
       "2477          2.0        688.0           Y     187000                  9   \n",
       "2379          3.0        831.0           Y     412083                  0   \n",
       "617           2.0        550.0           Y     175000                 42   \n",
       "1226          1.0        377.0           Y     165500                 53   \n",
       "\n",
       "      Years Since Remod  \n",
       "567                   0  \n",
       "2477                  8  \n",
       "2379                  0  \n",
       "617                  42  \n",
       "1226                 12  "
      ]
     },
     "execution_count": 37,
     "metadata": {},
     "output_type": "execute_result"
    }
   ],
   "source": [
    "columns_to_drop_10_plus = unique_values[unique_values >10].index\n",
    "transform_df = transform_df.drop(columns_to_drop_10_plus, axis=1)\n",
    "transform_df.sample(5)"
   ]
  },
  {
   "cell_type": "markdown",
   "metadata": {},
   "source": [
    "###### Next lets remove categories that have are ordered but cannot be easily converted to numbers\n",
    "\n",
    "###### For instance Kitchen Quality is:\n",
    " - ###### Ex = \tExcellent\n",
    " - ###### Gd =\tGood\n",
    " - ###### TA =\tTypical/Average\n",
    " - ###### Fa =\tFair\n",
    " - ###### Po =\tPoor\n",
    " \n",
    "######  This is very difficult to assign weightings for in machine learning, is average a 0.5 out of 1, or is excellent orders of magnitude greater than average?\n",
    " \n",
    "###### With correct domain knowledge this could possibly be known, but here we will simply have to remove these columns."
   ]
  },
  {
   "cell_type": "code",
   "execution_count": 38,
   "metadata": {
    "collapsed": false
   },
   "outputs": [
    {
     "data": {
      "text/plain": [
       "['Kitchen Qual',\n",
       " 'Functional',\n",
       " 'Utilities',\n",
       " 'Exter Qual',\n",
       " 'Lot Shape',\n",
       " 'Paved Drive',\n",
       " 'Exter Cond',\n",
       " 'Land Slope',\n",
       " 'Heating QC']"
      ]
     },
     "execution_count": 38,
     "metadata": {},
     "output_type": "execute_result"
    }
   ],
   "source": [
    "categories_to_remove = list(set(transform_df.select_dtypes(include = 'object').columns) \n",
    "     - set(unique_values[unique_values <10].index))\n",
    "categories_to_remove"
   ]
  },
  {
   "cell_type": "code",
   "execution_count": 39,
   "metadata": {
    "collapsed": false,
    "scrolled": true
   },
   "outputs": [],
   "source": [
    "transform_df = transform_df.drop(categories_to_remove, axis =1)"
   ]
  },
  {
   "cell_type": "code",
   "execution_count": 40,
   "metadata": {
    "collapsed": false
   },
   "outputs": [
    {
     "data": {
      "text/html": [
       "<div>\n",
       "<style scoped>\n",
       "    .dataframe tbody tr th:only-of-type {\n",
       "        vertical-align: middle;\n",
       "    }\n",
       "\n",
       "    .dataframe tbody tr th {\n",
       "        vertical-align: top;\n",
       "    }\n",
       "\n",
       "    .dataframe thead th {\n",
       "        text-align: right;\n",
       "    }\n",
       "</style>\n",
       "<table border=\"1\" class=\"dataframe\">\n",
       "  <thead>\n",
       "    <tr style=\"text-align: right;\">\n",
       "      <th></th>\n",
       "      <th>MS Zoning</th>\n",
       "      <th>Street</th>\n",
       "      <th>Land Contour</th>\n",
       "      <th>Lot Config</th>\n",
       "      <th>Condition 1</th>\n",
       "      <th>Condition 2</th>\n",
       "      <th>Bldg Type</th>\n",
       "      <th>House Style</th>\n",
       "      <th>Overall Qual</th>\n",
       "      <th>Roof Style</th>\n",
       "      <th>Roof Matl</th>\n",
       "      <th>Mas Vnr Area</th>\n",
       "      <th>Foundation</th>\n",
       "      <th>BsmtFin SF 1</th>\n",
       "      <th>Total Bsmt SF</th>\n",
       "      <th>Heating</th>\n",
       "      <th>Central Air</th>\n",
       "      <th>1st Flr SF</th>\n",
       "      <th>Gr Liv Area</th>\n",
       "      <th>Full Bath</th>\n",
       "      <th>TotRms AbvGrd</th>\n",
       "      <th>Fireplaces</th>\n",
       "      <th>Garage Cars</th>\n",
       "      <th>Garage Area</th>\n",
       "      <th>SalePrice</th>\n",
       "      <th>Years Before Sale</th>\n",
       "      <th>Years Since Remod</th>\n",
       "    </tr>\n",
       "  </thead>\n",
       "  <tbody>\n",
       "    <tr>\n",
       "      <th>2858</th>\n",
       "      <td>RL</td>\n",
       "      <td>Pave</td>\n",
       "      <td>Lvl</td>\n",
       "      <td>Inside</td>\n",
       "      <td>Norm</td>\n",
       "      <td>Norm</td>\n",
       "      <td>1Fam</td>\n",
       "      <td>2Story</td>\n",
       "      <td>6</td>\n",
       "      <td>Gable</td>\n",
       "      <td>CompShg</td>\n",
       "      <td>0.0</td>\n",
       "      <td>PConc</td>\n",
       "      <td>0.0</td>\n",
       "      <td>817.0</td>\n",
       "      <td>GasA</td>\n",
       "      <td>Y</td>\n",
       "      <td>940</td>\n",
       "      <td>1550</td>\n",
       "      <td>1</td>\n",
       "      <td>7</td>\n",
       "      <td>1</td>\n",
       "      <td>1.0</td>\n",
       "      <td>318.0</td>\n",
       "      <td>195000</td>\n",
       "      <td>86</td>\n",
       "      <td>56</td>\n",
       "    </tr>\n",
       "    <tr>\n",
       "      <th>860</th>\n",
       "      <td>RL</td>\n",
       "      <td>Pave</td>\n",
       "      <td>Lvl</td>\n",
       "      <td>Inside</td>\n",
       "      <td>Norm</td>\n",
       "      <td>Norm</td>\n",
       "      <td>1Fam</td>\n",
       "      <td>SFoyer</td>\n",
       "      <td>5</td>\n",
       "      <td>Gable</td>\n",
       "      <td>CompShg</td>\n",
       "      <td>0.0</td>\n",
       "      <td>CBlock</td>\n",
       "      <td>660.0</td>\n",
       "      <td>768.0</td>\n",
       "      <td>GasA</td>\n",
       "      <td>Y</td>\n",
       "      <td>768</td>\n",
       "      <td>768</td>\n",
       "      <td>1</td>\n",
       "      <td>5</td>\n",
       "      <td>0</td>\n",
       "      <td>1.0</td>\n",
       "      <td>396.0</td>\n",
       "      <td>133900</td>\n",
       "      <td>37</td>\n",
       "      <td>6</td>\n",
       "    </tr>\n",
       "    <tr>\n",
       "      <th>1139</th>\n",
       "      <td>RL</td>\n",
       "      <td>Pave</td>\n",
       "      <td>Lvl</td>\n",
       "      <td>Inside</td>\n",
       "      <td>Norm</td>\n",
       "      <td>Norm</td>\n",
       "      <td>1Fam</td>\n",
       "      <td>2Story</td>\n",
       "      <td>6</td>\n",
       "      <td>Gable</td>\n",
       "      <td>CompShg</td>\n",
       "      <td>38.0</td>\n",
       "      <td>PConc</td>\n",
       "      <td>362.0</td>\n",
       "      <td>754.0</td>\n",
       "      <td>GasA</td>\n",
       "      <td>Y</td>\n",
       "      <td>754</td>\n",
       "      <td>1609</td>\n",
       "      <td>2</td>\n",
       "      <td>6</td>\n",
       "      <td>0</td>\n",
       "      <td>2.0</td>\n",
       "      <td>525.0</td>\n",
       "      <td>182000</td>\n",
       "      <td>13</td>\n",
       "      <td>13</td>\n",
       "    </tr>\n",
       "    <tr>\n",
       "      <th>1127</th>\n",
       "      <td>FV</td>\n",
       "      <td>Pave</td>\n",
       "      <td>Lvl</td>\n",
       "      <td>Inside</td>\n",
       "      <td>Norm</td>\n",
       "      <td>Norm</td>\n",
       "      <td>1Fam</td>\n",
       "      <td>2Story</td>\n",
       "      <td>7</td>\n",
       "      <td>Gable</td>\n",
       "      <td>CompShg</td>\n",
       "      <td>0.0</td>\n",
       "      <td>PConc</td>\n",
       "      <td>0.0</td>\n",
       "      <td>813.0</td>\n",
       "      <td>GasA</td>\n",
       "      <td>Y</td>\n",
       "      <td>822</td>\n",
       "      <td>1665</td>\n",
       "      <td>2</td>\n",
       "      <td>7</td>\n",
       "      <td>0</td>\n",
       "      <td>2.0</td>\n",
       "      <td>562.0</td>\n",
       "      <td>205950</td>\n",
       "      <td>1</td>\n",
       "      <td>1</td>\n",
       "    </tr>\n",
       "    <tr>\n",
       "      <th>2267</th>\n",
       "      <td>RL</td>\n",
       "      <td>Pave</td>\n",
       "      <td>Lvl</td>\n",
       "      <td>Inside</td>\n",
       "      <td>Norm</td>\n",
       "      <td>Norm</td>\n",
       "      <td>1Fam</td>\n",
       "      <td>1Story</td>\n",
       "      <td>8</td>\n",
       "      <td>Gable</td>\n",
       "      <td>CompShg</td>\n",
       "      <td>86.0</td>\n",
       "      <td>PConc</td>\n",
       "      <td>250.0</td>\n",
       "      <td>1267.0</td>\n",
       "      <td>GasA</td>\n",
       "      <td>Y</td>\n",
       "      <td>1312</td>\n",
       "      <td>1312</td>\n",
       "      <td>2</td>\n",
       "      <td>5</td>\n",
       "      <td>0</td>\n",
       "      <td>2.0</td>\n",
       "      <td>471.0</td>\n",
       "      <td>180500</td>\n",
       "      <td>6</td>\n",
       "      <td>6</td>\n",
       "    </tr>\n",
       "  </tbody>\n",
       "</table>\n",
       "</div>"
      ],
      "text/plain": [
       "     MS Zoning Street Land Contour Lot Config Condition 1 Condition 2  \\\n",
       "2858        RL   Pave          Lvl     Inside        Norm        Norm   \n",
       "860         RL   Pave          Lvl     Inside        Norm        Norm   \n",
       "1139        RL   Pave          Lvl     Inside        Norm        Norm   \n",
       "1127        FV   Pave          Lvl     Inside        Norm        Norm   \n",
       "2267        RL   Pave          Lvl     Inside        Norm        Norm   \n",
       "\n",
       "     Bldg Type House Style  Overall Qual Roof Style Roof Matl  Mas Vnr Area  \\\n",
       "2858      1Fam      2Story             6      Gable   CompShg           0.0   \n",
       "860       1Fam      SFoyer             5      Gable   CompShg           0.0   \n",
       "1139      1Fam      2Story             6      Gable   CompShg          38.0   \n",
       "1127      1Fam      2Story             7      Gable   CompShg           0.0   \n",
       "2267      1Fam      1Story             8      Gable   CompShg          86.0   \n",
       "\n",
       "     Foundation  BsmtFin SF 1  Total Bsmt SF Heating Central Air  1st Flr SF  \\\n",
       "2858      PConc           0.0          817.0    GasA           Y         940   \n",
       "860      CBlock         660.0          768.0    GasA           Y         768   \n",
       "1139      PConc         362.0          754.0    GasA           Y         754   \n",
       "1127      PConc           0.0          813.0    GasA           Y         822   \n",
       "2267      PConc         250.0         1267.0    GasA           Y        1312   \n",
       "\n",
       "      Gr Liv Area  Full Bath  TotRms AbvGrd  Fireplaces  Garage Cars  \\\n",
       "2858         1550          1              7           1          1.0   \n",
       "860           768          1              5           0          1.0   \n",
       "1139         1609          2              6           0          2.0   \n",
       "1127         1665          2              7           0          2.0   \n",
       "2267         1312          2              5           0          2.0   \n",
       "\n",
       "      Garage Area  SalePrice  Years Before Sale  Years Since Remod  \n",
       "2858        318.0     195000                 86                 56  \n",
       "860         396.0     133900                 37                  6  \n",
       "1139        525.0     182000                 13                 13  \n",
       "1127        562.0     205950                  1                  1  \n",
       "2267        471.0     180500                  6                  6  "
      ]
     },
     "execution_count": 40,
     "metadata": {},
     "output_type": "execute_result"
    }
   ],
   "source": [
    "transform_df.sample(5)"
   ]
  },
  {
   "cell_type": "code",
   "execution_count": 41,
   "metadata": {
    "collapsed": false
   },
   "outputs": [
    {
     "data": {
      "text/html": [
       "<div>\n",
       "<style scoped>\n",
       "    .dataframe tbody tr th:only-of-type {\n",
       "        vertical-align: middle;\n",
       "    }\n",
       "\n",
       "    .dataframe tbody tr th {\n",
       "        vertical-align: top;\n",
       "    }\n",
       "\n",
       "    .dataframe thead th {\n",
       "        text-align: right;\n",
       "    }\n",
       "</style>\n",
       "<table border=\"1\" class=\"dataframe\">\n",
       "  <thead>\n",
       "    <tr style=\"text-align: right;\">\n",
       "      <th></th>\n",
       "      <th>Corner</th>\n",
       "      <th>CulDSac</th>\n",
       "      <th>FR2</th>\n",
       "      <th>FR3</th>\n",
       "      <th>Inside</th>\n",
       "    </tr>\n",
       "  </thead>\n",
       "  <tbody>\n",
       "    <tr>\n",
       "      <th>0</th>\n",
       "      <td>1</td>\n",
       "      <td>0</td>\n",
       "      <td>0</td>\n",
       "      <td>0</td>\n",
       "      <td>0</td>\n",
       "    </tr>\n",
       "    <tr>\n",
       "      <th>1</th>\n",
       "      <td>0</td>\n",
       "      <td>0</td>\n",
       "      <td>0</td>\n",
       "      <td>0</td>\n",
       "      <td>1</td>\n",
       "    </tr>\n",
       "    <tr>\n",
       "      <th>2</th>\n",
       "      <td>1</td>\n",
       "      <td>0</td>\n",
       "      <td>0</td>\n",
       "      <td>0</td>\n",
       "      <td>0</td>\n",
       "    </tr>\n",
       "    <tr>\n",
       "      <th>3</th>\n",
       "      <td>1</td>\n",
       "      <td>0</td>\n",
       "      <td>0</td>\n",
       "      <td>0</td>\n",
       "      <td>0</td>\n",
       "    </tr>\n",
       "    <tr>\n",
       "      <th>4</th>\n",
       "      <td>0</td>\n",
       "      <td>0</td>\n",
       "      <td>0</td>\n",
       "      <td>0</td>\n",
       "      <td>1</td>\n",
       "    </tr>\n",
       "  </tbody>\n",
       "</table>\n",
       "</div>"
      ],
      "text/plain": [
       "   Corner  CulDSac  FR2  FR3  Inside\n",
       "0       1        0    0    0       0\n",
       "1       0        0    0    0       1\n",
       "2       1        0    0    0       0\n",
       "3       1        0    0    0       0\n",
       "4       0        0    0    0       1"
      ]
     },
     "execution_count": 41,
     "metadata": {},
     "output_type": "execute_result"
    }
   ],
   "source": [
    "#The pd.get_dummies() method creates columns based on values in a column#\n",
    "\n",
    "#For instance a column of eye colours could be blue, red, green#\n",
    "\n",
    "#pd.get_dummies() will create 3 columns and for each row assign a 1 (true)#\n",
    "\n",
    "# In each of the columns that was the true eye colour#\n",
    "\n",
    "#Here is a quick preview of how that works on the Lot Config column#\n",
    "\n",
    "pd.get_dummies(transform_df['Lot Config']).head()"
   ]
  },
  {
   "cell_type": "markdown",
   "metadata": {},
   "source": [
    "###### The method returns a dataframe of the columns to which the operation was applied\n",
    "\n",
    "###### This just means we will need to join this to our original dataframe and then remove the 'pre-dummy' category columns"
   ]
  },
  {
   "cell_type": "code",
   "execution_count": 42,
   "metadata": {
    "collapsed": false
   },
   "outputs": [],
   "source": [
    "transform_df = pd.concat([transform_df, pd.get_dummies(transform_df.select_dtypes(include=['object']))])\n",
    "transform_df = transform_df.drop(transform_df.select_dtypes(include=['object']).columns.tolist(), axis=1)"
   ]
  },
  {
   "cell_type": "markdown",
   "metadata": {},
   "source": [
    "###### With these operations done we should now only have numerical columns"
   ]
  },
  {
   "cell_type": "code",
   "execution_count": 43,
   "metadata": {
    "collapsed": false
   },
   "outputs": [
    {
     "data": {
      "text/plain": [
       "float64    90\n",
       "dtype: int64"
      ]
     },
     "execution_count": 43,
     "metadata": {},
     "output_type": "execute_result"
    }
   ],
   "source": [
    "transform_df.dtypes.value_counts()"
   ]
  },
  {
   "cell_type": "markdown",
   "metadata": {},
   "source": [
    "###### Excellent! 90 columns (variables) all of which are numerical\n",
    "\n",
    "###### With this success lets update the select features function"
   ]
  },
  {
   "cell_type": "code",
   "execution_count": 44,
   "metadata": {
    "collapsed": false
   },
   "outputs": [],
   "source": [
    "#Add in the correlation coefficient (how well a feature correlates with price)#\n",
    "#And unique_threshold (how many dummy variables to allow)#\n",
    "#Into the method parameters to allow easier experimentation of best values#\n",
    "def select_features(df, coeff_threshold=0.4, unique_threshold=10):\n",
    "    #Create list of columns with category order but cannot convert to numeric#\n",
    "    ordered_categories = ['Land Slope', 'Paved Drive', 'Utilities', 'Functional', 'Exter Cond',\n",
    "                            'Lot Shape', 'Exter Qual', 'Heating QC', 'Kitchen Qual']\n",
    "    #Remove these columns#\n",
    "    df = df.drop(ordered_categories, axis=1)\n",
    "    numerical_df = df.select_dtypes(include = ['int', 'float'])\n",
    "    absolute_correlation_coeff = numerical_df.corr()['SalePrice'].abs()\n",
    "    df = df.drop(absolute_correlation_coeff[absolute_correlation_coeff < coeff_threshold].index, axis=1)\n",
    "    #Set the nominal features inside the method so it is self contained#\n",
    "    nominal_features = [\"PID\", \"MS SubClass\", \"MS Zoning\", \"Street\", \"Alley\", \"Land Contour\", \"Lot Config\", \"Neighborhood\", \n",
    "                    \"Condition 1\", \"Condition 2\", \"Bldg Type\", \"House Style\", \"Roof Style\", \"Roof Matl\", \"Exterior 1st\", \n",
    "                    \"Exterior 2nd\", \"Mas Vnr Type\", \"Foundation\", \"Heating\", \"Central Air\", \"Garage Type\", \n",
    "                    \"Misc Feature\", \"Sale Type\", \"Sale Condition\"]\n",
    "    #Check to see if these exist in the dataframe#\n",
    "    transform_cat_cols = []\n",
    "    for col in nominal_features:\n",
    "        if col in df.columns:\n",
    "            transform_cat_cols.append(col)\n",
    "    #Calculate the number of unique values in each of these columns in the dataframe#\n",
    "    uniqueness_count = df[transform_cat_cols].apply(lambda col: len(col.value_counts()))\n",
    "    #Find category columns with more unique values than the unique threshold#\n",
    "    drop_unique_col = uniqueness_count[uniqueness_count > unique_threshold].index\n",
    "    #Then drop these columns#\n",
    "    df = df.drop(drop_unique_col, axis =1)\n",
    "    #With remaining category (object columns) convert each unique value to dummy columns#\n",
    "    text_columns = df.select_dtypes(include = ['object'])\n",
    "    df = pd.concat([df, pd.get_dummies(text_columns)], axis=1)\n",
    "    #Remove the columns used to create the dummy columns#\n",
    "    df = df.drop(text_columns, axis=1)\n",
    "    return df"
   ]
  },
  {
   "cell_type": "code",
   "execution_count": 45,
   "metadata": {
    "collapsed": false
   },
   "outputs": [
    {
     "name": "stdout",
     "output_type": "stream",
     "text": [
      "The relative mean square error is 35064.65\n"
     ]
    }
   ],
   "source": [
    "df = pd.read_csv(\"AmesHousing.tsv\", delimiter=\"\\t\")\n",
    "transform_df = transform_features(df)\n",
    "filtered_df = select_features(transform_df)\n",
    "rmse = train_and_test(filtered_df)\n",
    "\n",
    "print(\"The relative mean square error is {:.2f}\".format(rmse))"
   ]
  },
  {
   "cell_type": "markdown",
   "metadata": {},
   "source": [
    "###### Our Root Mean Squared Error has reduced from 57088 to 55275 and then to 35066 (a 39% total reduction)"
   ]
  },
  {
   "cell_type": "markdown",
   "metadata": {},
   "source": [
    "### Cross Validation\n",
    "\n",
    "###### Having performed the transformation steps the next thing on the list is to perform the cross validation.\n",
    "\n",
    "###### This has the effect of shuffling the locations of the train / testing splits\n",
    "\n",
    "###### We can do this to work out the best representation of our data i.e. best homogenity for the best model\n",
    "\n",
    "###### So lets explore how this would work in our train and test function"
   ]
  },
  {
   "cell_type": "code",
   "execution_count": 46,
   "metadata": {
    "collapsed": true
   },
   "outputs": [],
   "source": [
    "#Here is our original train and test function. This uses 'holdout' validation\n",
    "def train_and_test(data):\n",
    "    #split the data between train and test datasets#\n",
    "    train = data[:1460]\n",
    "    test = data[1460:]\n",
    "    #Select only numeric columns#\n",
    "    train = train.select_dtypes(include = ['integer', 'float'])\n",
    "    test = test.select_dtypes(include = ['integer', 'float'])\n",
    "    #Remove our target from the train column#    \n",
    "    feature_list= train.columns.drop('SalePrice')\n",
    "    #Create and run the model#\n",
    "    model = LinearRegression()\n",
    "    model.fit(train[feature_list], train['SalePrice'])\n",
    "    predictions = model.predict(test[feature_list])\n",
    "    #Mean squared error calculation#\n",
    "    MSE = mean_squared_error(test['SalePrice'], predictions)\n",
    "    #Relative mean squared error calculation#\n",
    "    RMSE = np.sqrt(MSE)\n",
    "    return RMSE"
   ]
  },
  {
   "cell_type": "markdown",
   "metadata": {},
   "source": [
    "###### In the above function we have implemented holdout validation where the data is split into 2 portions, this is performed only once.\n",
    "\n",
    "###### In K-Fold Cross Validation this can be performed multiple times\n",
    "\n",
    "###### [Click here for a quick example on a K-fold cross validation using k = 5](https://scikit-learn.org/stable/_images/grid_search_cross_validation.png)\n",
    "\n",
    "###### Here we can see the model predictions are run 5 times with the location of the testing data altered each time\n",
    "\n",
    "###### In all K-Fold cross validation the data is randomised before it processed."
   ]
  },
  {
   "cell_type": "code",
   "execution_count": 47,
   "metadata": {
    "collapsed": false
   },
   "outputs": [],
   "source": [
    "def train_and_test(df, k=0):\n",
    "    #Select only numeric columns and Remove the target#\n",
    "    numerical_df = df.select_dtypes(include = ['integer', 'float'])\n",
    "    feature_list= numerical_df.columns.drop('SalePrice')\n",
    "    model = LinearRegression()\n",
    "    if k == 0:\n",
    "        #Perform holdout validation#\n",
    "        #Data split to train and test#\n",
    "        train = df[:1460]\n",
    "        test = df[1460:]\n",
    "        #Create and test model#\n",
    "        model.fit(train[feature_list], train['SalePrice'])\n",
    "        predictions = model.predict(test[feature_list])\n",
    "        mse = mean_squared_error(test['SalePrice'], predictions)\n",
    "        rmse = np.sqrt(mse)\n",
    "        print(\"K = {} selected. Relative Mean Standard error was {}\".format(k, rmse))    \n",
    "\n",
    "    if k == 1:\n",
    "        #Perform simple cross validation with randomisation of the data first#\n",
    "        #Sample performs a random selection of data, frac =1 sets this to all data#\n",
    "        shuffled_df = df.sample(frac=1,)\n",
    "        #Create and test model#\n",
    "        train = df[:1460]\n",
    "        test = df[1460:]\n",
    "        model.fit(train[feature_list], train['SalePrice'])\n",
    "        predictions_one = model.predict(test[feature_list])\n",
    "        mse_one = mean_squared_error(test['SalePrice'], predictions_one)\n",
    "        rmse_one = np.sqrt(mse_one)\n",
    "        #Reverse train and test and repeat#\n",
    "        train = df[1460:]\n",
    "        test = df[:1460]\n",
    "        model.fit(train[feature_list], train['SalePrice'])\n",
    "        predictions_two = model.predict(test[feature_list])\n",
    "        mse_two = mean_squared_error(test['SalePrice'], predictions_two)\n",
    "        rmse_two = np.sqrt(mse_two)\n",
    "        rmses = [rmse_one, rmse_two]\n",
    "        average_rmse = np.mean([rmse_one, rmse_two])\n",
    "        print(\"\\n\")\n",
    "        print(\"K = {} selected. Relative Mean Standard errors were: {} with an average of {}\".format(k, rmses, average_rmse))    \n",
    "        \n",
    "    if k >= 2:\n",
    "        #Use SKLearns KFold method. Shuffle randomises data before splitting into batches#\n",
    "        kf = KFold(n_splits = k, shuffle = True)  \n",
    "        rmses = []\n",
    "        #KFold gives index ranges to each of the batches#\n",
    "        for train_index, test_index in kf.split(df):\n",
    "            train = df.iloc[train_index]\n",
    "            test = df.iloc[test_index]\n",
    "            model.fit(train[feature_list], train['SalePrice'])\n",
    "            predictions = model.predict(test[feature_list])\n",
    "            mse = mean_squared_error(test['SalePrice'], predictions)\n",
    "            rmse = np.sqrt(mse)\n",
    "            rmses.append(rmse)\n",
    "            average_rmse = np.mean(rmses)\n",
    "        print(\"\\n\")\n",
    "        print(\"K = {} selected. Relative Mean Standard errors were: {} with an average of {}\".format(k, rmses, average_rmse))            "
   ]
  },
  {
   "cell_type": "markdown",
   "metadata": {},
   "source": [
    "###### Next we shall test the model using our various K parameters"
   ]
  },
  {
   "cell_type": "code",
   "execution_count": 49,
   "metadata": {
    "collapsed": false,
    "scrolled": true
   },
   "outputs": [
    {
     "name": "stdout",
     "output_type": "stream",
     "text": [
      "K = 0 selected. Relative Mean Standard error was 35064.65061930173\n",
      "\n",
      "\n",
      "K = 1 selected. Relative Mean Standard errors were: [35064.65061930173, 29641.240536401056] with an average of 32352.94557785139\n",
      "\n",
      "\n",
      "K = 2 selected. Relative Mean Standard errors were: [34168.92644378316, 30037.25469525408] with an average of 32103.09056951862\n",
      "\n",
      "\n",
      "K = 3 selected. Relative Mean Standard errors were: [28188.950583605576, 35807.07114283821, 31063.952412679755] with an average of 31686.658046374516\n",
      "\n",
      "\n",
      "K = 4 selected. Relative Mean Standard errors were: [29112.05238507154, 37858.633609553144, 28863.074008142143, 29762.187482750855] with an average of 31398.98687137942\n",
      "\n",
      "\n",
      "K = 5 selected. Relative Mean Standard errors were: [33142.4409730235, 26203.68250498017, 38955.44483177554, 29228.791519260354, 29466.719600026772] with an average of 31399.415885813265\n",
      "\n",
      "\n",
      "K = 6 selected. Relative Mean Standard errors were: [30014.56240800464, 28612.25057158538, 30221.531399468462, 42159.03021891922, 28150.734639352708, 29070.558713698505] with an average of 31371.444658504817\n"
     ]
    }
   ],
   "source": [
    "df = pd.read_csv(\"AmesHousing.tsv\", delimiter=\"\\t\")\n",
    "for i in range(7):\n",
    "    transform_df = transform_features(df)\n",
    "    filtered_df = select_features(transform_df)\n",
    "    rmse = train_and_test(filtered_df, k=i)\n",
    "\n",
    "    rmse"
   ]
  },
  {
   "cell_type": "markdown",
   "metadata": {},
   "source": [
    "###### The lowest mean standard error seen is with K=5 (5 folds)\n",
    "\n",
    "###### Our Root Mean Squared Error has reduced from 57088 to 31399 (a 45% total reduction)"
   ]
  }
 ],
 "metadata": {
  "anaconda-cloud": {},
  "kernelspec": {
   "display_name": "Python 3",
   "language": "python",
   "name": "python3"
  },
  "language_info": {
   "codemirror_mode": {
    "name": "ipython",
    "version": 3
   },
   "file_extension": ".py",
   "mimetype": "text/x-python",
   "name": "python",
   "nbconvert_exporter": "python",
   "pygments_lexer": "ipython3",
   "version": "3.4.3"
  }
 },
 "nbformat": 4,
 "nbformat_minor": 2
}
