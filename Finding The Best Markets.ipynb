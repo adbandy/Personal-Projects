{
 "cells": [
  {
   "cell_type": "markdown",
   "metadata": {},
   "source": [
    "# Finding The Best Markets To Advertise To For Our Online Learning Course\n",
    "\n",
    "###### In this project we will be taking the role of a data scientist in a e-learing company which produces content for web and mobile covering a vast array of learning topics.\n",
    "\n",
    "### The Task\n",
    "\n",
    "###### We want to promote our product and invest money in advertisement, but how to ensure our funds are best utelised?"
   ]
  },
  {
   "cell_type": "markdown",
   "metadata": {},
   "source": [
    "### Importing The Data\n",
    "\n",
    "###### The dataset we will be using is the [freeCodeCamps 2017 New Coder Survey](https://github.com/freeCodeCamp/2017-new-coder-survey) and contains a vast array of questions asked to current and potential coders."
   ]
  },
  {
   "cell_type": "code",
   "execution_count": 1,
   "metadata": {
    "collapsed": true
   },
   "outputs": [],
   "source": [
    "import pandas as pd\n",
    "import numpy as np\n",
    "import matplotlib.pyplot as plt\n",
    "%matplotlib inline"
   ]
  },
  {
   "cell_type": "code",
   "execution_count": 2,
   "metadata": {
    "collapsed": true
   },
   "outputs": [],
   "source": [
    "pd.set_option(\"max_columns\", 50)\n",
    "pd.set_option('display.max_rows', 500)"
   ]
  },
  {
   "cell_type": "code",
   "execution_count": 3,
   "metadata": {
    "collapsed": false,
    "scrolled": true
   },
   "outputs": [
    {
     "name": "stderr",
     "output_type": "stream",
     "text": [
      "/dataquest/system/env/python3/lib/python3.4/site-packages/IPython/core/interactiveshell.py:2723: DtypeWarning:\n",
      "\n",
      "Columns (17,62) have mixed types. Specify dtype option on import or set low_memory=False.\n",
      "\n"
     ]
    }
   ],
   "source": [
    "data = pd.read_csv('2017-fCC-New-Coders-Survey-Data.csv')"
   ]
  },
  {
   "cell_type": "code",
   "execution_count": 4,
   "metadata": {
    "collapsed": false
   },
   "outputs": [
    {
     "data": {
      "text/html": [
       "<div>\n",
       "<style scoped>\n",
       "    .dataframe tbody tr th:only-of-type {\n",
       "        vertical-align: middle;\n",
       "    }\n",
       "\n",
       "    .dataframe tbody tr th {\n",
       "        vertical-align: top;\n",
       "    }\n",
       "\n",
       "    .dataframe thead th {\n",
       "        text-align: right;\n",
       "    }\n",
       "</style>\n",
       "<table border=\"1\" class=\"dataframe\">\n",
       "  <thead>\n",
       "    <tr style=\"text-align: right;\">\n",
       "      <th></th>\n",
       "      <th>Age</th>\n",
       "      <th>AttendedBootcamp</th>\n",
       "      <th>BootcampFinish</th>\n",
       "      <th>BootcampLoanYesNo</th>\n",
       "      <th>BootcampRecommend</th>\n",
       "      <th>ChildrenNumber</th>\n",
       "      <th>CodeEventConferences</th>\n",
       "      <th>CodeEventDjangoGirls</th>\n",
       "      <th>CodeEventFCC</th>\n",
       "      <th>CodeEventGameJam</th>\n",
       "      <th>CodeEventGirlDev</th>\n",
       "      <th>CodeEventHackathons</th>\n",
       "      <th>CodeEventMeetup</th>\n",
       "      <th>CodeEventNodeSchool</th>\n",
       "      <th>CodeEventNone</th>\n",
       "      <th>CodeEventRailsBridge</th>\n",
       "      <th>CodeEventRailsGirls</th>\n",
       "      <th>CodeEventStartUpWknd</th>\n",
       "      <th>CodeEventWkdBootcamps</th>\n",
       "      <th>CodeEventWomenCode</th>\n",
       "      <th>CodeEventWorkshops</th>\n",
       "      <th>ExpectedEarning</th>\n",
       "      <th>FinanciallySupporting</th>\n",
       "      <th>FirstDevJob</th>\n",
       "      <th>HasChildren</th>\n",
       "      <th>...</th>\n",
       "      <th>ResourceOdinProj</th>\n",
       "      <th>ResourcePluralSight</th>\n",
       "      <th>ResourceSkillcrush</th>\n",
       "      <th>ResourceSO</th>\n",
       "      <th>ResourceTreehouse</th>\n",
       "      <th>ResourceUdacity</th>\n",
       "      <th>ResourceUdemy</th>\n",
       "      <th>ResourceW3S</th>\n",
       "      <th>StudentDebtOwe</th>\n",
       "      <th>YouTubeCodeCourse</th>\n",
       "      <th>YouTubeCodingTrain</th>\n",
       "      <th>YouTubeCodingTut360</th>\n",
       "      <th>YouTubeComputerphile</th>\n",
       "      <th>YouTubeDerekBanas</th>\n",
       "      <th>YouTubeDevTips</th>\n",
       "      <th>YouTubeEngineeredTruth</th>\n",
       "      <th>YouTubeFCC</th>\n",
       "      <th>YouTubeFunFunFunction</th>\n",
       "      <th>YouTubeGoogleDev</th>\n",
       "      <th>YouTubeLearnCode</th>\n",
       "      <th>YouTubeLevelUpTuts</th>\n",
       "      <th>YouTubeMIT</th>\n",
       "      <th>YouTubeMozillaHacks</th>\n",
       "      <th>YouTubeSimplilearn</th>\n",
       "      <th>YouTubeTheNewBoston</th>\n",
       "    </tr>\n",
       "  </thead>\n",
       "  <tbody>\n",
       "    <tr>\n",
       "      <th>count</th>\n",
       "      <td>15367.000000</td>\n",
       "      <td>17709.000000</td>\n",
       "      <td>1069.000000</td>\n",
       "      <td>1079.000000</td>\n",
       "      <td>1073.000000</td>\n",
       "      <td>2314.000000</td>\n",
       "      <td>1609.0</td>\n",
       "      <td>165.0</td>\n",
       "      <td>1708.0</td>\n",
       "      <td>290.0</td>\n",
       "      <td>297.0</td>\n",
       "      <td>1977.0</td>\n",
       "      <td>2472.0</td>\n",
       "      <td>446.0</td>\n",
       "      <td>1076.0</td>\n",
       "      <td>133.0</td>\n",
       "      <td>132.0</td>\n",
       "      <td>544.0</td>\n",
       "      <td>547.0</td>\n",
       "      <td>481.0</td>\n",
       "      <td>1753.0</td>\n",
       "      <td>7200.000000</td>\n",
       "      <td>3833.000000</td>\n",
       "      <td>4508.000000</td>\n",
       "      <td>3858.000000</td>\n",
       "      <td>...</td>\n",
       "      <td>976.0</td>\n",
       "      <td>2392.0</td>\n",
       "      <td>452.0</td>\n",
       "      <td>11207.0</td>\n",
       "      <td>2260.0</td>\n",
       "      <td>3837.0</td>\n",
       "      <td>5120.0</td>\n",
       "      <td>9765.0</td>\n",
       "      <td>3362.000000</td>\n",
       "      <td>956.0</td>\n",
       "      <td>976.0</td>\n",
       "      <td>1397.0</td>\n",
       "      <td>1453.0</td>\n",
       "      <td>1847.0</td>\n",
       "      <td>2619.0</td>\n",
       "      <td>993.0</td>\n",
       "      <td>6036.0</td>\n",
       "      <td>1261.0</td>\n",
       "      <td>3539.0</td>\n",
       "      <td>2662.0</td>\n",
       "      <td>1396.0</td>\n",
       "      <td>3327.0</td>\n",
       "      <td>622.0</td>\n",
       "      <td>201.0</td>\n",
       "      <td>2960.0</td>\n",
       "    </tr>\n",
       "    <tr>\n",
       "      <th>mean</th>\n",
       "      <td>27.691872</td>\n",
       "      <td>0.062002</td>\n",
       "      <td>0.699719</td>\n",
       "      <td>0.305839</td>\n",
       "      <td>0.818267</td>\n",
       "      <td>1.832325</td>\n",
       "      <td>1.0</td>\n",
       "      <td>1.0</td>\n",
       "      <td>1.0</td>\n",
       "      <td>1.0</td>\n",
       "      <td>1.0</td>\n",
       "      <td>1.0</td>\n",
       "      <td>1.0</td>\n",
       "      <td>1.0</td>\n",
       "      <td>1.0</td>\n",
       "      <td>1.0</td>\n",
       "      <td>1.0</td>\n",
       "      <td>1.0</td>\n",
       "      <td>1.0</td>\n",
       "      <td>1.0</td>\n",
       "      <td>1.0</td>\n",
       "      <td>56169.169306</td>\n",
       "      <td>0.227498</td>\n",
       "      <td>0.572981</td>\n",
       "      <td>0.609383</td>\n",
       "      <td>...</td>\n",
       "      <td>1.0</td>\n",
       "      <td>1.0</td>\n",
       "      <td>1.0</td>\n",
       "      <td>1.0</td>\n",
       "      <td>1.0</td>\n",
       "      <td>1.0</td>\n",
       "      <td>1.0</td>\n",
       "      <td>1.0</td>\n",
       "      <td>31602.625521</td>\n",
       "      <td>1.0</td>\n",
       "      <td>1.0</td>\n",
       "      <td>1.0</td>\n",
       "      <td>1.0</td>\n",
       "      <td>1.0</td>\n",
       "      <td>1.0</td>\n",
       "      <td>1.0</td>\n",
       "      <td>1.0</td>\n",
       "      <td>1.0</td>\n",
       "      <td>1.0</td>\n",
       "      <td>1.0</td>\n",
       "      <td>1.0</td>\n",
       "      <td>1.0</td>\n",
       "      <td>1.0</td>\n",
       "      <td>1.0</td>\n",
       "      <td>1.0</td>\n",
       "    </tr>\n",
       "    <tr>\n",
       "      <th>std</th>\n",
       "      <td>8.559239</td>\n",
       "      <td>0.241167</td>\n",
       "      <td>0.458594</td>\n",
       "      <td>0.460975</td>\n",
       "      <td>0.385805</td>\n",
       "      <td>0.972813</td>\n",
       "      <td>0.0</td>\n",
       "      <td>0.0</td>\n",
       "      <td>0.0</td>\n",
       "      <td>0.0</td>\n",
       "      <td>0.0</td>\n",
       "      <td>0.0</td>\n",
       "      <td>0.0</td>\n",
       "      <td>0.0</td>\n",
       "      <td>0.0</td>\n",
       "      <td>0.0</td>\n",
       "      <td>0.0</td>\n",
       "      <td>0.0</td>\n",
       "      <td>0.0</td>\n",
       "      <td>0.0</td>\n",
       "      <td>0.0</td>\n",
       "      <td>74811.725422</td>\n",
       "      <td>0.419271</td>\n",
       "      <td>0.494700</td>\n",
       "      <td>0.487952</td>\n",
       "      <td>...</td>\n",
       "      <td>0.0</td>\n",
       "      <td>0.0</td>\n",
       "      <td>0.0</td>\n",
       "      <td>0.0</td>\n",
       "      <td>0.0</td>\n",
       "      <td>0.0</td>\n",
       "      <td>0.0</td>\n",
       "      <td>0.0</td>\n",
       "      <td>39383.187732</td>\n",
       "      <td>0.0</td>\n",
       "      <td>0.0</td>\n",
       "      <td>0.0</td>\n",
       "      <td>0.0</td>\n",
       "      <td>0.0</td>\n",
       "      <td>0.0</td>\n",
       "      <td>0.0</td>\n",
       "      <td>0.0</td>\n",
       "      <td>0.0</td>\n",
       "      <td>0.0</td>\n",
       "      <td>0.0</td>\n",
       "      <td>0.0</td>\n",
       "      <td>0.0</td>\n",
       "      <td>0.0</td>\n",
       "      <td>0.0</td>\n",
       "      <td>0.0</td>\n",
       "    </tr>\n",
       "    <tr>\n",
       "      <th>min</th>\n",
       "      <td>0.000000</td>\n",
       "      <td>0.000000</td>\n",
       "      <td>0.000000</td>\n",
       "      <td>0.000000</td>\n",
       "      <td>0.000000</td>\n",
       "      <td>1.000000</td>\n",
       "      <td>1.0</td>\n",
       "      <td>1.0</td>\n",
       "      <td>1.0</td>\n",
       "      <td>1.0</td>\n",
       "      <td>1.0</td>\n",
       "      <td>1.0</td>\n",
       "      <td>1.0</td>\n",
       "      <td>1.0</td>\n",
       "      <td>1.0</td>\n",
       "      <td>1.0</td>\n",
       "      <td>1.0</td>\n",
       "      <td>1.0</td>\n",
       "      <td>1.0</td>\n",
       "      <td>1.0</td>\n",
       "      <td>1.0</td>\n",
       "      <td>6000.000000</td>\n",
       "      <td>0.000000</td>\n",
       "      <td>0.000000</td>\n",
       "      <td>0.000000</td>\n",
       "      <td>...</td>\n",
       "      <td>1.0</td>\n",
       "      <td>1.0</td>\n",
       "      <td>1.0</td>\n",
       "      <td>1.0</td>\n",
       "      <td>1.0</td>\n",
       "      <td>1.0</td>\n",
       "      <td>1.0</td>\n",
       "      <td>1.0</td>\n",
       "      <td>100.000000</td>\n",
       "      <td>1.0</td>\n",
       "      <td>1.0</td>\n",
       "      <td>1.0</td>\n",
       "      <td>1.0</td>\n",
       "      <td>1.0</td>\n",
       "      <td>1.0</td>\n",
       "      <td>1.0</td>\n",
       "      <td>1.0</td>\n",
       "      <td>1.0</td>\n",
       "      <td>1.0</td>\n",
       "      <td>1.0</td>\n",
       "      <td>1.0</td>\n",
       "      <td>1.0</td>\n",
       "      <td>1.0</td>\n",
       "      <td>1.0</td>\n",
       "      <td>1.0</td>\n",
       "    </tr>\n",
       "    <tr>\n",
       "      <th>25%</th>\n",
       "      <td>22.000000</td>\n",
       "      <td>0.000000</td>\n",
       "      <td>0.000000</td>\n",
       "      <td>0.000000</td>\n",
       "      <td>1.000000</td>\n",
       "      <td>1.000000</td>\n",
       "      <td>1.0</td>\n",
       "      <td>1.0</td>\n",
       "      <td>1.0</td>\n",
       "      <td>1.0</td>\n",
       "      <td>1.0</td>\n",
       "      <td>1.0</td>\n",
       "      <td>1.0</td>\n",
       "      <td>1.0</td>\n",
       "      <td>1.0</td>\n",
       "      <td>1.0</td>\n",
       "      <td>1.0</td>\n",
       "      <td>1.0</td>\n",
       "      <td>1.0</td>\n",
       "      <td>1.0</td>\n",
       "      <td>1.0</td>\n",
       "      <td>30000.000000</td>\n",
       "      <td>0.000000</td>\n",
       "      <td>0.000000</td>\n",
       "      <td>0.000000</td>\n",
       "      <td>...</td>\n",
       "      <td>1.0</td>\n",
       "      <td>1.0</td>\n",
       "      <td>1.0</td>\n",
       "      <td>1.0</td>\n",
       "      <td>1.0</td>\n",
       "      <td>1.0</td>\n",
       "      <td>1.0</td>\n",
       "      <td>1.0</td>\n",
       "      <td>9536.500000</td>\n",
       "      <td>1.0</td>\n",
       "      <td>1.0</td>\n",
       "      <td>1.0</td>\n",
       "      <td>1.0</td>\n",
       "      <td>1.0</td>\n",
       "      <td>1.0</td>\n",
       "      <td>1.0</td>\n",
       "      <td>1.0</td>\n",
       "      <td>1.0</td>\n",
       "      <td>1.0</td>\n",
       "      <td>1.0</td>\n",
       "      <td>1.0</td>\n",
       "      <td>1.0</td>\n",
       "      <td>1.0</td>\n",
       "      <td>1.0</td>\n",
       "      <td>1.0</td>\n",
       "    </tr>\n",
       "    <tr>\n",
       "      <th>50%</th>\n",
       "      <td>26.000000</td>\n",
       "      <td>0.000000</td>\n",
       "      <td>1.000000</td>\n",
       "      <td>0.000000</td>\n",
       "      <td>1.000000</td>\n",
       "      <td>2.000000</td>\n",
       "      <td>1.0</td>\n",
       "      <td>1.0</td>\n",
       "      <td>1.0</td>\n",
       "      <td>1.0</td>\n",
       "      <td>1.0</td>\n",
       "      <td>1.0</td>\n",
       "      <td>1.0</td>\n",
       "      <td>1.0</td>\n",
       "      <td>1.0</td>\n",
       "      <td>1.0</td>\n",
       "      <td>1.0</td>\n",
       "      <td>1.0</td>\n",
       "      <td>1.0</td>\n",
       "      <td>1.0</td>\n",
       "      <td>1.0</td>\n",
       "      <td>50000.000000</td>\n",
       "      <td>0.000000</td>\n",
       "      <td>1.000000</td>\n",
       "      <td>1.000000</td>\n",
       "      <td>...</td>\n",
       "      <td>1.0</td>\n",
       "      <td>1.0</td>\n",
       "      <td>1.0</td>\n",
       "      <td>1.0</td>\n",
       "      <td>1.0</td>\n",
       "      <td>1.0</td>\n",
       "      <td>1.0</td>\n",
       "      <td>1.0</td>\n",
       "      <td>20000.000000</td>\n",
       "      <td>1.0</td>\n",
       "      <td>1.0</td>\n",
       "      <td>1.0</td>\n",
       "      <td>1.0</td>\n",
       "      <td>1.0</td>\n",
       "      <td>1.0</td>\n",
       "      <td>1.0</td>\n",
       "      <td>1.0</td>\n",
       "      <td>1.0</td>\n",
       "      <td>1.0</td>\n",
       "      <td>1.0</td>\n",
       "      <td>1.0</td>\n",
       "      <td>1.0</td>\n",
       "      <td>1.0</td>\n",
       "      <td>1.0</td>\n",
       "      <td>1.0</td>\n",
       "    </tr>\n",
       "    <tr>\n",
       "      <th>75%</th>\n",
       "      <td>32.000000</td>\n",
       "      <td>0.000000</td>\n",
       "      <td>1.000000</td>\n",
       "      <td>1.000000</td>\n",
       "      <td>1.000000</td>\n",
       "      <td>2.000000</td>\n",
       "      <td>1.0</td>\n",
       "      <td>1.0</td>\n",
       "      <td>1.0</td>\n",
       "      <td>1.0</td>\n",
       "      <td>1.0</td>\n",
       "      <td>1.0</td>\n",
       "      <td>1.0</td>\n",
       "      <td>1.0</td>\n",
       "      <td>1.0</td>\n",
       "      <td>1.0</td>\n",
       "      <td>1.0</td>\n",
       "      <td>1.0</td>\n",
       "      <td>1.0</td>\n",
       "      <td>1.0</td>\n",
       "      <td>1.0</td>\n",
       "      <td>65000.000000</td>\n",
       "      <td>0.000000</td>\n",
       "      <td>1.000000</td>\n",
       "      <td>1.000000</td>\n",
       "      <td>...</td>\n",
       "      <td>1.0</td>\n",
       "      <td>1.0</td>\n",
       "      <td>1.0</td>\n",
       "      <td>1.0</td>\n",
       "      <td>1.0</td>\n",
       "      <td>1.0</td>\n",
       "      <td>1.0</td>\n",
       "      <td>1.0</td>\n",
       "      <td>40000.000000</td>\n",
       "      <td>1.0</td>\n",
       "      <td>1.0</td>\n",
       "      <td>1.0</td>\n",
       "      <td>1.0</td>\n",
       "      <td>1.0</td>\n",
       "      <td>1.0</td>\n",
       "      <td>1.0</td>\n",
       "      <td>1.0</td>\n",
       "      <td>1.0</td>\n",
       "      <td>1.0</td>\n",
       "      <td>1.0</td>\n",
       "      <td>1.0</td>\n",
       "      <td>1.0</td>\n",
       "      <td>1.0</td>\n",
       "      <td>1.0</td>\n",
       "      <td>1.0</td>\n",
       "    </tr>\n",
       "    <tr>\n",
       "      <th>max</th>\n",
       "      <td>90.000000</td>\n",
       "      <td>1.000000</td>\n",
       "      <td>1.000000</td>\n",
       "      <td>1.000000</td>\n",
       "      <td>1.000000</td>\n",
       "      <td>9.000000</td>\n",
       "      <td>1.0</td>\n",
       "      <td>1.0</td>\n",
       "      <td>1.0</td>\n",
       "      <td>1.0</td>\n",
       "      <td>1.0</td>\n",
       "      <td>1.0</td>\n",
       "      <td>1.0</td>\n",
       "      <td>1.0</td>\n",
       "      <td>1.0</td>\n",
       "      <td>1.0</td>\n",
       "      <td>1.0</td>\n",
       "      <td>1.0</td>\n",
       "      <td>1.0</td>\n",
       "      <td>1.0</td>\n",
       "      <td>1.0</td>\n",
       "      <td>1000000.000000</td>\n",
       "      <td>1.000000</td>\n",
       "      <td>1.000000</td>\n",
       "      <td>1.000000</td>\n",
       "      <td>...</td>\n",
       "      <td>1.0</td>\n",
       "      <td>1.0</td>\n",
       "      <td>1.0</td>\n",
       "      <td>1.0</td>\n",
       "      <td>1.0</td>\n",
       "      <td>1.0</td>\n",
       "      <td>1.0</td>\n",
       "      <td>1.0</td>\n",
       "      <td>500000.000000</td>\n",
       "      <td>1.0</td>\n",
       "      <td>1.0</td>\n",
       "      <td>1.0</td>\n",
       "      <td>1.0</td>\n",
       "      <td>1.0</td>\n",
       "      <td>1.0</td>\n",
       "      <td>1.0</td>\n",
       "      <td>1.0</td>\n",
       "      <td>1.0</td>\n",
       "      <td>1.0</td>\n",
       "      <td>1.0</td>\n",
       "      <td>1.0</td>\n",
       "      <td>1.0</td>\n",
       "      <td>1.0</td>\n",
       "      <td>1.0</td>\n",
       "      <td>1.0</td>\n",
       "    </tr>\n",
       "  </tbody>\n",
       "</table>\n",
       "<p>8 rows × 105 columns</p>\n",
       "</div>"
      ],
      "text/plain": [
       "                Age  AttendedBootcamp  BootcampFinish  BootcampLoanYesNo  \\\n",
       "count  15367.000000      17709.000000     1069.000000        1079.000000   \n",
       "mean      27.691872          0.062002        0.699719           0.305839   \n",
       "std        8.559239          0.241167        0.458594           0.460975   \n",
       "min        0.000000          0.000000        0.000000           0.000000   \n",
       "25%       22.000000          0.000000        0.000000           0.000000   \n",
       "50%       26.000000          0.000000        1.000000           0.000000   \n",
       "75%       32.000000          0.000000        1.000000           1.000000   \n",
       "max       90.000000          1.000000        1.000000           1.000000   \n",
       "\n",
       "       BootcampRecommend  ChildrenNumber  CodeEventConferences  \\\n",
       "count        1073.000000     2314.000000                1609.0   \n",
       "mean            0.818267        1.832325                   1.0   \n",
       "std             0.385805        0.972813                   0.0   \n",
       "min             0.000000        1.000000                   1.0   \n",
       "25%             1.000000        1.000000                   1.0   \n",
       "50%             1.000000        2.000000                   1.0   \n",
       "75%             1.000000        2.000000                   1.0   \n",
       "max             1.000000        9.000000                   1.0   \n",
       "\n",
       "       CodeEventDjangoGirls  CodeEventFCC  CodeEventGameJam  CodeEventGirlDev  \\\n",
       "count                 165.0        1708.0             290.0             297.0   \n",
       "mean                    1.0           1.0               1.0               1.0   \n",
       "std                     0.0           0.0               0.0               0.0   \n",
       "min                     1.0           1.0               1.0               1.0   \n",
       "25%                     1.0           1.0               1.0               1.0   \n",
       "50%                     1.0           1.0               1.0               1.0   \n",
       "75%                     1.0           1.0               1.0               1.0   \n",
       "max                     1.0           1.0               1.0               1.0   \n",
       "\n",
       "       CodeEventHackathons  CodeEventMeetup  CodeEventNodeSchool  \\\n",
       "count               1977.0           2472.0                446.0   \n",
       "mean                   1.0              1.0                  1.0   \n",
       "std                    0.0              0.0                  0.0   \n",
       "min                    1.0              1.0                  1.0   \n",
       "25%                    1.0              1.0                  1.0   \n",
       "50%                    1.0              1.0                  1.0   \n",
       "75%                    1.0              1.0                  1.0   \n",
       "max                    1.0              1.0                  1.0   \n",
       "\n",
       "       CodeEventNone  CodeEventRailsBridge  CodeEventRailsGirls  \\\n",
       "count         1076.0                 133.0                132.0   \n",
       "mean             1.0                   1.0                  1.0   \n",
       "std              0.0                   0.0                  0.0   \n",
       "min              1.0                   1.0                  1.0   \n",
       "25%              1.0                   1.0                  1.0   \n",
       "50%              1.0                   1.0                  1.0   \n",
       "75%              1.0                   1.0                  1.0   \n",
       "max              1.0                   1.0                  1.0   \n",
       "\n",
       "       CodeEventStartUpWknd  CodeEventWkdBootcamps  CodeEventWomenCode  \\\n",
       "count                 544.0                  547.0               481.0   \n",
       "mean                    1.0                    1.0                 1.0   \n",
       "std                     0.0                    0.0                 0.0   \n",
       "min                     1.0                    1.0                 1.0   \n",
       "25%                     1.0                    1.0                 1.0   \n",
       "50%                     1.0                    1.0                 1.0   \n",
       "75%                     1.0                    1.0                 1.0   \n",
       "max                     1.0                    1.0                 1.0   \n",
       "\n",
       "       CodeEventWorkshops  ExpectedEarning  FinanciallySupporting  \\\n",
       "count              1753.0      7200.000000            3833.000000   \n",
       "mean                  1.0     56169.169306               0.227498   \n",
       "std                   0.0     74811.725422               0.419271   \n",
       "min                   1.0      6000.000000               0.000000   \n",
       "25%                   1.0     30000.000000               0.000000   \n",
       "50%                   1.0     50000.000000               0.000000   \n",
       "75%                   1.0     65000.000000               0.000000   \n",
       "max                   1.0   1000000.000000               1.000000   \n",
       "\n",
       "       FirstDevJob  HasChildren         ...           ResourceOdinProj  \\\n",
       "count  4508.000000  3858.000000         ...                      976.0   \n",
       "mean      0.572981     0.609383         ...                        1.0   \n",
       "std       0.494700     0.487952         ...                        0.0   \n",
       "min       0.000000     0.000000         ...                        1.0   \n",
       "25%       0.000000     0.000000         ...                        1.0   \n",
       "50%       1.000000     1.000000         ...                        1.0   \n",
       "75%       1.000000     1.000000         ...                        1.0   \n",
       "max       1.000000     1.000000         ...                        1.0   \n",
       "\n",
       "       ResourcePluralSight  ResourceSkillcrush  ResourceSO  ResourceTreehouse  \\\n",
       "count               2392.0               452.0     11207.0             2260.0   \n",
       "mean                   1.0                 1.0         1.0                1.0   \n",
       "std                    0.0                 0.0         0.0                0.0   \n",
       "min                    1.0                 1.0         1.0                1.0   \n",
       "25%                    1.0                 1.0         1.0                1.0   \n",
       "50%                    1.0                 1.0         1.0                1.0   \n",
       "75%                    1.0                 1.0         1.0                1.0   \n",
       "max                    1.0                 1.0         1.0                1.0   \n",
       "\n",
       "       ResourceUdacity  ResourceUdemy  ResourceW3S  StudentDebtOwe  \\\n",
       "count           3837.0         5120.0       9765.0     3362.000000   \n",
       "mean               1.0            1.0          1.0    31602.625521   \n",
       "std                0.0            0.0          0.0    39383.187732   \n",
       "min                1.0            1.0          1.0      100.000000   \n",
       "25%                1.0            1.0          1.0     9536.500000   \n",
       "50%                1.0            1.0          1.0    20000.000000   \n",
       "75%                1.0            1.0          1.0    40000.000000   \n",
       "max                1.0            1.0          1.0   500000.000000   \n",
       "\n",
       "       YouTubeCodeCourse  YouTubeCodingTrain  YouTubeCodingTut360  \\\n",
       "count              956.0               976.0               1397.0   \n",
       "mean                 1.0                 1.0                  1.0   \n",
       "std                  0.0                 0.0                  0.0   \n",
       "min                  1.0                 1.0                  1.0   \n",
       "25%                  1.0                 1.0                  1.0   \n",
       "50%                  1.0                 1.0                  1.0   \n",
       "75%                  1.0                 1.0                  1.0   \n",
       "max                  1.0                 1.0                  1.0   \n",
       "\n",
       "       YouTubeComputerphile  YouTubeDerekBanas  YouTubeDevTips  \\\n",
       "count                1453.0             1847.0          2619.0   \n",
       "mean                    1.0                1.0             1.0   \n",
       "std                     0.0                0.0             0.0   \n",
       "min                     1.0                1.0             1.0   \n",
       "25%                     1.0                1.0             1.0   \n",
       "50%                     1.0                1.0             1.0   \n",
       "75%                     1.0                1.0             1.0   \n",
       "max                     1.0                1.0             1.0   \n",
       "\n",
       "       YouTubeEngineeredTruth  YouTubeFCC  YouTubeFunFunFunction  \\\n",
       "count                   993.0      6036.0                 1261.0   \n",
       "mean                      1.0         1.0                    1.0   \n",
       "std                       0.0         0.0                    0.0   \n",
       "min                       1.0         1.0                    1.0   \n",
       "25%                       1.0         1.0                    1.0   \n",
       "50%                       1.0         1.0                    1.0   \n",
       "75%                       1.0         1.0                    1.0   \n",
       "max                       1.0         1.0                    1.0   \n",
       "\n",
       "       YouTubeGoogleDev  YouTubeLearnCode  YouTubeLevelUpTuts  YouTubeMIT  \\\n",
       "count            3539.0            2662.0              1396.0      3327.0   \n",
       "mean                1.0               1.0                 1.0         1.0   \n",
       "std                 0.0               0.0                 0.0         0.0   \n",
       "min                 1.0               1.0                 1.0         1.0   \n",
       "25%                 1.0               1.0                 1.0         1.0   \n",
       "50%                 1.0               1.0                 1.0         1.0   \n",
       "75%                 1.0               1.0                 1.0         1.0   \n",
       "max                 1.0               1.0                 1.0         1.0   \n",
       "\n",
       "       YouTubeMozillaHacks  YouTubeSimplilearn  YouTubeTheNewBoston  \n",
       "count                622.0               201.0               2960.0  \n",
       "mean                   1.0                 1.0                  1.0  \n",
       "std                    0.0                 0.0                  0.0  \n",
       "min                    1.0                 1.0                  1.0  \n",
       "25%                    1.0                 1.0                  1.0  \n",
       "50%                    1.0                 1.0                  1.0  \n",
       "75%                    1.0                 1.0                  1.0  \n",
       "max                    1.0                 1.0                  1.0  \n",
       "\n",
       "[8 rows x 105 columns]"
      ]
     },
     "execution_count": 4,
     "metadata": {},
     "output_type": "execute_result"
    }
   ],
   "source": [
    "data.describe()"
   ]
  },
  {
   "cell_type": "code",
   "execution_count": 5,
   "metadata": {
    "collapsed": false,
    "scrolled": false
   },
   "outputs": [
    {
     "data": {
      "text/html": [
       "<div>\n",
       "<style scoped>\n",
       "    .dataframe tbody tr th:only-of-type {\n",
       "        vertical-align: middle;\n",
       "    }\n",
       "\n",
       "    .dataframe tbody tr th {\n",
       "        vertical-align: top;\n",
       "    }\n",
       "\n",
       "    .dataframe thead th {\n",
       "        text-align: right;\n",
       "    }\n",
       "</style>\n",
       "<table border=\"1\" class=\"dataframe\">\n",
       "  <thead>\n",
       "    <tr style=\"text-align: right;\">\n",
       "      <th></th>\n",
       "      <th>Age</th>\n",
       "      <th>AttendedBootcamp</th>\n",
       "      <th>BootcampFinish</th>\n",
       "      <th>BootcampLoanYesNo</th>\n",
       "      <th>BootcampName</th>\n",
       "      <th>BootcampRecommend</th>\n",
       "      <th>ChildrenNumber</th>\n",
       "      <th>CityPopulation</th>\n",
       "      <th>CodeEventConferences</th>\n",
       "      <th>CodeEventDjangoGirls</th>\n",
       "      <th>CodeEventFCC</th>\n",
       "      <th>CodeEventGameJam</th>\n",
       "      <th>CodeEventGirlDev</th>\n",
       "      <th>CodeEventHackathons</th>\n",
       "      <th>CodeEventMeetup</th>\n",
       "      <th>CodeEventNodeSchool</th>\n",
       "      <th>CodeEventNone</th>\n",
       "      <th>CodeEventOther</th>\n",
       "      <th>CodeEventRailsBridge</th>\n",
       "      <th>CodeEventRailsGirls</th>\n",
       "      <th>CodeEventStartUpWknd</th>\n",
       "      <th>CodeEventWkdBootcamps</th>\n",
       "      <th>CodeEventWomenCode</th>\n",
       "      <th>CodeEventWorkshops</th>\n",
       "      <th>CommuteTime</th>\n",
       "      <th>...</th>\n",
       "      <th>ResourceSO</th>\n",
       "      <th>ResourceTreehouse</th>\n",
       "      <th>ResourceUdacity</th>\n",
       "      <th>ResourceUdemy</th>\n",
       "      <th>ResourceW3S</th>\n",
       "      <th>SchoolDegree</th>\n",
       "      <th>SchoolMajor</th>\n",
       "      <th>StudentDebtOwe</th>\n",
       "      <th>YouTubeCodeCourse</th>\n",
       "      <th>YouTubeCodingTrain</th>\n",
       "      <th>YouTubeCodingTut360</th>\n",
       "      <th>YouTubeComputerphile</th>\n",
       "      <th>YouTubeDerekBanas</th>\n",
       "      <th>YouTubeDevTips</th>\n",
       "      <th>YouTubeEngineeredTruth</th>\n",
       "      <th>YouTubeFCC</th>\n",
       "      <th>YouTubeFunFunFunction</th>\n",
       "      <th>YouTubeGoogleDev</th>\n",
       "      <th>YouTubeLearnCode</th>\n",
       "      <th>YouTubeLevelUpTuts</th>\n",
       "      <th>YouTubeMIT</th>\n",
       "      <th>YouTubeMozillaHacks</th>\n",
       "      <th>YouTubeOther</th>\n",
       "      <th>YouTubeSimplilearn</th>\n",
       "      <th>YouTubeTheNewBoston</th>\n",
       "    </tr>\n",
       "  </thead>\n",
       "  <tbody>\n",
       "    <tr>\n",
       "      <th>6828</th>\n",
       "      <td>31.0</td>\n",
       "      <td>0.0</td>\n",
       "      <td>NaN</td>\n",
       "      <td>NaN</td>\n",
       "      <td>NaN</td>\n",
       "      <td>NaN</td>\n",
       "      <td>NaN</td>\n",
       "      <td>between 100,000 and 1 million</td>\n",
       "      <td>NaN</td>\n",
       "      <td>NaN</td>\n",
       "      <td>NaN</td>\n",
       "      <td>NaN</td>\n",
       "      <td>NaN</td>\n",
       "      <td>NaN</td>\n",
       "      <td>NaN</td>\n",
       "      <td>NaN</td>\n",
       "      <td>NaN</td>\n",
       "      <td>NaN</td>\n",
       "      <td>NaN</td>\n",
       "      <td>NaN</td>\n",
       "      <td>NaN</td>\n",
       "      <td>NaN</td>\n",
       "      <td>NaN</td>\n",
       "      <td>NaN</td>\n",
       "      <td>NaN</td>\n",
       "      <td>...</td>\n",
       "      <td>1.0</td>\n",
       "      <td>NaN</td>\n",
       "      <td>NaN</td>\n",
       "      <td>1.0</td>\n",
       "      <td>1.0</td>\n",
       "      <td>no high school (secondary school)</td>\n",
       "      <td>NaN</td>\n",
       "      <td>NaN</td>\n",
       "      <td>NaN</td>\n",
       "      <td>NaN</td>\n",
       "      <td>NaN</td>\n",
       "      <td>NaN</td>\n",
       "      <td>NaN</td>\n",
       "      <td>NaN</td>\n",
       "      <td>NaN</td>\n",
       "      <td>NaN</td>\n",
       "      <td>NaN</td>\n",
       "      <td>NaN</td>\n",
       "      <td>NaN</td>\n",
       "      <td>NaN</td>\n",
       "      <td>NaN</td>\n",
       "      <td>NaN</td>\n",
       "      <td>NaN</td>\n",
       "      <td>NaN</td>\n",
       "      <td>NaN</td>\n",
       "    </tr>\n",
       "    <tr>\n",
       "      <th>9801</th>\n",
       "      <td>28.0</td>\n",
       "      <td>1.0</td>\n",
       "      <td>0.0</td>\n",
       "      <td>0.0</td>\n",
       "      <td>Grand Circus</td>\n",
       "      <td>1.0</td>\n",
       "      <td>NaN</td>\n",
       "      <td>between 100,000 and 1 million</td>\n",
       "      <td>NaN</td>\n",
       "      <td>NaN</td>\n",
       "      <td>NaN</td>\n",
       "      <td>NaN</td>\n",
       "      <td>NaN</td>\n",
       "      <td>NaN</td>\n",
       "      <td>NaN</td>\n",
       "      <td>NaN</td>\n",
       "      <td>NaN</td>\n",
       "      <td>NaN</td>\n",
       "      <td>NaN</td>\n",
       "      <td>NaN</td>\n",
       "      <td>NaN</td>\n",
       "      <td>NaN</td>\n",
       "      <td>NaN</td>\n",
       "      <td>NaN</td>\n",
       "      <td>NaN</td>\n",
       "      <td>...</td>\n",
       "      <td>1.0</td>\n",
       "      <td>NaN</td>\n",
       "      <td>NaN</td>\n",
       "      <td>NaN</td>\n",
       "      <td>1.0</td>\n",
       "      <td>bachelor's degree</td>\n",
       "      <td>Studio Arts</td>\n",
       "      <td>NaN</td>\n",
       "      <td>NaN</td>\n",
       "      <td>NaN</td>\n",
       "      <td>NaN</td>\n",
       "      <td>NaN</td>\n",
       "      <td>NaN</td>\n",
       "      <td>1.0</td>\n",
       "      <td>NaN</td>\n",
       "      <td>NaN</td>\n",
       "      <td>NaN</td>\n",
       "      <td>NaN</td>\n",
       "      <td>NaN</td>\n",
       "      <td>NaN</td>\n",
       "      <td>NaN</td>\n",
       "      <td>NaN</td>\n",
       "      <td>NaN</td>\n",
       "      <td>NaN</td>\n",
       "      <td>NaN</td>\n",
       "    </tr>\n",
       "    <tr>\n",
       "      <th>18146</th>\n",
       "      <td>36.0</td>\n",
       "      <td>0.0</td>\n",
       "      <td>NaN</td>\n",
       "      <td>NaN</td>\n",
       "      <td>NaN</td>\n",
       "      <td>NaN</td>\n",
       "      <td>2.0</td>\n",
       "      <td>more than 1 million</td>\n",
       "      <td>NaN</td>\n",
       "      <td>NaN</td>\n",
       "      <td>NaN</td>\n",
       "      <td>NaN</td>\n",
       "      <td>NaN</td>\n",
       "      <td>NaN</td>\n",
       "      <td>NaN</td>\n",
       "      <td>NaN</td>\n",
       "      <td>NaN</td>\n",
       "      <td>NaN</td>\n",
       "      <td>NaN</td>\n",
       "      <td>NaN</td>\n",
       "      <td>NaN</td>\n",
       "      <td>NaN</td>\n",
       "      <td>NaN</td>\n",
       "      <td>NaN</td>\n",
       "      <td>30 to 44 minutes</td>\n",
       "      <td>...</td>\n",
       "      <td>1.0</td>\n",
       "      <td>NaN</td>\n",
       "      <td>NaN</td>\n",
       "      <td>NaN</td>\n",
       "      <td>1.0</td>\n",
       "      <td>bachelor's degree</td>\n",
       "      <td>Computational and Applied Mathematics</td>\n",
       "      <td>NaN</td>\n",
       "      <td>NaN</td>\n",
       "      <td>NaN</td>\n",
       "      <td>NaN</td>\n",
       "      <td>NaN</td>\n",
       "      <td>NaN</td>\n",
       "      <td>NaN</td>\n",
       "      <td>NaN</td>\n",
       "      <td>NaN</td>\n",
       "      <td>NaN</td>\n",
       "      <td>NaN</td>\n",
       "      <td>NaN</td>\n",
       "      <td>NaN</td>\n",
       "      <td>NaN</td>\n",
       "      <td>NaN</td>\n",
       "      <td>I simply search the topic and whatever found</td>\n",
       "      <td>NaN</td>\n",
       "      <td>NaN</td>\n",
       "    </tr>\n",
       "  </tbody>\n",
       "</table>\n",
       "<p>3 rows × 136 columns</p>\n",
       "</div>"
      ],
      "text/plain": [
       "        Age  AttendedBootcamp  BootcampFinish  BootcampLoanYesNo  \\\n",
       "6828   31.0               0.0             NaN                NaN   \n",
       "9801   28.0               1.0             0.0                0.0   \n",
       "18146  36.0               0.0             NaN                NaN   \n",
       "\n",
       "       BootcampName  BootcampRecommend  ChildrenNumber  \\\n",
       "6828            NaN                NaN             NaN   \n",
       "9801   Grand Circus                1.0             NaN   \n",
       "18146           NaN                NaN             2.0   \n",
       "\n",
       "                      CityPopulation  CodeEventConferences  \\\n",
       "6828   between 100,000 and 1 million                   NaN   \n",
       "9801   between 100,000 and 1 million                   NaN   \n",
       "18146            more than 1 million                   NaN   \n",
       "\n",
       "       CodeEventDjangoGirls  CodeEventFCC  CodeEventGameJam  CodeEventGirlDev  \\\n",
       "6828                    NaN           NaN               NaN               NaN   \n",
       "9801                    NaN           NaN               NaN               NaN   \n",
       "18146                   NaN           NaN               NaN               NaN   \n",
       "\n",
       "       CodeEventHackathons  CodeEventMeetup  CodeEventNodeSchool  \\\n",
       "6828                   NaN              NaN                  NaN   \n",
       "9801                   NaN              NaN                  NaN   \n",
       "18146                  NaN              NaN                  NaN   \n",
       "\n",
       "       CodeEventNone CodeEventOther  CodeEventRailsBridge  \\\n",
       "6828             NaN            NaN                   NaN   \n",
       "9801             NaN            NaN                   NaN   \n",
       "18146            NaN            NaN                   NaN   \n",
       "\n",
       "       CodeEventRailsGirls  CodeEventStartUpWknd  CodeEventWkdBootcamps  \\\n",
       "6828                   NaN                   NaN                    NaN   \n",
       "9801                   NaN                   NaN                    NaN   \n",
       "18146                  NaN                   NaN                    NaN   \n",
       "\n",
       "       CodeEventWomenCode  CodeEventWorkshops       CommuteTime  \\\n",
       "6828                  NaN                 NaN               NaN   \n",
       "9801                  NaN                 NaN               NaN   \n",
       "18146                 NaN                 NaN  30 to 44 minutes   \n",
       "\n",
       "              ...          ResourceSO ResourceTreehouse ResourceUdacity  \\\n",
       "6828          ...                 1.0               NaN             NaN   \n",
       "9801          ...                 1.0               NaN             NaN   \n",
       "18146         ...                 1.0               NaN             NaN   \n",
       "\n",
       "      ResourceUdemy ResourceW3S                       SchoolDegree  \\\n",
       "6828            1.0         1.0  no high school (secondary school)   \n",
       "9801            NaN         1.0                  bachelor's degree   \n",
       "18146           NaN         1.0                  bachelor's degree   \n",
       "\n",
       "                                 SchoolMajor  StudentDebtOwe  \\\n",
       "6828                                     NaN             NaN   \n",
       "9801                             Studio Arts             NaN   \n",
       "18146  Computational and Applied Mathematics             NaN   \n",
       "\n",
       "       YouTubeCodeCourse YouTubeCodingTrain YouTubeCodingTut360  \\\n",
       "6828                 NaN                NaN                 NaN   \n",
       "9801                 NaN                NaN                 NaN   \n",
       "18146                NaN                NaN                 NaN   \n",
       "\n",
       "       YouTubeComputerphile  YouTubeDerekBanas  YouTubeDevTips  \\\n",
       "6828                    NaN                NaN             NaN   \n",
       "9801                    NaN                NaN             1.0   \n",
       "18146                   NaN                NaN             NaN   \n",
       "\n",
       "       YouTubeEngineeredTruth  YouTubeFCC  YouTubeFunFunFunction  \\\n",
       "6828                      NaN         NaN                    NaN   \n",
       "9801                      NaN         NaN                    NaN   \n",
       "18146                     NaN         NaN                    NaN   \n",
       "\n",
       "       YouTubeGoogleDev  YouTubeLearnCode  YouTubeLevelUpTuts YouTubeMIT  \\\n",
       "6828                NaN               NaN                 NaN        NaN   \n",
       "9801                NaN               NaN                 NaN        NaN   \n",
       "18146               NaN               NaN                 NaN        NaN   \n",
       "\n",
       "      YouTubeMozillaHacks                                  YouTubeOther  \\\n",
       "6828                  NaN                                           NaN   \n",
       "9801                  NaN                                           NaN   \n",
       "18146                 NaN  I simply search the topic and whatever found   \n",
       "\n",
       "       YouTubeSimplilearn  YouTubeTheNewBoston  \n",
       "6828                  NaN                  NaN  \n",
       "9801                  NaN                  NaN  \n",
       "18146                 NaN                  NaN  \n",
       "\n",
       "[3 rows x 136 columns]"
      ]
     },
     "execution_count": 5,
     "metadata": {},
     "output_type": "execute_result"
    }
   ],
   "source": [
    "data.sample(3)"
   ]
  },
  {
   "cell_type": "markdown",
   "metadata": {},
   "source": [
    "### Subselecting The Data\n",
    "###### We have a wealth of data here, lets select columns that are relevant to our task.\n",
    "\n",
    "###### These columns will be related to where the coders are located, which regions have the most coders and how much money would they be willing to spend.\n",
    "\n",
    "###### We shall select the following columns:\n",
    "- Age - Age (we will not limit the age at which people can learn on our platform)\n",
    "- AttendedBootcamp - Number of Bootcamps attended by respondent\n",
    "- CountryLive - Repondents current country\n",
    "- Income - Amount (in \\$) earnt by respondent\n",
    "- MoneyForLearning - Amount (in \\$) spent learning coding\n",
    "- MonthsProgramming - Number of months spent learning"
   ]
  },
  {
   "cell_type": "code",
   "execution_count": 6,
   "metadata": {
    "collapsed": false
   },
   "outputs": [
    {
     "data": {
      "text/html": [
       "<div>\n",
       "<style scoped>\n",
       "    .dataframe tbody tr th:only-of-type {\n",
       "        vertical-align: middle;\n",
       "    }\n",
       "\n",
       "    .dataframe tbody tr th {\n",
       "        vertical-align: top;\n",
       "    }\n",
       "\n",
       "    .dataframe thead th {\n",
       "        text-align: right;\n",
       "    }\n",
       "</style>\n",
       "<table border=\"1\" class=\"dataframe\">\n",
       "  <thead>\n",
       "    <tr style=\"text-align: right;\">\n",
       "      <th></th>\n",
       "      <th>Age</th>\n",
       "      <th>AttendedBootcamp</th>\n",
       "      <th>CountryLive</th>\n",
       "      <th>Income</th>\n",
       "      <th>MoneyForLearning</th>\n",
       "      <th>MonthsProgramming</th>\n",
       "    </tr>\n",
       "  </thead>\n",
       "  <tbody>\n",
       "    <tr>\n",
       "      <th>11577</th>\n",
       "      <td>NaN</td>\n",
       "      <td>0.0</td>\n",
       "      <td>NaN</td>\n",
       "      <td>NaN</td>\n",
       "      <td>0.0</td>\n",
       "      <td>55.0</td>\n",
       "    </tr>\n",
       "    <tr>\n",
       "      <th>2214</th>\n",
       "      <td>24.0</td>\n",
       "      <td>0.0</td>\n",
       "      <td>Czech Republic</td>\n",
       "      <td>10000.0</td>\n",
       "      <td>150.0</td>\n",
       "      <td>12.0</td>\n",
       "    </tr>\n",
       "    <tr>\n",
       "      <th>2878</th>\n",
       "      <td>21.0</td>\n",
       "      <td>0.0</td>\n",
       "      <td>Nigeria</td>\n",
       "      <td>NaN</td>\n",
       "      <td>50.0</td>\n",
       "      <td>1.0</td>\n",
       "    </tr>\n",
       "  </tbody>\n",
       "</table>\n",
       "</div>"
      ],
      "text/plain": [
       "        Age  AttendedBootcamp     CountryLive   Income  MoneyForLearning  \\\n",
       "11577   NaN               0.0             NaN      NaN               0.0   \n",
       "2214   24.0               0.0  Czech Republic  10000.0             150.0   \n",
       "2878   21.0               0.0         Nigeria      NaN              50.0   \n",
       "\n",
       "       MonthsProgramming  \n",
       "11577               55.0  \n",
       "2214                12.0  \n",
       "2878                 1.0  "
      ]
     },
     "execution_count": 6,
     "metadata": {},
     "output_type": "execute_result"
    }
   ],
   "source": [
    "coders = data[['Age', 'AttendedBootcamp', 'CountryLive', 'Income', 'MoneyForLearning', 'MonthsProgramming']]\n",
    "coders.sample(3)"
   ]
  },
  {
   "cell_type": "markdown",
   "metadata": {},
   "source": [
    "### What Are The Biggest Markets\n",
    "###### To determine this we will group by the country the respondents live in."
   ]
  },
  {
   "cell_type": "code",
   "execution_count": 7,
   "metadata": {
    "collapsed": false
   },
   "outputs": [
    {
     "data": {
      "text/plain": [
       "CountryLive\n",
       "United States of America    5708\n",
       "India                       1385\n",
       "United Kingdom               748\n",
       "Canada                       604\n",
       "Brazil                       363\n",
       "Germany                      322\n",
       "Russia                       263\n",
       "Poland                       262\n",
       "Australia                    255\n",
       "France                       226\n",
       "Name: Age, dtype: int64"
      ]
     },
     "execution_count": 7,
     "metadata": {},
     "output_type": "execute_result"
    }
   ],
   "source": [
    "countries = coders.groupby(by='CountryLive').count()\n",
    "countries  = countries['Age'].sort_values(ascending = False)\n",
    "countries.head(10)"
   ]
  },
  {
   "cell_type": "markdown",
   "metadata": {},
   "source": [
    "###### United States the biggest market by number of people by a significant margin but what does this actually represent as a percentage."
   ]
  },
  {
   "cell_type": "code",
   "execution_count": 8,
   "metadata": {
    "collapsed": false
   },
   "outputs": [
    {
     "data": {
      "text/plain": [
       "15166"
      ]
     },
     "execution_count": 8,
     "metadata": {},
     "output_type": "execute_result"
    }
   ],
   "source": [
    "total_respondents = countries.sum()\n",
    "total_respondents"
   ]
  },
  {
   "cell_type": "code",
   "execution_count": 9,
   "metadata": {
    "collapsed": false
   },
   "outputs": [
    {
     "data": {
      "text/plain": [
       "CountryLive\n",
       "United States of America    37.636819\n",
       "India                        9.132270\n",
       "United Kingdom               4.932085\n",
       "Canada                       3.982593\n",
       "Brazil                       2.393512\n",
       "Germany                      2.123170\n",
       "Russia                       1.734142\n",
       "Poland                       1.727548\n",
       "Australia                    1.681393\n",
       "France                       1.490175\n",
       "Name: Age, dtype: float64"
      ]
     },
     "execution_count": 9,
     "metadata": {},
     "output_type": "execute_result"
    }
   ],
   "source": [
    "countries_absolute = countries.apply(lambda x: ((x*100)/total_respondents))\n",
    "countries_absolute.head(10)                      "
   ]
  },
  {
   "cell_type": "markdown",
   "metadata": {},
   "source": [
    "###### We will target four markets, the US, Canada, India and the United Kingdom.\n",
    "\n",
    "###### The markets are the largest without the need of creating our programme in multiple languages.\n",
    "\n",
    "###### We should take information with the caveat that they may different levels of cash they are willing to spend. To investigate this we will look at the MoneyForLearning and MonthsProgramming columns"
   ]
  },
  {
   "cell_type": "markdown",
   "metadata": {},
   "source": [
    "### Reducing The Dataset\n",
    "###### Lets see what sort of values we have in MonthsProgramming"
   ]
  },
  {
   "cell_type": "code",
   "execution_count": 10,
   "metadata": {
    "collapsed": false
   },
   "outputs": [
    {
     "data": {
      "text/plain": [
       "0.0     578\n",
       "1.0    1697\n",
       "2.0    1338\n",
       "3.0    1333\n",
       "4.0     732\n",
       "5.0     621\n",
       "6.0    1330\n",
       "7.0     274\n",
       "8.0     451\n",
       "9.0     231\n",
       "Name: MonthsProgramming, dtype: int64"
      ]
     },
     "execution_count": 10,
     "metadata": {},
     "output_type": "execute_result"
    }
   ],
   "source": [
    "coders['MonthsProgramming'].value_counts().sort_index().head(10)"
   ]
  },
  {
   "cell_type": "code",
   "execution_count": 11,
   "metadata": {
    "collapsed": false
   },
   "outputs": [
    {
     "data": {
      "text/plain": [
       "432.0     1\n",
       "447.0     1\n",
       "450.0     1\n",
       "480.0     5\n",
       "500.0     3\n",
       "572.0     1\n",
       "600.0     2\n",
       "720.0     1\n",
       "743.0     2\n",
       "744.0    12\n",
       "Name: MonthsProgramming, dtype: int64"
      ]
     },
     "execution_count": 11,
     "metadata": {},
     "output_type": "execute_result"
    }
   ],
   "source": [
    "coders['MonthsProgramming'].value_counts().sort_index().tail(10)"
   ]
  },
  {
   "cell_type": "markdown",
   "metadata": {},
   "source": [
    "###### 0 to 744 months is 0 to 62 years. Considering the earliest programming language was created ~1958 it seems possible some have learnt for that long. \n",
    "\n",
    "Lets view the data as a histogram."
   ]
  },
  {
   "cell_type": "code",
   "execution_count": 12,
   "metadata": {
    "collapsed": false
   },
   "outputs": [
    {
     "data": {
      "text/plain": [
       "<matplotlib.axes._subplots.AxesSubplot at 0x7f44f84ce048>"
      ]
     },
     "execution_count": 12,
     "metadata": {},
     "output_type": "execute_result"
    },
    {
     "data": {
      "image/png": "[encoded data removed]",
      "text/plain": [
       "<matplotlib.figure.Figure at 0x7f44f846b518>"
      ]
     },
     "metadata": {},
     "output_type": "display_data"
    }
   ],
   "source": [
    "coders['MonthsProgramming'].plot.hist(bins=20)"
   ]
  },
  {
   "cell_type": "markdown",
   "metadata": {},
   "source": [
    "###### Lets reduce this down and see everything below or equal to 150 months"
   ]
  },
  {
   "cell_type": "code",
   "execution_count": 13,
   "metadata": {
    "collapsed": false
   },
   "outputs": [
    {
     "data": {
      "text/plain": [
       "<matplotlib.axes._subplots.AxesSubplot at 0x7f44f83ba390>"
      ]
     },
     "execution_count": 13,
     "metadata": {},
     "output_type": "execute_result"
    },
    {
     "data": {
      "image/png": "[encoded data removed]",
      "text/plain": [
       "<matplotlib.figure.Figure at 0x7f44f8403940>"
      ]
     },
     "metadata": {},
     "output_type": "display_data"
    }
   ],
   "source": [
    "coders[coders['MonthsProgramming'] <= 150]['MonthsProgramming'].plot.hist(bins=40)"
   ]
  },
  {
   "cell_type": "markdown",
   "metadata": {},
   "source": [
    "###### There is a small rise at ~ 120 and various increases every 12months or so.\n",
    "###### Perhaps this is to be expected as someone may stop counting the actual months of learning and round off to years when too large.\n",
    "\n",
    "###### Lets reduce the data set to be 10years and below.\n",
    "###### But the question is does this represent our typical market? Lets see the percent of people above 10 years of learning."
   ]
  },
  {
   "cell_type": "code",
   "execution_count": 14,
   "metadata": {
    "collapsed": false
   },
   "outputs": [
    {
     "name": "stdout",
     "output_type": "stream",
     "text": [
      "1.49656121045392\n"
     ]
    }
   ],
   "source": [
    "print((len(coders[coders['MonthsProgramming'] > 120]))\n",
    "      / len(coders) *100)"
   ]
  },
  {
   "cell_type": "markdown",
   "metadata": {},
   "source": [
    "###### 1.5% percent of the data is an acceptable loss considering the inaccuracies we would have if we allowed 60 years of learning to be included."
   ]
  },
  {
   "cell_type": "code",
   "execution_count": 15,
   "metadata": {
    "collapsed": true
   },
   "outputs": [],
   "source": [
    "target_coders = coders[coders['MonthsProgramming'] <= 120].copy()"
   ]
  },
  {
   "cell_type": "markdown",
   "metadata": {},
   "source": [
    "###### Next step is to replace the 578 values that say they have no months learning with a value of 1. Else our calculation could show infinite cost per months learning in these rows."
   ]
  },
  {
   "cell_type": "code",
   "execution_count": 16,
   "metadata": {
    "collapsed": false
   },
   "outputs": [],
   "source": [
    "target_coders['MonthsProgramming'].replace(to_replace=0, value=1, inplace=True)"
   ]
  },
  {
   "cell_type": "markdown",
   "metadata": {},
   "source": [
    "###### Next lets look at the null values."
   ]
  },
  {
   "cell_type": "code",
   "execution_count": 17,
   "metadata": {
    "collapsed": false
   },
   "outputs": [
    {
     "data": {
      "text/plain": [
       "False    16812\n",
       "Name: MonthsProgramming, dtype: int64"
      ]
     },
     "execution_count": 17,
     "metadata": {},
     "output_type": "execute_result"
    }
   ],
   "source": [
    "target_coders['MonthsProgramming'].isnull().value_counts()"
   ]
  },
  {
   "cell_type": "code",
   "execution_count": 18,
   "metadata": {
    "collapsed": false
   },
   "outputs": [
    {
     "data": {
      "text/plain": [
       "False    14443\n",
       "True      2369\n",
       "Name: CountryLive, dtype: int64"
      ]
     },
     "execution_count": 18,
     "metadata": {},
     "output_type": "execute_result"
    }
   ],
   "source": [
    "target_coders['CountryLive'].isnull().value_counts()"
   ]
  },
  {
   "cell_type": "markdown",
   "metadata": {},
   "source": [
    "###### Frustratingly 16% of the remaining respondents decided to not indicate their country. This will be removed also."
   ]
  },
  {
   "cell_type": "code",
   "execution_count": 19,
   "metadata": {
    "collapsed": true
   },
   "outputs": [],
   "source": [
    "target_coders = target_coders[target_coders['CountryLive'].notnull()]"
   ]
  },
  {
   "cell_type": "markdown",
   "metadata": {},
   "source": [
    "### Determining Cash Spent Per Month Learnt By Country\n",
    "###### We have stated our target countries are United States of America, India, United Kingdom and Canada. We can now work out potential pricing for these countries"
   ]
  },
  {
   "cell_type": "code",
   "execution_count": 20,
   "metadata": {
    "collapsed": false
   },
   "outputs": [
    {
     "name": "stderr",
     "output_type": "stream",
     "text": [
      "/dataquest/system/env/python3/lib/python3.4/site-packages/ipykernel/__main__.py:4: SettingWithCopyWarning:\n",
      "\n",
      "\n",
      "A value is trying to be set on a copy of a slice from a DataFrame.\n",
      "Try using .loc[row_indexer,col_indexer] = value instead\n",
      "\n",
      "See the caveats in the documentation: http://pandas.pydata.org/pandas-docs/stable/indexing.html#indexing-view-versus-copy\n",
      "\n"
     ]
    }
   ],
   "source": [
    "top_targets = ['United States of America', 'India', 'United Kingdom', 'Canada']\n",
    "top_target_coders = target_coders[target_coders['CountryLive'].isin(top_targets)]\n",
    "#Creat a column for money per month which we will use later\n",
    "top_target_coders['Money_Per_Month'] = top_target_coders['MoneyForLearning'] / top_target_coders['MonthsProgramming']\n"
   ]
  },
  {
   "cell_type": "code",
   "execution_count": 21,
   "metadata": {
    "collapsed": false
   },
   "outputs": [
    {
     "data": {
      "text/plain": [
       "United States of America    5492\n",
       "India                       1317\n",
       "United Kingdom               716\n",
       "Canada                       585\n",
       "Name: CountryLive, dtype: int64"
      ]
     },
     "execution_count": 21,
     "metadata": {},
     "output_type": "execute_result"
    }
   ],
   "source": [
    "top_target_coders['CountryLive'].value_counts()"
   ]
  },
  {
   "cell_type": "markdown",
   "metadata": {},
   "source": [
    "###### Next lets group by country and perform the calculations."
   ]
  },
  {
   "cell_type": "code",
   "execution_count": 22,
   "metadata": {
    "collapsed": false
   },
   "outputs": [
    {
     "data": {
      "text/html": [
       "<div>\n",
       "<style scoped>\n",
       "    .dataframe tbody tr th:only-of-type {\n",
       "        vertical-align: middle;\n",
       "    }\n",
       "\n",
       "    .dataframe tbody tr th {\n",
       "        vertical-align: top;\n",
       "    }\n",
       "\n",
       "    .dataframe thead th {\n",
       "        text-align: right;\n",
       "    }\n",
       "</style>\n",
       "<table border=\"1\" class=\"dataframe\">\n",
       "  <thead>\n",
       "    <tr style=\"text-align: right;\">\n",
       "      <th></th>\n",
       "      <th>Mean_Money_For_Learning</th>\n",
       "      <th>Mean_Months_Programming</th>\n",
       "      <th>Mean_Money_Per_Month_Programming</th>\n",
       "    </tr>\n",
       "    <tr>\n",
       "      <th>CountryLive</th>\n",
       "      <th></th>\n",
       "      <th></th>\n",
       "      <th></th>\n",
       "    </tr>\n",
       "  </thead>\n",
       "  <tbody>\n",
       "    <tr>\n",
       "      <th>Canada</th>\n",
       "      <td>1328.263717</td>\n",
       "      <td>16.147009</td>\n",
       "      <td>82.260668</td>\n",
       "    </tr>\n",
       "    <tr>\n",
       "      <th>India</th>\n",
       "      <td>453.177539</td>\n",
       "      <td>20.481397</td>\n",
       "      <td>22.126300</td>\n",
       "    </tr>\n",
       "    <tr>\n",
       "      <th>United Kingdom</th>\n",
       "      <td>451.531295</td>\n",
       "      <td>15.861732</td>\n",
       "      <td>28.466708</td>\n",
       "    </tr>\n",
       "    <tr>\n",
       "      <th>United States of America</th>\n",
       "      <td>1489.627673</td>\n",
       "      <td>14.709760</td>\n",
       "      <td>101.267982</td>\n",
       "    </tr>\n",
       "  </tbody>\n",
       "</table>\n",
       "</div>"
      ],
      "text/plain": [
       "                          Mean_Money_For_Learning  Mean_Months_Programming  \\\n",
       "CountryLive                                                                  \n",
       "Canada                                1328.263717                16.147009   \n",
       "India                                  453.177539                20.481397   \n",
       "United Kingdom                         451.531295                15.861732   \n",
       "United States of America              1489.627673                14.709760   \n",
       "\n",
       "                          Mean_Money_Per_Month_Programming  \n",
       "CountryLive                                                 \n",
       "Canada                                           82.260668  \n",
       "India                                            22.126300  \n",
       "United Kingdom                                   28.466708  \n",
       "United States of America                        101.267982  "
      ]
     },
     "execution_count": 22,
     "metadata": {},
     "output_type": "execute_result"
    }
   ],
   "source": [
    "mean_potentials = pd.DataFrame(columns = ['Mean_Money_For_Learning',\n",
    "                                            'Mean_Months_Programming'])\n",
    "mean_potentials['Mean_Money_For_Learning'] = top_target_coders.groupby(by='CountryLive')['MoneyForLearning'].mean()\n",
    "mean_potentials['Mean_Months_Programming'] = top_target_coders.groupby(by='CountryLive')['MonthsProgramming'].mean()\n",
    "mean_potentials['Mean_Money_Per_Month_Programming'] = mean_potentials['Mean_Money_For_Learning'] / mean_potentials['Mean_Months_Programming']\n",
    "mean_potentials"
   ]
  },
  {
   "cell_type": "markdown",
   "metadata": {},
   "source": [
    "###### Perhaps suprisingly is the UK and India have far less available cash to spend than the USA and Canada. Lets see if there is some variation here. If we also plot the median and mode table equivalents we can see if there is some data that is skewing the results."
   ]
  },
  {
   "cell_type": "code",
   "execution_count": 23,
   "metadata": {
    "collapsed": false
   },
   "outputs": [
    {
     "data": {
      "text/html": [
       "<div>\n",
       "<style scoped>\n",
       "    .dataframe tbody tr th:only-of-type {\n",
       "        vertical-align: middle;\n",
       "    }\n",
       "\n",
       "    .dataframe tbody tr th {\n",
       "        vertical-align: top;\n",
       "    }\n",
       "\n",
       "    .dataframe thead th {\n",
       "        text-align: right;\n",
       "    }\n",
       "</style>\n",
       "<table border=\"1\" class=\"dataframe\">\n",
       "  <thead>\n",
       "    <tr style=\"text-align: right;\">\n",
       "      <th></th>\n",
       "      <th>Median_Money_For_Learning</th>\n",
       "      <th>Median_Months_Programming</th>\n",
       "      <th>Median_Money_Per_Month_Programming</th>\n",
       "    </tr>\n",
       "    <tr>\n",
       "      <th>CountryLive</th>\n",
       "      <th></th>\n",
       "      <th></th>\n",
       "      <th></th>\n",
       "    </tr>\n",
       "  </thead>\n",
       "  <tbody>\n",
       "    <tr>\n",
       "      <th>Canada</th>\n",
       "      <td>20.0</td>\n",
       "      <td>10.0</td>\n",
       "      <td>2.000000</td>\n",
       "    </tr>\n",
       "    <tr>\n",
       "      <th>India</th>\n",
       "      <td>0.0</td>\n",
       "      <td>12.0</td>\n",
       "      <td>0.000000</td>\n",
       "    </tr>\n",
       "    <tr>\n",
       "      <th>United Kingdom</th>\n",
       "      <td>15.0</td>\n",
       "      <td>8.0</td>\n",
       "      <td>1.875000</td>\n",
       "    </tr>\n",
       "    <tr>\n",
       "      <th>United States of America</th>\n",
       "      <td>50.0</td>\n",
       "      <td>7.0</td>\n",
       "      <td>7.142857</td>\n",
       "    </tr>\n",
       "  </tbody>\n",
       "</table>\n",
       "</div>"
      ],
      "text/plain": [
       "                          Median_Money_For_Learning  \\\n",
       "CountryLive                                           \n",
       "Canada                                         20.0   \n",
       "India                                           0.0   \n",
       "United Kingdom                                 15.0   \n",
       "United States of America                       50.0   \n",
       "\n",
       "                          Median_Months_Programming  \\\n",
       "CountryLive                                           \n",
       "Canada                                         10.0   \n",
       "India                                          12.0   \n",
       "United Kingdom                                  8.0   \n",
       "United States of America                        7.0   \n",
       "\n",
       "                          Median_Money_Per_Month_Programming  \n",
       "CountryLive                                                   \n",
       "Canada                                              2.000000  \n",
       "India                                               0.000000  \n",
       "United Kingdom                                      1.875000  \n",
       "United States of America                            7.142857  "
      ]
     },
     "execution_count": 23,
     "metadata": {},
     "output_type": "execute_result"
    }
   ],
   "source": [
    "median_potentials = pd.DataFrame(columns = ['Median_Money_For_Learning',\n",
    "                                            'Median_Months_Programming'])\n",
    "median_potentials['Median_Money_For_Learning'] = top_target_coders.groupby(by='CountryLive')['MoneyForLearning'].median()\n",
    "median_potentials['Median_Months_Programming'] = top_target_coders.groupby(by='CountryLive')['MonthsProgramming'].median()\n",
    "median_potentials['Median_Money_Per_Month_Programming'] = median_potentials['Median_Money_For_Learning'] / median_potentials['Median_Months_Programming']\n",
    "median_potentials"
   ]
  },
  {
   "cell_type": "code",
   "execution_count": 24,
   "metadata": {
    "collapsed": false
   },
   "outputs": [
    {
     "data": {
      "text/html": [
       "<div>\n",
       "<style scoped>\n",
       "    .dataframe tbody tr th:only-of-type {\n",
       "        vertical-align: middle;\n",
       "    }\n",
       "\n",
       "    .dataframe tbody tr th {\n",
       "        vertical-align: top;\n",
       "    }\n",
       "\n",
       "    .dataframe thead th {\n",
       "        text-align: right;\n",
       "    }\n",
       "</style>\n",
       "<table border=\"1\" class=\"dataframe\">\n",
       "  <thead>\n",
       "    <tr style=\"text-align: right;\">\n",
       "      <th></th>\n",
       "      <th>Mode_Money_For_Learning</th>\n",
       "      <th>Mode_Months_Programming</th>\n",
       "      <th>Mode_Money_Per_Month_Programming</th>\n",
       "    </tr>\n",
       "    <tr>\n",
       "      <th>CountryLive</th>\n",
       "      <th></th>\n",
       "      <th></th>\n",
       "      <th></th>\n",
       "    </tr>\n",
       "  </thead>\n",
       "  <tbody>\n",
       "    <tr>\n",
       "      <th>Canada</th>\n",
       "      <td>20.0</td>\n",
       "      <td>10.0</td>\n",
       "      <td>2.000000</td>\n",
       "    </tr>\n",
       "    <tr>\n",
       "      <th>India</th>\n",
       "      <td>0.0</td>\n",
       "      <td>12.0</td>\n",
       "      <td>0.000000</td>\n",
       "    </tr>\n",
       "    <tr>\n",
       "      <th>United Kingdom</th>\n",
       "      <td>15.0</td>\n",
       "      <td>8.0</td>\n",
       "      <td>1.875000</td>\n",
       "    </tr>\n",
       "    <tr>\n",
       "      <th>United States of America</th>\n",
       "      <td>50.0</td>\n",
       "      <td>7.0</td>\n",
       "      <td>7.142857</td>\n",
       "    </tr>\n",
       "  </tbody>\n",
       "</table>\n",
       "</div>"
      ],
      "text/plain": [
       "                          Mode_Money_For_Learning  Mode_Months_Programming  \\\n",
       "CountryLive                                                                  \n",
       "Canada                                       20.0                     10.0   \n",
       "India                                         0.0                     12.0   \n",
       "United Kingdom                               15.0                      8.0   \n",
       "United States of America                     50.0                      7.0   \n",
       "\n",
       "                          Mode_Money_Per_Month_Programming  \n",
       "CountryLive                                                 \n",
       "Canada                                            2.000000  \n",
       "India                                             0.000000  \n",
       "United Kingdom                                    1.875000  \n",
       "United States of America                          7.142857  "
      ]
     },
     "execution_count": 24,
     "metadata": {},
     "output_type": "execute_result"
    }
   ],
   "source": [
    "mode_potentials = pd.DataFrame(columns = ['Mode_Money_For_Learning',\n",
    "                                            'Mode_Months_Programming'])\n",
    "mode_potentials['Mode_Money_For_Learning'] = top_target_coders.groupby(by='CountryLive')['MoneyForLearning'].median()\n",
    "mode_potentials['Mode_Months_Programming'] = top_target_coders.groupby(by='CountryLive')['MonthsProgramming'].median()\n",
    "mode_potentials['Mode_Money_Per_Month_Programming'] = mode_potentials['Mode_Money_For_Learning'] / mode_potentials['Mode_Months_Programming']\n",
    "mode_potentials"
   ]
  },
  {
   "cell_type": "markdown",
   "metadata": {},
   "source": [
    "###### The Median and Mode for India show that most respondents have stated they spent zero cash on learning."
   ]
  },
  {
   "cell_type": "code",
   "execution_count": 25,
   "metadata": {
    "collapsed": false
   },
   "outputs": [
    {
     "name": "stderr",
     "output_type": "stream",
     "text": [
      "/dataquest/system/env/python3/lib/python3.4/site-packages/seaborn/categorical.py:454: FutureWarning:\n",
      "\n",
      "remove_na is deprecated and is a private function. Do not use.\n",
      "\n"
     ]
    },
    {
     "data": {
      "image/png": "[encoded data removed]",
      "text/plain": [
       "<matplotlib.figure.Figure at 0x7f44f82d7710>"
      ]
     },
     "metadata": {},
     "output_type": "display_data"
    }
   ],
   "source": [
    "import seaborn as sns\n",
    "sns.boxplot(y = 'Money_Per_Month', x = 'CountryLive',\n",
    "            data = top_target_coders)\n",
    "plt.title('Money Spent Per Month Per Country\\n(Distributions)',\n",
    "         fontsize = 16)\n",
    "plt.ylabel('Money per month (US dollars)')\n",
    "plt.xlabel('Country')\n",
    "plt.xticks(range(4), ['Canada', 'USA','UK', 'India'])\n",
    "plt.show()"
   ]
  },
  {
   "cell_type": "markdown",
   "metadata": {},
   "source": [
    "###### There is great disparity here in the results for the USA. Up to 80000 visible on the boxplot. Lets see where these high spenders live."
   ]
  },
  {
   "cell_type": "code",
   "execution_count": 26,
   "metadata": {
    "collapsed": false
   },
   "outputs": [
    {
     "data": {
      "text/plain": [
       "CountryLive               Money_Per_Month\n",
       "India                     10000.000000       1\n",
       "United States of America  8000.000000        2\n",
       "                          15000.000000       2\n",
       "                          5333.333333        1\n",
       "                          5666.666667        1\n",
       "                          6500.000000        1\n",
       "                          6666.666667        1\n",
       "                          7083.333333        1\n",
       "                          7500.000000        1\n",
       "                          9000.000000        1\n",
       "                          10833.333333       1\n",
       "                          12500.000000       1\n",
       "                          14000.000000       1\n",
       "                          14500.000000       1\n",
       "                          16666.666667       1\n",
       "                          25000.000000       1\n",
       "                          45000.000000       1\n",
       "                          50000.000000       1\n",
       "                          60000.000000       1\n",
       "                          80000.000000       1\n",
       "Name: Money_Per_Month, dtype: int64"
      ]
     },
     "execution_count": 26,
     "metadata": {},
     "output_type": "execute_result"
    }
   ],
   "source": [
    "top_target_coders[top_target_coders['Money_Per_Month'] > 5000].groupby(by='CountryLive')['Money_Per_Month'].value_counts()"
   ]
  },
  {
   "cell_type": "markdown",
   "metadata": {},
   "source": [
    "###### The USA has one record of 100,000 spend on learning per month. Could this be accurate?\n",
    "\n",
    "###### These outliers are so extreme that we cannot even see the traditional box of the boxplot due to the scale distortion. Lets reduce the y limits of the graph to see the boxes."
   ]
  },
  {
   "cell_type": "code",
   "execution_count": 27,
   "metadata": {
    "collapsed": false
   },
   "outputs": [
    {
     "name": "stderr",
     "output_type": "stream",
     "text": [
      "/dataquest/system/env/python3/lib/python3.4/site-packages/seaborn/categorical.py:454: FutureWarning:\n",
      "\n",
      "remove_na is deprecated and is a private function. Do not use.\n",
      "\n"
     ]
    },
    {
     "data": {
      "image/png": "[encoded data removed]",
      "text/plain": [
       "<matplotlib.figure.Figure at 0x7f44ecdce2b0>"
      ]
     },
     "metadata": {},
     "output_type": "display_data"
    }
   ],
   "source": [
    "sns.boxplot(y = 'Money_Per_Month', x = 'CountryLive',\n",
    "            data = top_target_coders)\n",
    "plt.title('Money Spent Per Month Per Country\\n(Distributions)',\n",
    "         fontsize = 16)\n",
    "plt.ylabel('Money per month (US dollars)')\n",
    "plt.xlabel('Country')\n",
    "plt.xticks(range(4), ['Canada', 'USA','UK', 'India'])\n",
    "plt.ylim(-20, 140)\n",
    "plt.show()"
   ]
  },
  {
   "cell_type": "markdown",
   "metadata": {},
   "source": [
    "###### Looks like we will have to reduce this down once again"
   ]
  },
  {
   "cell_type": "code",
   "execution_count": 28,
   "metadata": {
    "collapsed": false
   },
   "outputs": [
    {
     "name": "stderr",
     "output_type": "stream",
     "text": [
      "/dataquest/system/env/python3/lib/python3.4/site-packages/seaborn/categorical.py:454: FutureWarning:\n",
      "\n",
      "remove_na is deprecated and is a private function. Do not use.\n",
      "\n"
     ]
    },
    {
     "data": {
      "image/png": "[encoded data removed]",
      "text/plain": [
       "<matplotlib.figure.Figure at 0x7f44ecd27908>"
      ]
     },
     "metadata": {},
     "output_type": "display_data"
    }
   ],
   "source": [
    "sns.boxplot(y = 'Money_Per_Month', x = 'CountryLive',\n",
    "            data = top_target_coders)\n",
    "plt.title('Money Spent Per Month Per Country\\n(Distributions)',\n",
    "         fontsize = 16)\n",
    "plt.ylabel('Money per month (US dollars)')\n",
    "plt.xlabel('Country')\n",
    "plt.xticks(range(4), ['Canada', 'USA','UK', 'India'])\n",
    "plt.ylim(-10, 10)\n",
    "plt.show()"
   ]
  },
  {
   "cell_type": "markdown",
   "metadata": {},
   "source": [
    "###### This is generally quite bad news for our prospective business. More than half (of even these top markets) have been paying less than $5 a month on learning.\n",
    "\n",
    "###### In India it is very dire, most will pay less than a dollar a month. Would this be even enough to cover the infrastructure costs of that market?"
   ]
  },
  {
   "cell_type": "markdown",
   "metadata": {},
   "source": [
    "### Removing The 'Big Spenders'\n",
    "###### It is clear that some of these Big Spenders are inaccurate, even if they were accurate it is extremely unlikely that someone with this much investable cash would be doing an online course rather than private tuition and a degree.\n",
    "\n",
    "###### We will make the top quartile of the USA as our upper limit at $125 dollars per month."
   ]
  },
  {
   "cell_type": "code",
   "execution_count": 29,
   "metadata": {
    "collapsed": false
   },
   "outputs": [],
   "source": [
    "#we shall call this group the average top coders#\n",
    "average_top_coders = top_target_coders[top_target_coders['Money_Per_Month'] <= 125].copy()"
   ]
  },
  {
   "cell_type": "markdown",
   "metadata": {},
   "source": [
    "###### Now lets see how this has affected our means per country"
   ]
  },
  {
   "cell_type": "code",
   "execution_count": 30,
   "metadata": {
    "collapsed": false,
    "scrolled": true
   },
   "outputs": [
    {
     "data": {
      "text/html": [
       "<div>\n",
       "<style scoped>\n",
       "    .dataframe tbody tr th:only-of-type {\n",
       "        vertical-align: middle;\n",
       "    }\n",
       "\n",
       "    .dataframe tbody tr th {\n",
       "        vertical-align: top;\n",
       "    }\n",
       "\n",
       "    .dataframe thead th {\n",
       "        text-align: right;\n",
       "    }\n",
       "</style>\n",
       "<table border=\"1\" class=\"dataframe\">\n",
       "  <thead>\n",
       "    <tr style=\"text-align: right;\">\n",
       "      <th></th>\n",
       "      <th>Mean_Money_For_Learning</th>\n",
       "      <th>Mean_Months_Programming</th>\n",
       "      <th>Mean_Money_Per_Month_Programming</th>\n",
       "    </tr>\n",
       "    <tr>\n",
       "      <th>CountryLive</th>\n",
       "      <th></th>\n",
       "      <th></th>\n",
       "      <th></th>\n",
       "    </tr>\n",
       "  </thead>\n",
       "  <tbody>\n",
       "    <tr>\n",
       "      <th>Canada</th>\n",
       "      <td>144.248954</td>\n",
       "      <td>16.338912</td>\n",
       "      <td>8.828553</td>\n",
       "    </tr>\n",
       "    <tr>\n",
       "      <th>India</th>\n",
       "      <td>118.695499</td>\n",
       "      <td>21.432480</td>\n",
       "      <td>5.538113</td>\n",
       "    </tr>\n",
       "    <tr>\n",
       "      <th>United Kingdom</th>\n",
       "      <td>170.059098</td>\n",
       "      <td>16.379471</td>\n",
       "      <td>10.382453</td>\n",
       "    </tr>\n",
       "    <tr>\n",
       "      <th>United States of America</th>\n",
       "      <td>181.056267</td>\n",
       "      <td>15.263460</td>\n",
       "      <td>11.862072</td>\n",
       "    </tr>\n",
       "  </tbody>\n",
       "</table>\n",
       "</div>"
      ],
      "text/plain": [
       "                          Mean_Money_For_Learning  Mean_Months_Programming  \\\n",
       "CountryLive                                                                  \n",
       "Canada                                 144.248954                16.338912   \n",
       "India                                  118.695499                21.432480   \n",
       "United Kingdom                         170.059098                16.379471   \n",
       "United States of America               181.056267                15.263460   \n",
       "\n",
       "                          Mean_Money_Per_Month_Programming  \n",
       "CountryLive                                                 \n",
       "Canada                                            8.828553  \n",
       "India                                             5.538113  \n",
       "United Kingdom                                   10.382453  \n",
       "United States of America                         11.862072  "
      ]
     },
     "execution_count": 30,
     "metadata": {},
     "output_type": "execute_result"
    }
   ],
   "source": [
    "new_mean_potentials = pd.DataFrame(columns = ['Mean_Money_For_Learning',\n",
    "                                            'Mean_Months_Programming'])\n",
    "new_mean_potentials['Mean_Money_For_Learning'] = average_top_coders.groupby(by='CountryLive')['MoneyForLearning'].mean()\n",
    "new_mean_potentials['Mean_Months_Programming'] = average_top_coders.groupby(by='CountryLive')['MonthsProgramming'].mean()\n",
    "new_mean_potentials['Mean_Money_Per_Month_Programming'] = new_mean_potentials['Mean_Money_For_Learning'] / new_mean_potentials['Mean_Months_Programming']\n",
    "new_mean_potentials"
   ]
  },
  {
   "cell_type": "markdown",
   "metadata": {},
   "source": [
    "###### Now this looks more like what we intuitively expected.\n",
    "\n",
    "###### USA > UK > Canada >> India in average spending potential.\n",
    "\n",
    "###### India will be of a low priority in advertising."
   ]
  },
  {
   "cell_type": "markdown",
   "metadata": {},
   "source": [
    "### Choosing The Right Advertising Markets\n",
    "###### Our online education will be advertised at $59 dollars a month. How many potential clients could we expect from each market?"
   ]
  },
  {
   "cell_type": "code",
   "execution_count": 31,
   "metadata": {
    "collapsed": false
   },
   "outputs": [
    {
     "data": {
      "text/plain": [
       "CountryLive\n",
       "Canada                       16\n",
       "India                        52\n",
       "United Kingdom               52\n",
       "United States of America    357\n",
       "Name: Money_Per_Month, dtype: int64"
      ]
     },
     "execution_count": 31,
     "metadata": {},
     "output_type": "execute_result"
    }
   ],
   "source": [
    "target_market_coders = average_top_coders[average_top_coders['Money_Per_Month'] >= 59].copy()\n",
    "target_market_coders.groupby(by='CountryLive')['Money_Per_Month'].count()"
   ]
  },
  {
   "cell_type": "markdown",
   "metadata": {},
   "source": [
    "### Conclusion\n",
    "\n",
    "###### Comparing this information to the boxplot we can see there is a clear target market: \n",
    "\n",
    "- USA\n",
    "\n",
    "###### It has the highest proportion of people with an income above our price point and these people are not 'outliers' in the survey so they are very likely to accurately reflect future customers.\n",
    "\n",
    "###### 357 customers per month would yield a revenue of $250,000 a year."
   ]
  }
 ],
 "metadata": {
  "kernelspec": {
   "display_name": "Python 3",
   "language": "python",
   "name": "python3"
  },
  "language_info": {
   "codemirror_mode": {
    "name": "ipython",
    "version": 3
   },
   "file_extension": ".py",
   "mimetype": "text/x-python",
   "name": "python",
   "nbconvert_exporter": "python",
   "pygments_lexer": "ipython3",
   "version": "3.4.3"
  }
 },
 "nbformat": 4,
 "nbformat_minor": 2
}
