{
 "cells": [
  {
   "cell_type": "markdown",
   "metadata": {
    "collapsed": true
   },
   "source": [
    "# Hacker News Posting Trends\n",
    "\n",
    "This is a project with the popular technology site 'Hacker News'. https://news.ycombinator.com/\n",
    "\n",
    "We will be analysing the data to look at when people tend to post and what types of posts are more popular in terms of comments.\n",
    "\n",
    "First lets load the dataset and print the first 5 lines"
   ]
  },
  {
   "cell_type": "code",
   "execution_count": 1,
   "metadata": {},
   "outputs": [
    {
     "name": "stdout",
     "output_type": "stream",
     "text": [
      "[['id', 'title', 'url', 'num_points', 'num_comments', 'author', 'created_at'], ['12224879', 'Interactive Dynamic Video', 'http://www.interactivedynamicvideo.com/', '386', '52', 'ne0phyte', '8/4/2016 11:52'], ['10975351', 'How to Use Open Source and Shut the Fuck Up at the Same Time', 'http://hueniverse.com/2016/01/26/how-to-use-open-source-and-shut-the-fuck-up-at-the-same-time/', '39', '10', 'josep2', '1/26/2016 19:30'], ['11964716', \"Florida DJs May Face Felony for April Fools' Water Joke\", 'http://www.thewire.com/entertainment/2013/04/florida-djs-april-fools-water-joke/63798/', '2', '1', 'vezycash', '6/23/2016 22:20'], ['11919867', 'Technology ventures: From Idea to Enterprise', 'https://www.amazon.com/Technology-Ventures-Enterprise-Thomas-Byers/dp/0073523429', '3', '1', 'hswarna', '6/17/2016 0:01']]\n"
     ]
    }
   ],
   "source": [
    "from csv import reader\n",
    "opened_file = open('hacker_news.csv')\n",
    "read_file = reader(opened_file)\n",
    "hn = list(read_file)\n",
    "print(hn[:5])"
   ]
  },
  {
   "cell_type": "markdown",
   "metadata": {},
   "source": [
    "Column definitions\n",
    "- id: The unique post identification number\n",
    "- title: A short description of the post\n",
    "- url: The URL that a post links to (if applicable)\n",
    "- num_points: The number of points a post has (measured by approval - disapproval votes)\n",
    "- num_comments: The number of comments made by users on the post\n",
    "- author: The username of the post creator\n",
    "- created_at: The date and time post was created in MM/DD/YYYY hh/mm format.\n",
    "\n",
    "The data is in a list of list format which is fine, but the columns are the the first list. Lets remove this from the dataset."
   ]
  },
  {
   "cell_type": "code",
   "execution_count": 2,
   "metadata": {},
   "outputs": [
    {
     "name": "stdout",
     "output_type": "stream",
     "text": [
      "[['12224879', 'Interactive Dynamic Video', 'http://www.interactivedynamicvideo.com/', '386', '52', 'ne0phyte', '8/4/2016 11:52'], ['10975351', 'How to Use Open Source and Shut the Fuck Up at the Same Time', 'http://hueniverse.com/2016/01/26/how-to-use-open-source-and-shut-the-fuck-up-at-the-same-time/', '39', '10', 'josep2', '1/26/2016 19:30']]\n"
     ]
    }
   ],
   "source": [
    "headers = hn[0]\n",
    "hn = hn[1:]\n",
    "print(hn[:2])\n"
   ]
  },
  {
   "cell_type": "markdown",
   "metadata": {},
   "source": [
    "### Isolating Ask And Show Type Posts\n",
    "\n",
    "There are different types of posts available in the datasets. The posts we are interested in is the ask_posts and show_posts which are community lead rather than news driven. The rest of the posts we will put into other_posts."
   ]
  },
  {
   "cell_type": "code",
   "execution_count": 5,
   "metadata": {},
   "outputs": [
    {
     "name": "stdout",
     "output_type": "stream",
     "text": [
      "Number of Ask posts: 1744\n",
      "Number of Show posts: 1162\n",
      "Number of Other posts: 18938\n"
     ]
    }
   ],
   "source": [
    "ask_posts = []\n",
    "show_posts = []\n",
    "other_posts = []\n",
    "\n",
    "for row in hn:\n",
    "    title = row[1]\n",
    "    title = title.lower() #Avoids case sensitivity issues\n",
    "    if title.startswith('ask hn'):\n",
    "        ask_posts.append(row)\n",
    "    if title.startswith('show hn'):\n",
    "        show_posts.append(row)    \n",
    "    else:\n",
    "        other_posts.append(row)\n",
    "#C        \n",
    "print('Number of Ask posts:',len(ask_posts))\n",
    "print('Number of Show posts:',len(show_posts))\n",
    "print('Number of Other posts:',len(other_posts))"
   ]
  },
  {
   "cell_type": "markdown",
   "metadata": {},
   "source": [
    "Other posts are the majority in our dataset. For now we are only concerned with Ask and Show posts.\n",
    "\n",
    "Now that we have the number of posts lets work out the number of comments for these."
   ]
  },
  {
   "cell_type": "code",
   "execution_count": 6,
   "metadata": {},
   "outputs": [
    {
     "name": "stdout",
     "output_type": "stream",
     "text": [
      "Average number of comments in Ask posts: 14.038417431192661\n"
     ]
    }
   ],
   "source": [
    "total_ask_comments = 0\n",
    "for row in ask_posts:\n",
    "    num_comments = int(row[4])\n",
    "    total_ask_comments += num_comments\n",
    "    \n",
    "avg_ask_comments = total_ask_comments / (len(ask_posts))\n",
    "print('Average number of comments in Ask posts:',avg_ask_comments)"
   ]
  },
  {
   "cell_type": "code",
   "execution_count": 7,
   "metadata": {},
   "outputs": [
    {
     "name": "stdout",
     "output_type": "stream",
     "text": [
      "Number of comments in Show posts: 10.31669535283993\n"
     ]
    }
   ],
   "source": [
    "total_show_comments = 0\n",
    "for row in show_posts:\n",
    "    num_comments = int(row[4])\n",
    "    total_show_comments += num_comments\n",
    "\n",
    "avg_show_comments = total_show_comments / (len(show_posts))\n",
    "print('Number of comments in Show posts:',avg_show_comments)"
   ]
  },
  {
   "cell_type": "markdown",
   "metadata": {},
   "source": [
    "Ask posts show higher number of comments that show posts. Perhaps because feedback is actively requested?\n",
    "\n",
    "### Analysing Time Of Posting\n",
    "\n",
    "We will now focus on the Ask posts as these give the greatest comment response.\n",
    "The question to ask is: \"Is there a particular time that ask posts are more likely to attract comments?\"\n",
    "\n",
    "To do this we will use a module called datetime to parse the 'created_at' column of data"
   ]
  },
  {
   "cell_type": "code",
   "execution_count": 9,
   "metadata": {},
   "outputs": [
    {
     "name": "stdout",
     "output_type": "stream",
     "text": [
      "[['8/16/2016 9:55', 6], ['11/22/2015 13:43', 29], ['5/2/2016 10:14', 1], ['8/2/2016 14:20', 3]]\n"
     ]
    }
   ],
   "source": [
    "import datetime as dt\n",
    "result_list = []\n",
    "for row in ask_posts:\n",
    "    created_at = row[6]\n",
    "    num_comments = int(row[4])\n",
    "    result = ([created_at, num_comments])\n",
    "    result_list.append(result)\n",
    "print(result_list[:4])\n",
    "    "
   ]
  },
  {
   "cell_type": "markdown",
   "metadata": {},
   "source": [
    "Heres a quick overview of what the datetime module can do"
   ]
  },
  {
   "cell_type": "code",
   "execution_count": 18,
   "metadata": {},
   "outputs": [
    {
     "name": "stdout",
     "output_type": "stream",
     "text": [
      "13\n"
     ]
    }
   ],
   "source": [
    "time = \"11/22/2015 13:43\"\n",
    "#Create the datetime object from a string#\n",
    "time = dt.datetime.strptime(time, \"%m/%d/%Y %H:%M\") \n",
    "#create an hour string from a datetime object#\n",
    "time = dt.datetime.strftime(time, \"%H\") \n",
    "print(time)"
   ]
  },
  {
   "cell_type": "markdown",
   "metadata": {},
   "source": [
    "Now that we have established the datetime function, lets use it to create a frequency dictionary of posts in each hour"
   ]
  },
  {
   "cell_type": "code",
   "execution_count": 12,
   "metadata": {},
   "outputs": [],
   "source": [
    "counts_by_hour = {}\n",
    "comments_by_hour = {}\n",
    "for row in result_list:\n",
    "    created = row[0]\n",
    "    comments = row[1]\n",
    "    time = dt.datetime.strptime(created, \"%m/%d/%Y %H:%M\")\n",
    "    hour = dt.datetime.strftime(time, \"%H\")\n",
    "    #If its not in the dictionary create the hour and set frequency to 1#\n",
    "    if hour not in counts_by_hour:\n",
    "        counts_by_hour[hour] = 1\n",
    "        comments_by_hour[hour] = comments\n",
    "    #If it is in dictionary then increase the hours comment frequency by 1#\n",
    "    else:\n",
    "        counts_by_hour[hour] += 1\n",
    "        comments_by_hour[hour] += comments   "
   ]
  },
  {
   "cell_type": "code",
   "execution_count": 27,
   "metadata": {},
   "outputs": [
    {
     "name": "stdout",
     "output_type": "stream",
     "text": [
      "Hour : Counts\n"
     ]
    },
    {
     "data": {
      "text/plain": [
       "[('15', 116),\n",
       " ('19', 110),\n",
       " ('21', 109),\n",
       " ('18', 109),\n",
       " ('16', 108),\n",
       " ('14', 107),\n",
       " ('17', 100),\n",
       " ('13', 85),\n",
       " ('20', 80),\n",
       " ('12', 73),\n",
       " ('22', 71),\n",
       " ('23', 68),\n",
       " ('01', 60),\n",
       " ('10', 59),\n",
       " ('02', 58),\n",
       " ('11', 58),\n",
       " ('00', 55),\n",
       " ('03', 54),\n",
       " ('08', 48),\n",
       " ('04', 47),\n",
       " ('05', 46),\n",
       " ('09', 45),\n",
       " ('06', 44),\n",
       " ('07', 34)]"
      ]
     },
     "execution_count": 27,
     "metadata": {},
     "output_type": "execute_result"
    }
   ],
   "source": [
    "print('Hour : Counts')\n",
    "sorted(counts_by_hour.items(), key=lambda x: x[1] ,reverse= True)"
   ]
  },
  {
   "cell_type": "markdown",
   "metadata": {},
   "source": [
    "### Working Out The Number Of Comments Per Hour\n",
    "\n",
    "Now we should look at how many comments are made in total in each hour"
   ]
  },
  {
   "cell_type": "code",
   "execution_count": 28,
   "metadata": {},
   "outputs": [
    {
     "name": "stdout",
     "output_type": "stream",
     "text": [
      "Hour : Comments\n"
     ]
    },
    {
     "data": {
      "text/plain": [
       "[('15', 4477),\n",
       " ('16', 1814),\n",
       " ('21', 1745),\n",
       " ('20', 1722),\n",
       " ('18', 1439),\n",
       " ('14', 1416),\n",
       " ('02', 1381),\n",
       " ('13', 1253),\n",
       " ('19', 1188),\n",
       " ('17', 1146),\n",
       " ('10', 793),\n",
       " ('12', 687),\n",
       " ('01', 683),\n",
       " ('11', 641),\n",
       " ('23', 543),\n",
       " ('08', 492),\n",
       " ('22', 479),\n",
       " ('05', 464),\n",
       " ('00', 447),\n",
       " ('03', 421),\n",
       " ('06', 397),\n",
       " ('04', 337),\n",
       " ('07', 267),\n",
       " ('09', 251)]"
      ]
     },
     "execution_count": 28,
     "metadata": {},
     "output_type": "execute_result"
    }
   ],
   "source": [
    "print('Hour : Comments')\n",
    "sorted(comments_by_hour.items(), key=lambda x: x[1] ,reverse= True)"
   ]
  },
  {
   "cell_type": "markdown",
   "metadata": {},
   "source": [
    "### Calculating Average Number of Comments Per Post In Each Hour\n",
    "\n",
    "We have the number of posts per each hour and the number of comments per each hour, so now we can calculate the average number of comments per post in each hour."
   ]
  },
  {
   "cell_type": "code",
   "execution_count": 62,
   "metadata": {},
   "outputs": [
    {
     "name": "stdout",
     "output_type": "stream",
     "text": [
      "Hour : Average Comments Per Hour \n",
      "\n",
      "[['09', 5.58], ['13', 14.74], ['10', 13.44], ['14', 13.23], ['16', 16.8], ['23', 7.99], ['12', 9.41], ['17', 11.46], ['15', 38.59], ['21', 16.01], ['20', 21.52], ['02', 23.81], ['18', 13.2], ['03', 7.8], ['05', 10.09], ['19', 10.8], ['01', 11.38], ['22', 6.75], ['08', 10.25], ['04', 7.17], ['00', 8.13], ['06', 9.02], ['07', 7.85], ['11', 11.05]]\n"
     ]
    }
   ],
   "source": [
    "comments = []\n",
    "average_by_hour = []\n",
    "for hour in comments_by_hour:\n",
    "    average_by_hour.append([hour, round(comments_by_hour[hour]/counts_by_hour[hour],2)])\n",
    "print('Hour : Average Comments Per Hour', '\\n')\n",
    "print(average_by_hour)"
   ]
  },
  {
   "cell_type": "markdown",
   "metadata": {},
   "source": [
    "Now lets print the most popular times to post and their average comments per post.\n"
   ]
  },
  {
   "cell_type": "code",
   "execution_count": 67,
   "metadata": {},
   "outputs": [
    {
     "name": "stdout",
     "output_type": "stream",
     "text": [
      "[(5.58, '09'), (14.74, '13'), (13.44, '10'), (13.23, '14'), (16.8, '16'), (7.99, '23'), (9.41, '12'), (11.46, '17'), (38.59, '15'), (16.01, '21'), (21.52, '20'), (23.81, '02'), (13.2, '18'), (7.8, '03'), (10.09, '05'), (10.8, '19'), (11.38, '01'), (6.75, '22'), (10.25, '08'), (7.17, '04'), (8.13, '00'), (9.02, '06'), (7.85, '07'), (11.05, '11')]\n"
     ]
    }
   ],
   "source": [
    "swap_avg_by_hour = []\n",
    "for row in average_by_hour:\n",
    "    swap_avg_by_hour.append ((row[1], row[0]))\n",
    "print(swap_avg_by_hour[:])"
   ]
  },
  {
   "cell_type": "markdown",
   "metadata": {},
   "source": [
    "Next we will sort the list in order to produce the top 5 posting times in terms of Central Standard Time"
   ]
  },
  {
   "cell_type": "code",
   "execution_count": 74,
   "metadata": {},
   "outputs": [
    {
     "name": "stdout",
     "output_type": "stream",
     "text": [
      "Here is the list sorted by average comments: [(38.59, '15'), (23.81, '02'), (21.52, '20'), (16.8, '16'), (16.01, '21'), (14.74, '13'), (13.44, '10'), (13.23, '14'), (13.2, '18'), (11.46, '17'), (11.38, '01'), (11.05, '11'), (10.8, '19'), (10.25, '08'), (10.09, '05'), (9.41, '12'), (9.02, '06'), (8.13, '00'), (7.99, '23'), (7.85, '07'), (7.8, '03'), (7.17, '04'), (6.75, '22'), (5.58, '09')] \n",
      "\n",
      "\n",
      "These are the top 5 times to post at:\n",
      "At 14:00 Central Standard Time there are on average 38.59 comments per post\n",
      "At 01:00 Central Standard Time there are on average 23.81 comments per post\n",
      "At 19:00 Central Standard Time there are on average 21.52 comments per post\n",
      "At 15:00 Central Standard Time there are on average 16.8 comments per post\n",
      "At 20:00 Central Standard Time there are on average 16.01 comments per post\n"
     ]
    }
   ],
   "source": [
    "swap_avg_by_hour = sorted(swap_avg_by_hour, reverse = True)\n",
    "print('Here is the list sorted by average comments:',swap_avg_by_hour, '\\n\\n')\n",
    "print(\"These are the top 5 times to post at:\")\n",
    "for row in swap_avg_by_hour[:5]:\n",
    "    hour = row[1]\n",
    "    commenttotal = row[0]\n",
    "#     commenttotal = str(commenttotal)\n",
    "#     commenttotal = int(commenttotal)\n",
    "    # The original time zone was Eastern Standard.\n",
    "    # Here I am converting to Central Standard by subtracting an hour.\n",
    "    convert_to_cst = dt.datetime.strptime(hour, '%H')\n",
    "    cst = convert_to_cst - dt.timedelta(hours=1)\n",
    "    cst = cst.strftime(\"%H:%M\")     \n",
    "   \n",
    "    avg_comments = round(commenttotal,2)\n",
    "    print(\"At {0} Central Standard Time there are on average {1} comments per post\".format(cst, avg_comments))"
   ]
  },
  {
   "cell_type": "markdown",
   "metadata": {},
   "source": [
    "### Conclusion\n",
    "\n",
    "The results show some disparity in the top 5 posting times to get a community response. These are 1AM, 2PM, 3PM, 7PM and 8PM Central Standard Time.\n",
    "The majority of posters are from the USA and so there will be some variation in the local times of the posters.\n",
    "\n",
    "The worst time is at 8am, presumably as most people in the USA will be commuting to work or at work."
   ]
  }
 ],
 "metadata": {
  "kernelspec": {
   "display_name": "Python 3",
   "language": "python",
   "name": "python3"
  },
  "language_info": {
   "codemirror_mode": {
    "name": "ipython",
    "version": 3
   },
   "file_extension": ".py",
   "mimetype": "text/x-python",
   "name": "python",
   "nbconvert_exporter": "python",
   "pygments_lexer": "ipython3",
   "version": "3.8.2"
  }
 },
 "nbformat": 4,
 "nbformat_minor": 2
}
