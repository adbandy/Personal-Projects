{
 "cells": [
  {
   "cell_type": "markdown",
   "metadata": {
    "collapsed": true
   },
   "source": [
    "# A Mobile App For Lottery Addiction\n",
    "In this project we will be looking at the [6/49 Lottery](https://en.wikipedia.org/wiki/Lotto_6/49) which is a lottery held in Canada. \n",
    "\n",
    "Like many others 6 matching numbers gets you the jackpot big prize. \n",
    "\n",
    "Smaller prizes are on offer for two to 5 winning numbers also.\n",
    "\n",
    "We will be creating different fuctions for a Lottery Addiction app to do the following:\n",
    "- Calculate the probability of winning the big prize with a single ticket\n",
    "- Check whether a certain combination has occurred in the Canada lottery data set\n",
    "- Calculate how likely a repeat combination will take in a given number of draws\n",
    "- Calculate the probability for any number of of tickets between 1 and 13,983,816\n",
    "- Calculate the probability of having two, three, four or five winning numbers"
   ]
  },
  {
   "cell_type": "markdown",
   "metadata": {},
   "source": [
    "### Possible Outcomes Calculators\n",
    "A key part of determining probabilities is determining the number of possible outcomes. \n",
    "Here we will construct two functions:\n",
    " - factorial() : For a number n calculate: n * n-1 * n-2 ... n - (n-1).\n",
    " \n",
    "i.e. 6 factorial = 6! = 6 * 5 * 4 * 3 * 2 * 1 = 720\n",
    "\n",
    "- combinations(): For a number of objects k from total number of objects n calculate (n! / (k!(n-k!)) with no replacement. Any order is permitted.(No Replacement means the number/ object cannot be reused in sequence)\n",
    "\n",
    "\n",
    "\n",
    "i.e. combinations of 4 numbers out of 6 = (6! / (4!(6-4!)) = 15"
   ]
  },
  {
   "cell_type": "code",
   "execution_count": 1,
   "metadata": {
    "collapsed": true
   },
   "outputs": [],
   "source": [
    "def factorial(n):\n",
    "    if n <1:\n",
    "        return 1\n",
    "    else:\n",
    "        return (n * factorial(n-1))\n",
    "\n",
    "def combinations(n,k):\n",
    "    numerator = factorial(n)\n",
    "    denominator = (factorial(k) * (factorial(n-k)))\n",
    "    return (numerator/denominator)"
   ]
  },
  {
   "cell_type": "markdown",
   "metadata": {},
   "source": [
    "### The Elusive Single Ticket Big Prize Win\n",
    "\n",
    "In the 6/49 lottery six numbers are drawn from 49 numbers (that range from 1 to 49)\n",
    "\n",
    "A player wins the big prize if 6 numbers match the six drawn.\n",
    "\n",
    "Lets begin by calculating the big prize probability from just one ticket purchased."
   ]
  },
  {
   "cell_type": "code",
   "execution_count": 2,
   "metadata": {
    "collapsed": false
   },
   "outputs": [],
   "source": [
    "total_possible_outcomes = combinations(49,6)\n",
    "total_possible_outcomes_million = total_possible_outcomes / 1000000\n",
    "def one_ticket_probability(ticket_list):\n",
    "    if len(ticket_list) != 6:\n",
    "        print(\"Please select 6 tickets\")\n",
    "        return\n",
    "    if len(set(ticket_list)) != 6:\n",
    "        print(\"Cannot select same numbers more than once\")\n",
    "        return\n",
    "    else:\n",
    "        probability_of_one_ticket = 1 / total_possible_outcomes\n",
    "        percent_probability = probability_of_one_ticket * 100\n",
    "        print(\"With these numbers\", ticket_list, \"you have a {:.7f}% chance of winning.\".format(percent_probability)) \n",
    "        print(\"There are {:.2f} million possible ticket combinations\".format(total_possible_outcomes_million))"
   ]
  },
  {
   "cell_type": "code",
   "execution_count": 3,
   "metadata": {
    "collapsed": false
   },
   "outputs": [
    {
     "name": "stdout",
     "output_type": "stream",
     "text": [
      "Please select 6 tickets\n",
      "\n",
      "\n",
      "Cannot select same numbers more than once\n",
      "\n",
      "\n",
      "With these numbers [49, 2, 48, 4, 47, 6] you have a 0.0000072% chance of winning.\n",
      "There are 13.98 million possible ticket combinations\n",
      "\n",
      "\n",
      "With these numbers [1, 2, 3, 4, 5, 6] you have a 0.0000072% chance of winning.\n",
      "There are 13.98 million possible ticket combinations\n"
     ]
    }
   ],
   "source": [
    "one_ticket_probability([1,2,3,4,5,6,7])\n",
    "print('\\n')\n",
    "one_ticket_probability([1,2,3,4,5,5])\n",
    "print('\\n')\n",
    "one_ticket_probability([49,2,48,4,47,6])\n",
    "print('\\n')\n",
    "one_ticket_probability([1,2,3,4,5,6])"
   ]
  },
  {
   "cell_type": "markdown",
   "metadata": {},
   "source": [
    "Here we have created a simple program that allows a player to enter their numbers and calculate their chances of winning. \n",
    "\n",
    "We have also created some redundancy in the event that too few, too many or duplicate numbers are selected."
   ]
  },
  {
   "cell_type": "markdown",
   "metadata": {},
   "source": [
    "### Testing The Real Data Set\n",
    "This [dataset](https://www.kaggle.com/datascienceai/lottery-dataset) contains 3665 drawings (lottery events) from 1982 to 2018.\n",
    "\n",
    "Lets preview the data."
   ]
  },
  {
   "cell_type": "code",
   "execution_count": 4,
   "metadata": {
    "collapsed": false
   },
   "outputs": [
    {
     "name": "stdout",
     "output_type": "stream",
     "text": [
      "      PRODUCT  DRAW NUMBER  SEQUENCE NUMBER   DRAW DATE  NUMBER DRAWN 1  \\\n",
      "2927      649         2919                0   1/11/2012               9   \n",
      "2941      649         2933                0   2/29/2012               5   \n",
      "1440      649         1441                0  11/12/1997               4   \n",
      "1076      649         1077                0   5/18/1994               1   \n",
      "177       649          178                0   10/5/1985               4   \n",
      "\n",
      "      NUMBER DRAWN 2  NUMBER DRAWN 3  NUMBER DRAWN 4  NUMBER DRAWN 5  \\\n",
      "2927              10              11              18              39   \n",
      "2941               6               8               9              11   \n",
      "1440               5              14              30              32   \n",
      "1076               4               8              30              31   \n",
      "177                6              22              27              31   \n",
      "\n",
      "      NUMBER DRAWN 6  BONUS NUMBER  \n",
      "2927              45            23  \n",
      "2941              40            28  \n",
      "1440              34            27  \n",
      "1076              33            21  \n",
      "177               33            45  \n",
      "The dataset has 3665 rows and 11 columns.\n"
     ]
    }
   ],
   "source": [
    "import pandas as pd\n",
    "lottery = pd.read_csv('649.csv')\n",
    "print(lottery.sample(5))\n",
    "print(\"The dataset has\", lottery.shape[0], \"rows and\", lottery.shape[1], \"columns.\")"
   ]
  },
  {
   "cell_type": "code",
   "execution_count": 5,
   "metadata": {
    "collapsed": false
   },
   "outputs": [
    {
     "data": {
      "text/plain": [
       "PRODUCT            0\n",
       "DRAW NUMBER        0\n",
       "SEQUENCE NUMBER    0\n",
       "DRAW DATE          0\n",
       "NUMBER DRAWN 1     0\n",
       "NUMBER DRAWN 2     0\n",
       "NUMBER DRAWN 3     0\n",
       "NUMBER DRAWN 4     0\n",
       "NUMBER DRAWN 5     0\n",
       "NUMBER DRAWN 6     0\n",
       "BONUS NUMBER       0\n",
       "dtype: int64"
      ]
     },
     "execution_count": 5,
     "metadata": {},
     "output_type": "execute_result"
    }
   ],
   "source": [
    "lottery.isnull().sum()"
   ]
  },
  {
   "cell_type": "markdown",
   "metadata": {},
   "source": [
    "We have the draw numbers, draw dates and the 6 numbers drawn (+1 extra bonus number).\n",
    "\n",
    "Helpfully we have no null (empty) data cells."
   ]
  },
  {
   "cell_type": "markdown",
   "metadata": {},
   "source": [
    "### Historical Winning Numbers\n",
    "It will also be of interest to our players wether their number has been a winner in the past.\n",
    "\n",
    "It should be noted that past events dont influence future ones but this is more for fun for the players."
   ]
  },
  {
   "cell_type": "code",
   "execution_count": 6,
   "metadata": {
    "collapsed": false,
    "scrolled": true
   },
   "outputs": [],
   "source": [
    "def extract_numbers(row):\n",
    "    row = row[4:10]\n",
    "    row = set(row.values)\n",
    "    row = sorted(row)\n",
    "    return tuple(row)"
   ]
  },
  {
   "cell_type": "code",
   "execution_count": 7,
   "metadata": {
    "collapsed": false
   },
   "outputs": [
    {
     "data": {
      "text/plain": [
       "3353     (7, 15, 27, 31, 35, 44)\n",
       "733      (5, 10, 16, 20, 29, 42)\n",
       "120     (21, 22, 29, 36, 38, 41)\n",
       "3394      (3, 8, 25, 27, 36, 38)\n",
       "51       (4, 14, 24, 31, 33, 35)\n",
       "Name: winning_numbers, dtype: object"
      ]
     },
     "execution_count": 7,
     "metadata": {},
     "output_type": "execute_result"
    }
   ],
   "source": [
    "lottery['winning_numbers'] = lottery.apply(extract_numbers, axis = 'columns') \n",
    "#axis set to columns to apply method to each row#\n",
    "lottery['winning_numbers'].sample(5)"
   ]
  },
  {
   "cell_type": "code",
   "execution_count": 8,
   "metadata": {
    "collapsed": false
   },
   "outputs": [
    {
     "data": {
      "text/plain": [
       "(5, 9, 23, 30, 34, 36)     1\n",
       "(6, 15, 23, 30, 34, 43)    1\n",
       "(3, 8, 9, 33, 39, 49)      1\n",
       "(9, 21, 22, 29, 48, 49)    1\n",
       "(6, 10, 20, 30, 31, 39)    1\n",
       "Name: winning_numbers, dtype: int64"
      ]
     },
     "execution_count": 8,
     "metadata": {},
     "output_type": "execute_result"
    }
   ],
   "source": [
    "lottery['winning_numbers'].value_counts(sort = True).head()"
   ]
  },
  {
   "cell_type": "markdown",
   "metadata": {},
   "source": [
    "It is very interesting to see that there even in the 3665 times the lottery has been run there have been no recurrences of a repeat combination. \n",
    "\n",
    "What are the odds of this happening?"
   ]
  },
  {
   "cell_type": "code",
   "execution_count": 9,
   "metadata": {
    "collapsed": true
   },
   "outputs": [],
   "source": [
    "def likelyhood_of_repeat_combination(number_of_draws):\n",
    "    odds = (1-(1/combinations(49,6))) **number_of_draws\n",
    "    print(\"The percent likelyhood of having no repeats is {} %\".format(odds * 100))\n",
    "    print(\"\\n\")\n",
    "    print(\"The percent likelyhood of having a repeats is {} %\".format((1-odds) * 100))"
   ]
  },
  {
   "cell_type": "code",
   "execution_count": 10,
   "metadata": {
    "collapsed": false
   },
   "outputs": [
    {
     "name": "stdout",
     "output_type": "stream",
     "text": [
      "The percent likelyhood of having no repeats is 99.97379456442258 %\n",
      "\n",
      "\n",
      "The percent likelyhood of having a repeats is 0.026205435577431047 %\n"
     ]
    }
   ],
   "source": [
    "likelyhood_of_repeat_combination(3665)"
   ]
  },
  {
   "cell_type": "markdown",
   "metadata": {},
   "source": [
    "As there are 14 million combinations and only 3.7 thousand draws its hardly surpising the chances of a repeat were very low."
   ]
  },
  {
   "cell_type": "code",
   "execution_count": 11,
   "metadata": {
    "collapsed": false,
    "scrolled": true
   },
   "outputs": [
    {
     "name": "stdout",
     "output_type": "stream",
     "text": [
      "The percent likelyhood of having no repeats is 49.97441372465429 %\n",
      "\n",
      "\n",
      "The percent likelyhood of having a repeats is 50.02558627534571 %\n"
     ]
    }
   ],
   "source": [
    "likelyhood_of_repeat_combination(9700000)"
   ]
  },
  {
   "cell_type": "markdown",
   "metadata": {},
   "source": [
    "In the next 9.7million draws we would expect there to be a ~ 50:50 chance of a repeat number."
   ]
  },
  {
   "cell_type": "markdown",
   "metadata": {},
   "source": [
    "Now lets create a function that allows a player to check whether their picked numbers were previously a winner."
   ]
  },
  {
   "cell_type": "code",
   "execution_count": 12,
   "metadata": {
    "collapsed": true
   },
   "outputs": [],
   "source": [
    "def check_historical_occurence(player_numbers, historical_data):\n",
    "    winners = historical_data['winning_numbers']\n",
    "    player_numbers = tuple(sorted(player_numbers))\n",
    "    for i in winners:\n",
    "        if player_numbers == i:\n",
    "            draw_date = historical_data[winners == player_numbers]['DRAW DATE']\n",
    "            return \"These were winning numbers on {}\".format(draw_date[0])\n",
    "        else:\n",
    "            return \"No previous winners with these numbers\""
   ]
  },
  {
   "cell_type": "code",
   "execution_count": 13,
   "metadata": {
    "collapsed": false,
    "scrolled": true
   },
   "outputs": [
    {
     "name": "stdout",
     "output_type": "stream",
     "text": [
      "[3, 11, 12, 14, 41, 43] \n",
      " These were winning numbers on 6/12/1982\n",
      "\n",
      "\n",
      "[1, 2, 3, 4, 5, 6] \n",
      " No previous winners with these numbers\n"
     ]
    }
   ],
   "source": [
    "player_1_numbers = [3, 11, 12, 14, 41, 43]\n",
    "print(player_1_numbers, \"\\n\", check_historical_occurence(player_1_numbers, lottery))\n",
    "print(\"\\n\")\n",
    "player_2_numbers = [1, 2, 3, 4, 5, 6]\n",
    "print(player_2_numbers, \"\\n\", check_historical_occurence(player_2_numbers, lottery))"
   ]
  },
  {
   "cell_type": "markdown",
   "metadata": {},
   "source": [
    "### Multiple Tickets Means Better Odds?\n",
    "This is clear to all players. But what might be interesting to a player is what are my odds if I buy x tickets?"
   ]
  },
  {
   "cell_type": "code",
   "execution_count": 14,
   "metadata": {
    "collapsed": true
   },
   "outputs": [],
   "source": [
    "def multi_ticket_probability(ticket_number):\n",
    "    no_of_outcomes = combinations(49,6)\n",
    "    chance = ticket_number / no_of_outcomes\n",
    "    percent_chance = chance * 100\n",
    "    print(\"With {} number of tickets you have a {:.7f}% chance of winning.\".format(ticket_number, percent_chance)) "
   ]
  },
  {
   "cell_type": "code",
   "execution_count": 15,
   "metadata": {
    "collapsed": false
   },
   "outputs": [
    {
     "name": "stdout",
     "output_type": "stream",
     "text": [
      "With 1 number of tickets you have a 0.0000072% chance of winning.\n",
      "None\n",
      "\n",
      "\n",
      "With 10 number of tickets you have a 0.0000715% chance of winning.\n",
      "None\n",
      "\n",
      "\n",
      "With 100 number of tickets you have a 0.0007151% chance of winning.\n",
      "None\n",
      "\n",
      "\n",
      "With 1000 number of tickets you have a 0.0071511% chance of winning.\n",
      "None\n",
      "\n",
      "\n",
      "With 10000 number of tickets you have a 0.0715112% chance of winning.\n",
      "None\n",
      "\n",
      "\n",
      "With 100000 number of tickets you have a 0.7151124% chance of winning.\n",
      "None\n"
     ]
    }
   ],
   "source": [
    "print(multi_ticket_probability(1))\n",
    "print(\"\\n\")\n",
    "print(multi_ticket_probability(10))\n",
    "print(\"\\n\")\n",
    "print(multi_ticket_probability(100))\n",
    "print(\"\\n\")\n",
    "print(multi_ticket_probability(1000))\n",
    "print(\"\\n\")\n",
    "print(multi_ticket_probability(10000))\n",
    "print(\"\\n\")\n",
    "print(multi_ticket_probability(100000))"
   ]
  },
  {
   "cell_type": "markdown",
   "metadata": {},
   "source": [
    "These are not great odds.\n",
    "Buying 100 thousand tickets would give you a 1% chance of winning.\n",
    "Seeing as each ticket is 3 Canadian dollars (~£1.7) you could lost a lot of money."
   ]
  },
  {
   "cell_type": "markdown",
   "metadata": {},
   "source": [
    "### Smaller Prizes Better Odds\n",
    "In addition to the big prize (like most lotterys) there are extra prizes if you match two, three, four or five of the winning numbers.\n",
    "\n",
    "We will show a player the odds of winning a lower prize in our app."
   ]
  },
  {
   "cell_type": "code",
   "execution_count": 16,
   "metadata": {
    "collapsed": false
   },
   "outputs": [],
   "source": [
    "def probability_less_than_6(no_of_winning_numbers):\n",
    "    if (no_of_winning_numbers <2) or (no_of_winning_numbers >= 6):\n",
    "        return \"Please select 2, 3, 4, or 5 tickets\"\n",
    "    else:\n",
    "        ticket_combinations = combinations(6, no_of_winning_numbers)\n",
    "        #There are 6 numbers on a ticket which wins these prizes. \n",
    "        #To match k of the winning numbers, we must select k of 6 winning numbers\n",
    "        #AND we must select (6 − k) of the 43 non-winning numbers.\n",
    "        #Therefore there are combination(6,K) x combination(43,(6-k)) winning tickets.\n",
    "        remaining_combinations = combinations(43, 6-no_of_winning_numbers)\n",
    "        successful_outcomes = ticket_combinations * remaining_combinations\n",
    "        possible_outcomes = combinations(49,6)\n",
    "        probability = successful_outcomes / possible_outcomes\n",
    "        percent_prob = probability * 100\n",
    "        simplified = round(possible_outcomes/successful_outcomes)\n",
    "        print(\"The odds of getting {} number of winning numbers exactly is a {:.5f}% chance. \\nThis is a 1 in {:,} chance of winning\".format(no_of_winning_numbers, percent_prob, int(simplified)))"
   ]
  },
  {
   "cell_type": "code",
   "execution_count": 17,
   "metadata": {
    "collapsed": false
   },
   "outputs": [
    {
     "name": "stdout",
     "output_type": "stream",
     "text": [
      "The odds of getting 2 number of winning numbers exactly is a 13.23780% chance. \n",
      "This is a 1 in 8 chance of winning\n"
     ]
    }
   ],
   "source": [
    "probability_less_than_6(2)"
   ]
  },
  {
   "cell_type": "code",
   "execution_count": 18,
   "metadata": {
    "collapsed": false
   },
   "outputs": [
    {
     "name": "stdout",
     "output_type": "stream",
     "text": [
      "The odds of getting 3 number of winning numbers exactly is a 1.76504% chance. \n",
      "This is a 1 in 57 chance of winning\n"
     ]
    }
   ],
   "source": [
    "probability_less_than_6(3)"
   ]
  },
  {
   "cell_type": "code",
   "execution_count": 19,
   "metadata": {
    "collapsed": false,
    "scrolled": true
   },
   "outputs": [
    {
     "name": "stdout",
     "output_type": "stream",
     "text": [
      "The odds of getting 4 number of winning numbers exactly is a 0.09686% chance. \n",
      "This is a 1 in 1,032 chance of winning\n"
     ]
    }
   ],
   "source": [
    "probability_less_than_6(4)"
   ]
  },
  {
   "cell_type": "markdown",
   "metadata": {},
   "source": [
    "### Conclusion\n",
    "We have now created 5 fun and informative functions for the mobile application.\n",
    "\n",
    "Future additions could be comparing probabilities to other unlikely events (i.e. like being hit by lightning) or "
   ]
  }
 ],
 "metadata": {
  "kernelspec": {
   "display_name": "Python 3",
   "language": "python",
   "name": "python3"
  },
  "language_info": {
   "codemirror_mode": {
    "name": "ipython",
    "version": 3
   },
   "file_extension": ".py",
   "mimetype": "text/x-python",
   "name": "python",
   "nbconvert_exporter": "python",
   "pygments_lexer": "ipython3",
   "version": "3.4.3"
  }
 },
 "nbformat": 4,
 "nbformat_minor": 2
}
