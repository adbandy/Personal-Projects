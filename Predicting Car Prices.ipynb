{
 "cells": [
  {
   "cell_type": "markdown",
   "metadata": {
    "collapsed": true
   },
   "source": [
    "# Predicting Car Prices Using K-Nearest Neighbours\n",
    "## Overview\n",
    "\n",
    "###### In this project we will be using the KNN algorithm to predict a car's market value based on its attributes\n",
    "\n",
    "###### The data set we will be using is found (here)[https://archive.ics.uci.edu/ml/datasets/automobile] and contains a vast array of car information"
   ]
  },
  {
   "cell_type": "code",
   "execution_count": 41,
   "metadata": {
    "collapsed": true
   },
   "outputs": [],
   "source": [
    "%matplotlib inline\n",
    "import matplotlib.pyplot as plt #for graph plotting#\n",
    "import pandas as pd #for dataframe editing#\n",
    "import numpy as np #for numeric operations#\n",
    "from sklearn.neighbors import KNeighborsRegressor #for performing the KNN stats#\n",
    "from sklearn.metrics import mean_squared_error #to calculate the error between predicted and actual#\n",
    "import seaborn as sns #for graph plotting#\n",
    "from sklearn.model_selection import cross_val_score, KFold #for performing K-fold type KNN#\n",
    "cars = pd.read_csv('imports-85.data')"
   ]
  },
  {
   "cell_type": "code",
   "execution_count": 2,
   "metadata": {
    "collapsed": false,
    "scrolled": true
   },
   "outputs": [
    {
     "name": "stdout",
     "output_type": "stream",
     "text": [
      "<class 'pandas.core.frame.DataFrame'>\n",
      "RangeIndex: 204 entries, 0 to 203\n",
      "Data columns (total 26 columns):\n",
      "3              204 non-null int64\n",
      "?              204 non-null object\n",
      "alfa-romero    204 non-null object\n",
      "gas            204 non-null object\n",
      "std            204 non-null object\n",
      "two            204 non-null object\n",
      "convertible    204 non-null object\n",
      "rwd            204 non-null object\n",
      "front          204 non-null object\n",
      "88.60          204 non-null float64\n",
      "168.80         204 non-null float64\n",
      "64.10          204 non-null float64\n",
      "48.80          204 non-null float64\n",
      "2548           204 non-null int64\n",
      "dohc           204 non-null object\n",
      "four           204 non-null object\n",
      "130            204 non-null int64\n",
      "mpfi           204 non-null object\n",
      "3.47           204 non-null object\n",
      "2.68           204 non-null object\n",
      "9.00           204 non-null float64\n",
      "111            204 non-null object\n",
      "5000           204 non-null object\n",
      "21             204 non-null int64\n",
      "27             204 non-null int64\n",
      "13495          204 non-null object\n",
      "dtypes: float64(5), int64(5), object(16)\n",
      "memory usage: 41.5+ KB\n"
     ]
    }
   ],
   "source": [
    "cars.info()"
   ]
  },
  {
   "cell_type": "markdown",
   "metadata": {},
   "source": [
    "###### This dataset is complete with no null values. Machine learning will need numeric values for all columns in the training and test data however.\n",
    "\n",
    "###### Lots of columns names here are seemingly meaningless, the cause of this is the database has no header and has taken the first car row as the header.\n",
    "\n",
    "###### We can fix this by setting header = None in the read_csv method"
   ]
  },
  {
   "cell_type": "code",
   "execution_count": 3,
   "metadata": {
    "collapsed": false
   },
   "outputs": [],
   "source": [
    "cars = pd.read_csv('imports-85.data', header = None)"
   ]
  },
  {
   "cell_type": "code",
   "execution_count": 4,
   "metadata": {
    "collapsed": false
   },
   "outputs": [],
   "source": [
    "cars.columns = ['symboling','normalized-losses','make','fuel-type',' aspiration',' num-of-doors',' body-style',' drive-wheels',\n",
    "' engine-location',' wheel-base',' length',' width',' height',' curb-weight',' engine-type',\n",
    "' num-of-cylinders',' engine-size',' fuel-system',' bore',' stroke',' compression-ratio',\n",
    "' horsepower',' peak-rpm',' city-mpg',' highway-mpg',' price']"
   ]
  },
  {
   "cell_type": "code",
   "execution_count": 5,
   "metadata": {
    "collapsed": false,
    "scrolled": false
   },
   "outputs": [
    {
     "data": {
      "text/html": [
       "<div>\n",
       "<style scoped>\n",
       "    .dataframe tbody tr th:only-of-type {\n",
       "        vertical-align: middle;\n",
       "    }\n",
       "\n",
       "    .dataframe tbody tr th {\n",
       "        vertical-align: top;\n",
       "    }\n",
       "\n",
       "    .dataframe thead th {\n",
       "        text-align: right;\n",
       "    }\n",
       "</style>\n",
       "<table border=\"1\" class=\"dataframe\">\n",
       "  <thead>\n",
       "    <tr style=\"text-align: right;\">\n",
       "      <th></th>\n",
       "      <th>symboling</th>\n",
       "      <th>normalized-losses</th>\n",
       "      <th>make</th>\n",
       "      <th>fuel-type</th>\n",
       "      <th>aspiration</th>\n",
       "      <th>num-of-doors</th>\n",
       "      <th>body-style</th>\n",
       "      <th>drive-wheels</th>\n",
       "      <th>engine-location</th>\n",
       "      <th>wheel-base</th>\n",
       "      <th>...</th>\n",
       "      <th>engine-size</th>\n",
       "      <th>fuel-system</th>\n",
       "      <th>bore</th>\n",
       "      <th>stroke</th>\n",
       "      <th>compression-ratio</th>\n",
       "      <th>horsepower</th>\n",
       "      <th>peak-rpm</th>\n",
       "      <th>city-mpg</th>\n",
       "      <th>highway-mpg</th>\n",
       "      <th>price</th>\n",
       "    </tr>\n",
       "  </thead>\n",
       "  <tbody>\n",
       "    <tr>\n",
       "      <th>0</th>\n",
       "      <td>3</td>\n",
       "      <td>?</td>\n",
       "      <td>alfa-romero</td>\n",
       "      <td>gas</td>\n",
       "      <td>std</td>\n",
       "      <td>two</td>\n",
       "      <td>convertible</td>\n",
       "      <td>rwd</td>\n",
       "      <td>front</td>\n",
       "      <td>88.6</td>\n",
       "      <td>...</td>\n",
       "      <td>130</td>\n",
       "      <td>mpfi</td>\n",
       "      <td>3.47</td>\n",
       "      <td>2.68</td>\n",
       "      <td>9.0</td>\n",
       "      <td>111</td>\n",
       "      <td>5000</td>\n",
       "      <td>21</td>\n",
       "      <td>27</td>\n",
       "      <td>13495</td>\n",
       "    </tr>\n",
       "    <tr>\n",
       "      <th>1</th>\n",
       "      <td>3</td>\n",
       "      <td>?</td>\n",
       "      <td>alfa-romero</td>\n",
       "      <td>gas</td>\n",
       "      <td>std</td>\n",
       "      <td>two</td>\n",
       "      <td>convertible</td>\n",
       "      <td>rwd</td>\n",
       "      <td>front</td>\n",
       "      <td>88.6</td>\n",
       "      <td>...</td>\n",
       "      <td>130</td>\n",
       "      <td>mpfi</td>\n",
       "      <td>3.47</td>\n",
       "      <td>2.68</td>\n",
       "      <td>9.0</td>\n",
       "      <td>111</td>\n",
       "      <td>5000</td>\n",
       "      <td>21</td>\n",
       "      <td>27</td>\n",
       "      <td>16500</td>\n",
       "    </tr>\n",
       "    <tr>\n",
       "      <th>2</th>\n",
       "      <td>1</td>\n",
       "      <td>?</td>\n",
       "      <td>alfa-romero</td>\n",
       "      <td>gas</td>\n",
       "      <td>std</td>\n",
       "      <td>two</td>\n",
       "      <td>hatchback</td>\n",
       "      <td>rwd</td>\n",
       "      <td>front</td>\n",
       "      <td>94.5</td>\n",
       "      <td>...</td>\n",
       "      <td>152</td>\n",
       "      <td>mpfi</td>\n",
       "      <td>2.68</td>\n",
       "      <td>3.47</td>\n",
       "      <td>9.0</td>\n",
       "      <td>154</td>\n",
       "      <td>5000</td>\n",
       "      <td>19</td>\n",
       "      <td>26</td>\n",
       "      <td>16500</td>\n",
       "    </tr>\n",
       "    <tr>\n",
       "      <th>3</th>\n",
       "      <td>2</td>\n",
       "      <td>164</td>\n",
       "      <td>audi</td>\n",
       "      <td>gas</td>\n",
       "      <td>std</td>\n",
       "      <td>four</td>\n",
       "      <td>sedan</td>\n",
       "      <td>fwd</td>\n",
       "      <td>front</td>\n",
       "      <td>99.8</td>\n",
       "      <td>...</td>\n",
       "      <td>109</td>\n",
       "      <td>mpfi</td>\n",
       "      <td>3.19</td>\n",
       "      <td>3.40</td>\n",
       "      <td>10.0</td>\n",
       "      <td>102</td>\n",
       "      <td>5500</td>\n",
       "      <td>24</td>\n",
       "      <td>30</td>\n",
       "      <td>13950</td>\n",
       "    </tr>\n",
       "    <tr>\n",
       "      <th>4</th>\n",
       "      <td>2</td>\n",
       "      <td>164</td>\n",
       "      <td>audi</td>\n",
       "      <td>gas</td>\n",
       "      <td>std</td>\n",
       "      <td>four</td>\n",
       "      <td>sedan</td>\n",
       "      <td>4wd</td>\n",
       "      <td>front</td>\n",
       "      <td>99.4</td>\n",
       "      <td>...</td>\n",
       "      <td>136</td>\n",
       "      <td>mpfi</td>\n",
       "      <td>3.19</td>\n",
       "      <td>3.40</td>\n",
       "      <td>8.0</td>\n",
       "      <td>115</td>\n",
       "      <td>5500</td>\n",
       "      <td>18</td>\n",
       "      <td>22</td>\n",
       "      <td>17450</td>\n",
       "    </tr>\n",
       "  </tbody>\n",
       "</table>\n",
       "<p>5 rows × 26 columns</p>\n",
       "</div>"
      ],
      "text/plain": [
       "   symboling normalized-losses         make fuel-type  aspiration  \\\n",
       "0          3                 ?  alfa-romero       gas         std   \n",
       "1          3                 ?  alfa-romero       gas         std   \n",
       "2          1                 ?  alfa-romero       gas         std   \n",
       "3          2               164         audi       gas         std   \n",
       "4          2               164         audi       gas         std   \n",
       "\n",
       "   num-of-doors   body-style  drive-wheels  engine-location   wheel-base  \\\n",
       "0           two  convertible           rwd            front         88.6   \n",
       "1           two  convertible           rwd            front         88.6   \n",
       "2           two    hatchback           rwd            front         94.5   \n",
       "3          four        sedan           fwd            front         99.8   \n",
       "4          four        sedan           4wd            front         99.4   \n",
       "\n",
       "   ...     engine-size   fuel-system   bore   stroke  compression-ratio  \\\n",
       "0  ...             130          mpfi   3.47     2.68                9.0   \n",
       "1  ...             130          mpfi   3.47     2.68                9.0   \n",
       "2  ...             152          mpfi   2.68     3.47                9.0   \n",
       "3  ...             109          mpfi   3.19     3.40               10.0   \n",
       "4  ...             136          mpfi   3.19     3.40                8.0   \n",
       "\n",
       "   horsepower   peak-rpm  city-mpg  highway-mpg  price  \n",
       "0         111       5000        21           27  13495  \n",
       "1         111       5000        21           27  16500  \n",
       "2         154       5000        19           26  16500  \n",
       "3         102       5500        24           30  13950  \n",
       "4         115       5500        18           22  17450  \n",
       "\n",
       "[5 rows x 26 columns]"
      ]
     },
     "execution_count": 5,
     "metadata": {},
     "output_type": "execute_result"
    }
   ],
   "source": [
    "cars.head()"
   ]
  },
  {
   "cell_type": "markdown",
   "metadata": {},
   "source": [
    "###### ? is used here in place of a null value, we can convert this to allow better processing"
   ]
  },
  {
   "cell_type": "code",
   "execution_count": 6,
   "metadata": {
    "collapsed": true
   },
   "outputs": [],
   "source": [
    "cars = cars.replace('?', np.nan)"
   ]
  },
  {
   "cell_type": "code",
   "execution_count": 7,
   "metadata": {
    "collapsed": false
   },
   "outputs": [
    {
     "data": {
      "text/plain": [
       "Index(['symboling', 'normalized-losses', 'make', 'fuel-type', ' aspiration',\n",
       "       ' num-of-doors', ' body-style', ' drive-wheels', ' engine-location',\n",
       "       ' wheel-base', ' length', ' width', ' height', ' curb-weight',\n",
       "       ' engine-type', ' num-of-cylinders', ' engine-size', ' fuel-system',\n",
       "       ' bore', ' stroke', ' compression-ratio', ' horsepower', ' peak-rpm',\n",
       "       ' city-mpg', ' highway-mpg', ' price'],\n",
       "      dtype='object')"
      ]
     },
     "execution_count": 7,
     "metadata": {},
     "output_type": "execute_result"
    }
   ],
   "source": [
    "cars.columns"
   ]
  },
  {
   "cell_type": "markdown",
   "metadata": {},
   "source": [
    "## Selecting The Variables For KNN\n",
    "\n",
    "###### K Nearest Neighbors works with variables that are continuous, it can also work for ordinal variables but this presents its own difficulty. For now we shall use the continuous variables:\n",
    "\n",
    "###### These columns contain continuous numeric data: \n",
    "> ###### normalised losses - Value decrease over time normalised compared to other\n",
    " \n",
    "> ###### wheel-base - Distance between tyres\n",
    "\n",
    "> ###### length - Car length\n",
    "\n",
    "> ###### width - Car width\n",
    "\n",
    "> ###### height - Car height\n",
    " \n",
    "> ###### curb-weight - Weight of car\n",
    "\n",
    "> ###### engine-size - Total capacity of the engine cylinders\n",
    "\n",
    "> ###### bore - Diameter of engine cylinder\n",
    "\n",
    "> ###### stroke - Number of strokes to complete the five functions of a combustion cylce\n",
    "\n",
    "> ###### compression-ratio - A ratio of total cylinder volume at highest to lowest\n",
    "\n",
    "> ###### horsepower - A measure of power (in pounds of force for each foot per minute)\n",
    "\n",
    "> ###### peak-rpm - Engine spin speed (revolution per minute)\n",
    "\n",
    "> ###### city-mpg - Estimated miles per gallon for city driving\n",
    "\n",
    "> ###### highway-mpg - Estimated miles per gallon for highway driving\n",
    "\n",
    " \n",
    "###### Some of these column are numeric but not continuous and may influence the price: \n",
    "> ###### symbolling - Showing level of risk in insurance for this car (+3 is high risk, -3 is low risk\n",
    "\n",
    "> ###### num-of-doors - number of doors\n",
    "\n",
    "> ###### aspiration - Standard or with a turbocharger\n",
    "\n",
    "> ###### drive-wheels - 4 wheel drive, front wheel drive or real wheel drive\n",
    "\n",
    "> ###### engine-location - front or rear\n",
    "\n",
    "###### Columns that will not be considered:\n",
    "\n",
    "> ###### engine-type - dohc, dohcv, l, ohc, ohcf, ohcv, rotor. Online literature says there is dispute about how to classify engine types into ordinal (ordered) categories\n",
    "\n",
    "> ###### fuel-system - 1bbl, 2bbl, 4bbl, idi, mfi, mpfi, spdi, spfi. As per engine-type this will be difficult to order.\n",
    "\n",
    "> ###### fuel-type - Diesel or gasoline powered. As per engine-type the dispute continous of the best fuel type.\n",
    "\n",
    "> ###### num-of-cylinders - currently each are words rather than numeric (i.e four should be 4 for our model). As per engine-type, some prefer certain noises from certain engine types. As for increased power this column is superceeded by the horsepower column\n",
    "\n",
    "> ###### body-style - Hardtop wagon, sedan, hatchback or convertible. Difficult to order. Most convertible cars are expected to be highprice but many saloon style cars can be vastly more (or less) expensive.\n",
    "\n",
    "> ###### make - Alfa-romero, audi etc. Very difficult to order."
   ]
  },
  {
   "cell_type": "code",
   "execution_count": 8,
   "metadata": {
    "collapsed": false
   },
   "outputs": [],
   "source": [
    "#removing of spaces before column names#\n",
    "cars.columns = cars.columns.str.strip()"
   ]
  },
  {
   "cell_type": "code",
   "execution_count": 9,
   "metadata": {
    "collapsed": false
   },
   "outputs": [],
   "source": [
    "#for the continuous variables label as cars_cont#\n",
    "cars_cont = cars.drop(columns=['symboling','make', 'fuel-type', 'aspiration',\n",
    "       'num-of-doors', 'body-style', 'drive-wheels', 'engine-location',\n",
    "        'engine-type','num-of-cylinders','fuel-system'])"
   ]
  },
  {
   "cell_type": "code",
   "execution_count": 10,
   "metadata": {
    "collapsed": false
   },
   "outputs": [
    {
     "data": {
      "text/plain": [
       "Index(['normalized-losses', 'wheel-base', 'length', 'width', 'height',\n",
       "       'curb-weight', 'engine-size', 'bore', 'stroke', 'compression-ratio',\n",
       "       'horsepower', 'peak-rpm', 'city-mpg', 'highway-mpg', 'price'],\n",
       "      dtype='object')"
      ]
     },
     "execution_count": 10,
     "metadata": {},
     "output_type": "execute_result"
    }
   ],
   "source": [
    "cars_cont.columns"
   ]
  },
  {
   "cell_type": "code",
   "execution_count": 11,
   "metadata": {
    "collapsed": false
   },
   "outputs": [
    {
     "data": {
      "text/plain": [
       "15"
      ]
     },
     "execution_count": 11,
     "metadata": {},
     "output_type": "execute_result"
    }
   ],
   "source": [
    "len(cars_cont.columns)"
   ]
  },
  {
   "cell_type": "markdown",
   "metadata": {},
   "source": [
    "We now have 15 columns. 14 features and one target (price)."
   ]
  },
  {
   "cell_type": "code",
   "execution_count": 12,
   "metadata": {
    "collapsed": false,
    "scrolled": true
   },
   "outputs": [
    {
     "name": "stdout",
     "output_type": "stream",
     "text": [
      "<class 'pandas.core.frame.DataFrame'>\n",
      "RangeIndex: 205 entries, 0 to 204\n",
      "Data columns (total 15 columns):\n",
      "normalized-losses    164 non-null object\n",
      "wheel-base           205 non-null float64\n",
      "length               205 non-null float64\n",
      "width                205 non-null float64\n",
      "height               205 non-null float64\n",
      "curb-weight          205 non-null int64\n",
      "engine-size          205 non-null int64\n",
      "bore                 201 non-null object\n",
      "stroke               201 non-null object\n",
      "compression-ratio    205 non-null float64\n",
      "horsepower           203 non-null object\n",
      "peak-rpm             203 non-null object\n",
      "city-mpg             205 non-null int64\n",
      "highway-mpg          205 non-null int64\n",
      "price                201 non-null object\n",
      "dtypes: float64(5), int64(4), object(6)\n",
      "memory usage: 24.1+ KB\n"
     ]
    }
   ],
   "source": [
    "cars_cont.info()"
   ]
  },
  {
   "cell_type": "markdown",
   "metadata": {},
   "source": [
    "## Data Cleaning\n",
    "\n",
    "###### Next step is to covert all these columns to int or float."
   ]
  },
  {
   "cell_type": "code",
   "execution_count": 13,
   "metadata": {
    "collapsed": false
   },
   "outputs": [],
   "source": [
    "cars_cont[['normalized-losses', 'bore', 'stroke', 'horsepower', 'peak-rpm', 'price']] = cars_cont[['normalized-losses', 'bore', 'stroke', 'horsepower', 'peak-rpm', 'price']].astype(float)"
   ]
  },
  {
   "cell_type": "markdown",
   "metadata": {},
   "source": [
    "###### Here is a visualisation of the data spread of the price:"
   ]
  },
  {
   "cell_type": "code",
   "execution_count": 14,
   "metadata": {
    "collapsed": false,
    "scrolled": false
   },
   "outputs": [
    {
     "name": "stderr",
     "output_type": "stream",
     "text": [
      "/dataquest/system/env/python3/lib/python3.4/site-packages/seaborn/categorical.py:454: FutureWarning: remove_na is deprecated and is a private function. Do not use.\n",
      "  box_data = remove_na(group_data)\n"
     ]
    },
    {
     "data": {
      "image/png": "[encoded data removed]",
      "text/plain": [
       "<matplotlib.figure.Figure at 0x7f20afd11278>"
      ]
     },
     "metadata": {},
     "output_type": "display_data"
    }
   ],
   "source": [
    "ax1 = sns.boxplot(x = cars_cont['price'])"
   ]
  },
  {
   "cell_type": "markdown",
   "metadata": {},
   "source": [
    "###### Our model will greatly influenced by variables that have a correlation (positive or negative) with the price. Here are the correlation results:"
   ]
  },
  {
   "cell_type": "code",
   "execution_count": 15,
   "metadata": {
    "collapsed": false
   },
   "outputs": [
    {
     "data": {
      "text/plain": [
       "highway-mpg         -0.704692\n",
       "city-mpg            -0.686571\n",
       "peak-rpm            -0.101649\n",
       "compression-ratio    0.071107\n",
       "stroke               0.082310\n",
       "height               0.135486\n",
       "normalized-losses    0.203254\n",
       "bore                 0.543436\n",
       "wheel-base           0.584642\n",
       "length               0.690628\n",
       "width                0.751265\n",
       "horsepower           0.810533\n",
       "curb-weight          0.834415\n",
       "engine-size          0.872335\n",
       "price                1.000000\n",
       "Name: price, dtype: float64"
      ]
     },
     "execution_count": 15,
     "metadata": {},
     "output_type": "execute_result"
    }
   ],
   "source": [
    "corr = cars_cont.corr()\n",
    "corr['price'].sort_values()"
   ]
  },
  {
   "cell_type": "markdown",
   "metadata": {},
   "source": [
    "###### From this we can expect a car with a large engine size, curb-weigh, horsepower, size (wheel-base, length, width) and cylinder size (bore), with low miles per gallon (highway-mpg, city-mpg) to be very expensive.\n",
    "\n",
    "###### Its seems sensible that these variables are somewhat linked, a heavier car would also be big in size and have low miles per gallon. Here is a heatmap for information:"
   ]
  },
  {
   "cell_type": "code",
   "execution_count": 16,
   "metadata": {
    "collapsed": false,
    "scrolled": true
   },
   "outputs": [
    {
     "data": {
      "text/plain": [
       "<matplotlib.axes._subplots.AxesSubplot at 0x7f20ad7194a8>"
      ]
     },
     "execution_count": 16,
     "metadata": {},
     "output_type": "execute_result"
    },
    {
     "data": {
      "image/png": "[encoded data removed]",
      "text/plain": [
       "<matplotlib.figure.Figure at 0x7f20ad761a20>"
      ]
     },
     "metadata": {},
     "output_type": "display_data"
    }
   ],
   "source": [
    "sns.heatmap(corr)"
   ]
  },
  {
   "cell_type": "markdown",
   "metadata": {},
   "source": [
    "###### It is of interest to note that those with weak correlation to price: \n",
    "- ###### peak-rpm, compression-ratio, stroke, height, normalized-losses\n",
    "\n",
    "###### also have low correlation to every other variable\n",
    "\n",
    "###### Let us now explore missing values:"
   ]
  },
  {
   "cell_type": "code",
   "execution_count": 17,
   "metadata": {
    "collapsed": false
   },
   "outputs": [
    {
     "name": "stdout",
     "output_type": "stream",
     "text": [
      "Number of rows =  205 \n",
      "\n",
      "Missing Values for each column:\n",
      "normalized-losses    41\n",
      "wheel-base            0\n",
      "length                0\n",
      "width                 0\n",
      "height                0\n",
      "curb-weight           0\n",
      "engine-size           0\n",
      "bore                  4\n",
      "stroke                4\n",
      "compression-ratio     0\n",
      "horsepower            2\n",
      "peak-rpm              2\n",
      "city-mpg              0\n",
      "highway-mpg           0\n",
      "price                 4\n",
      "dtype: int64\n"
     ]
    }
   ],
   "source": [
    "print('Number of rows = ', len(cars_cont), '\\n')\n",
    "print('Missing Values for each column:')\n",
    "print(cars_cont.isnull().sum())"
   ]
  },
  {
   "cell_type": "markdown",
   "metadata": {},
   "source": [
    "###### Our first problem. Normalized losses has 41 missing rows, if dropped we lose 20% of our data. \n",
    "\n",
    "###### Normalized losses very weakly influences the price and altering 20% of the data using an average may negate or exacerbate this influence.\n",
    "\n",
    "###### We will simply remove the column."
   ]
  },
  {
   "cell_type": "code",
   "execution_count": 18,
   "metadata": {
    "collapsed": true
   },
   "outputs": [],
   "source": [
    "cars_cont = cars_cont.drop(columns=['normalized-losses'])"
   ]
  },
  {
   "cell_type": "markdown",
   "metadata": {},
   "source": [
    "###### Now lets see all remaining rows with a missing value"
   ]
  },
  {
   "cell_type": "code",
   "execution_count": 19,
   "metadata": {
    "collapsed": false,
    "scrolled": true
   },
   "outputs": [
    {
     "data": {
      "text/html": [
       "<div>\n",
       "<style scoped>\n",
       "    .dataframe tbody tr th:only-of-type {\n",
       "        vertical-align: middle;\n",
       "    }\n",
       "\n",
       "    .dataframe tbody tr th {\n",
       "        vertical-align: top;\n",
       "    }\n",
       "\n",
       "    .dataframe thead th {\n",
       "        text-align: right;\n",
       "    }\n",
       "</style>\n",
       "<table border=\"1\" class=\"dataframe\">\n",
       "  <thead>\n",
       "    <tr style=\"text-align: right;\">\n",
       "      <th></th>\n",
       "      <th>wheel-base</th>\n",
       "      <th>length</th>\n",
       "      <th>width</th>\n",
       "      <th>height</th>\n",
       "      <th>curb-weight</th>\n",
       "      <th>engine-size</th>\n",
       "      <th>bore</th>\n",
       "      <th>stroke</th>\n",
       "      <th>compression-ratio</th>\n",
       "      <th>horsepower</th>\n",
       "      <th>peak-rpm</th>\n",
       "      <th>city-mpg</th>\n",
       "      <th>highway-mpg</th>\n",
       "      <th>price</th>\n",
       "    </tr>\n",
       "  </thead>\n",
       "  <tbody>\n",
       "    <tr>\n",
       "      <th>9</th>\n",
       "      <td>99.5</td>\n",
       "      <td>178.2</td>\n",
       "      <td>67.9</td>\n",
       "      <td>52.0</td>\n",
       "      <td>3053</td>\n",
       "      <td>131</td>\n",
       "      <td>3.13</td>\n",
       "      <td>3.40</td>\n",
       "      <td>7.0</td>\n",
       "      <td>160.0</td>\n",
       "      <td>5500.0</td>\n",
       "      <td>16</td>\n",
       "      <td>22</td>\n",
       "      <td>NaN</td>\n",
       "    </tr>\n",
       "    <tr>\n",
       "      <th>44</th>\n",
       "      <td>94.5</td>\n",
       "      <td>155.9</td>\n",
       "      <td>63.6</td>\n",
       "      <td>52.0</td>\n",
       "      <td>1874</td>\n",
       "      <td>90</td>\n",
       "      <td>3.03</td>\n",
       "      <td>3.11</td>\n",
       "      <td>9.6</td>\n",
       "      <td>70.0</td>\n",
       "      <td>5400.0</td>\n",
       "      <td>38</td>\n",
       "      <td>43</td>\n",
       "      <td>NaN</td>\n",
       "    </tr>\n",
       "    <tr>\n",
       "      <th>45</th>\n",
       "      <td>94.5</td>\n",
       "      <td>155.9</td>\n",
       "      <td>63.6</td>\n",
       "      <td>52.0</td>\n",
       "      <td>1909</td>\n",
       "      <td>90</td>\n",
       "      <td>3.03</td>\n",
       "      <td>3.11</td>\n",
       "      <td>9.6</td>\n",
       "      <td>70.0</td>\n",
       "      <td>5400.0</td>\n",
       "      <td>38</td>\n",
       "      <td>43</td>\n",
       "      <td>NaN</td>\n",
       "    </tr>\n",
       "    <tr>\n",
       "      <th>55</th>\n",
       "      <td>95.3</td>\n",
       "      <td>169.0</td>\n",
       "      <td>65.7</td>\n",
       "      <td>49.6</td>\n",
       "      <td>2380</td>\n",
       "      <td>70</td>\n",
       "      <td>NaN</td>\n",
       "      <td>NaN</td>\n",
       "      <td>9.4</td>\n",
       "      <td>101.0</td>\n",
       "      <td>6000.0</td>\n",
       "      <td>17</td>\n",
       "      <td>23</td>\n",
       "      <td>10945.0</td>\n",
       "    </tr>\n",
       "    <tr>\n",
       "      <th>56</th>\n",
       "      <td>95.3</td>\n",
       "      <td>169.0</td>\n",
       "      <td>65.7</td>\n",
       "      <td>49.6</td>\n",
       "      <td>2380</td>\n",
       "      <td>70</td>\n",
       "      <td>NaN</td>\n",
       "      <td>NaN</td>\n",
       "      <td>9.4</td>\n",
       "      <td>101.0</td>\n",
       "      <td>6000.0</td>\n",
       "      <td>17</td>\n",
       "      <td>23</td>\n",
       "      <td>11845.0</td>\n",
       "    </tr>\n",
       "    <tr>\n",
       "      <th>57</th>\n",
       "      <td>95.3</td>\n",
       "      <td>169.0</td>\n",
       "      <td>65.7</td>\n",
       "      <td>49.6</td>\n",
       "      <td>2385</td>\n",
       "      <td>70</td>\n",
       "      <td>NaN</td>\n",
       "      <td>NaN</td>\n",
       "      <td>9.4</td>\n",
       "      <td>101.0</td>\n",
       "      <td>6000.0</td>\n",
       "      <td>17</td>\n",
       "      <td>23</td>\n",
       "      <td>13645.0</td>\n",
       "    </tr>\n",
       "    <tr>\n",
       "      <th>58</th>\n",
       "      <td>95.3</td>\n",
       "      <td>169.0</td>\n",
       "      <td>65.7</td>\n",
       "      <td>49.6</td>\n",
       "      <td>2500</td>\n",
       "      <td>80</td>\n",
       "      <td>NaN</td>\n",
       "      <td>NaN</td>\n",
       "      <td>9.4</td>\n",
       "      <td>135.0</td>\n",
       "      <td>6000.0</td>\n",
       "      <td>16</td>\n",
       "      <td>23</td>\n",
       "      <td>15645.0</td>\n",
       "    </tr>\n",
       "    <tr>\n",
       "      <th>129</th>\n",
       "      <td>98.4</td>\n",
       "      <td>175.7</td>\n",
       "      <td>72.3</td>\n",
       "      <td>50.5</td>\n",
       "      <td>3366</td>\n",
       "      <td>203</td>\n",
       "      <td>3.94</td>\n",
       "      <td>3.11</td>\n",
       "      <td>10.0</td>\n",
       "      <td>288.0</td>\n",
       "      <td>5750.0</td>\n",
       "      <td>17</td>\n",
       "      <td>28</td>\n",
       "      <td>NaN</td>\n",
       "    </tr>\n",
       "    <tr>\n",
       "      <th>130</th>\n",
       "      <td>96.1</td>\n",
       "      <td>181.5</td>\n",
       "      <td>66.5</td>\n",
       "      <td>55.2</td>\n",
       "      <td>2579</td>\n",
       "      <td>132</td>\n",
       "      <td>3.46</td>\n",
       "      <td>3.90</td>\n",
       "      <td>8.7</td>\n",
       "      <td>NaN</td>\n",
       "      <td>NaN</td>\n",
       "      <td>23</td>\n",
       "      <td>31</td>\n",
       "      <td>9295.0</td>\n",
       "    </tr>\n",
       "    <tr>\n",
       "      <th>131</th>\n",
       "      <td>96.1</td>\n",
       "      <td>176.8</td>\n",
       "      <td>66.6</td>\n",
       "      <td>50.5</td>\n",
       "      <td>2460</td>\n",
       "      <td>132</td>\n",
       "      <td>3.46</td>\n",
       "      <td>3.90</td>\n",
       "      <td>8.7</td>\n",
       "      <td>NaN</td>\n",
       "      <td>NaN</td>\n",
       "      <td>23</td>\n",
       "      <td>31</td>\n",
       "      <td>9895.0</td>\n",
       "    </tr>\n",
       "  </tbody>\n",
       "</table>\n",
       "</div>"
      ],
      "text/plain": [
       "     wheel-base  length  width  height  curb-weight  engine-size  bore  \\\n",
       "9          99.5   178.2   67.9    52.0         3053          131  3.13   \n",
       "44         94.5   155.9   63.6    52.0         1874           90  3.03   \n",
       "45         94.5   155.9   63.6    52.0         1909           90  3.03   \n",
       "55         95.3   169.0   65.7    49.6         2380           70   NaN   \n",
       "56         95.3   169.0   65.7    49.6         2380           70   NaN   \n",
       "57         95.3   169.0   65.7    49.6         2385           70   NaN   \n",
       "58         95.3   169.0   65.7    49.6         2500           80   NaN   \n",
       "129        98.4   175.7   72.3    50.5         3366          203  3.94   \n",
       "130        96.1   181.5   66.5    55.2         2579          132  3.46   \n",
       "131        96.1   176.8   66.6    50.5         2460          132  3.46   \n",
       "\n",
       "     stroke  compression-ratio  horsepower  peak-rpm  city-mpg  highway-mpg  \\\n",
       "9      3.40                7.0       160.0    5500.0        16           22   \n",
       "44     3.11                9.6        70.0    5400.0        38           43   \n",
       "45     3.11                9.6        70.0    5400.0        38           43   \n",
       "55      NaN                9.4       101.0    6000.0        17           23   \n",
       "56      NaN                9.4       101.0    6000.0        17           23   \n",
       "57      NaN                9.4       101.0    6000.0        17           23   \n",
       "58      NaN                9.4       135.0    6000.0        16           23   \n",
       "129    3.11               10.0       288.0    5750.0        17           28   \n",
       "130    3.90                8.7         NaN       NaN        23           31   \n",
       "131    3.90                8.7         NaN       NaN        23           31   \n",
       "\n",
       "       price  \n",
       "9        NaN  \n",
       "44       NaN  \n",
       "45       NaN  \n",
       "55   10945.0  \n",
       "56   11845.0  \n",
       "57   13645.0  \n",
       "58   15645.0  \n",
       "129      NaN  \n",
       "130   9295.0  \n",
       "131   9895.0  "
      ]
     },
     "execution_count": 19,
     "metadata": {},
     "output_type": "execute_result"
    }
   ],
   "source": [
    "a_filter = cars_cont['price'].isnull() | cars_cont['bore'].isnull() | cars_cont['stroke'].isnull() | cars_cont['horsepower'].isnull() | cars_cont['peak-rpm'].isnull()\n",
    "cars_cont[a_filter]"
   ]
  },
  {
   "cell_type": "markdown",
   "metadata": {},
   "source": [
    "###### We only have 10 rows with missing data. The only variable that has little impact is peak-rpm, this would be kept but data for these rows is also missing in the horsepower column. \n",
    "\n",
    "###### To prevent an introduction of bias (by using a mean or median) we will remove these rows also."
   ]
  },
  {
   "cell_type": "code",
   "execution_count": 20,
   "metadata": {
    "collapsed": false
   },
   "outputs": [],
   "source": [
    "# ~ Represents perform the inverse of#\n",
    "cars_cont = cars_cont[~a_filter]"
   ]
  },
  {
   "cell_type": "code",
   "execution_count": 21,
   "metadata": {
    "collapsed": false
   },
   "outputs": [
    {
     "name": "stdout",
     "output_type": "stream",
     "text": [
      "<class 'pandas.core.frame.DataFrame'>\n",
      "Int64Index: 195 entries, 0 to 204\n",
      "Data columns (total 14 columns):\n",
      "wheel-base           195 non-null float64\n",
      "length               195 non-null float64\n",
      "width                195 non-null float64\n",
      "height               195 non-null float64\n",
      "curb-weight          195 non-null int64\n",
      "engine-size          195 non-null int64\n",
      "bore                 195 non-null float64\n",
      "stroke               195 non-null float64\n",
      "compression-ratio    195 non-null float64\n",
      "horsepower           195 non-null float64\n",
      "peak-rpm             195 non-null float64\n",
      "city-mpg             195 non-null int64\n",
      "highway-mpg          195 non-null int64\n",
      "price                195 non-null float64\n",
      "dtypes: float64(10), int64(4)\n",
      "memory usage: 22.9 KB\n"
     ]
    }
   ],
   "source": [
    "cars_cont.info()"
   ]
  },
  {
   "cell_type": "markdown",
   "metadata": {},
   "source": [
    "### Data Normalisation\n",
    "###### Now are data is purged of missing information we must normalise the data.\n",
    "\n",
    "###### Below is some boxplots that can help visualise why we need to do this:"
   ]
  },
  {
   "cell_type": "code",
   "execution_count": 22,
   "metadata": {
    "collapsed": false,
    "scrolled": true
   },
   "outputs": [
    {
     "name": "stderr",
     "output_type": "stream",
     "text": [
      "/dataquest/system/env/python3/lib/python3.4/site-packages/seaborn/categorical.py:454: FutureWarning: remove_na is deprecated and is a private function. Do not use.\n",
      "  box_data = remove_na(group_data)\n"
     ]
    },
    {
     "data": {
      "image/png": "[encoded data removed]",
      "text/plain": [
       "<matplotlib.figure.Figure at 0x7f20ad69e358>"
      ]
     },
     "metadata": {},
     "output_type": "display_data"
    }
   ],
   "source": [
    "ax1 = sns.boxplot(x = cars_cont['stroke'])"
   ]
  },
  {
   "cell_type": "code",
   "execution_count": 23,
   "metadata": {
    "collapsed": false,
    "scrolled": true
   },
   "outputs": [
    {
     "name": "stderr",
     "output_type": "stream",
     "text": [
      "/dataquest/system/env/python3/lib/python3.4/site-packages/seaborn/categorical.py:454: FutureWarning: remove_na is deprecated and is a private function. Do not use.\n",
      "  box_data = remove_na(group_data)\n"
     ]
    },
    {
     "data": {
      "image/png": "[encoded data removed]",
      "text/plain": [
       "<matplotlib.figure.Figure at 0x7f20ad638320>"
      ]
     },
     "metadata": {},
     "output_type": "display_data"
    }
   ],
   "source": [
    "ax2 = sns.boxplot(x = cars_cont['peak-rpm'])"
   ]
  },
  {
   "cell_type": "markdown",
   "metadata": {},
   "source": [
    "###### The KNN model will work out the mean squared errors from the data.\n",
    "\n",
    "###### A deviation of 1000 in peak-rpm is not unexpected, as could be a 1 difference in stroke.\n",
    "\n",
    "###### The issue arises as the 1000 rpm will count many magnitudes of order in influencing the mean squared error and cause poor modelling."
   ]
  },
  {
   "cell_type": "code",
   "execution_count": 24,
   "metadata": {
    "collapsed": false
   },
   "outputs": [],
   "source": [
    "#Normalisation in this context is forming data from a 0 to 1 scale#\n",
    "#This is done by taking the value V in column C#\n",
    "#Then new value = (V -C.min) / (C.max - C.min)\n",
    "cars_cont_norm = (cars_cont - cars_cont.min() ) / (cars_cont.max() - cars_cont.min())"
   ]
  },
  {
   "cell_type": "code",
   "execution_count": 25,
   "metadata": {
    "collapsed": false
   },
   "outputs": [
    {
     "data": {
      "text/html": [
       "<div>\n",
       "<style scoped>\n",
       "    .dataframe tbody tr th:only-of-type {\n",
       "        vertical-align: middle;\n",
       "    }\n",
       "\n",
       "    .dataframe tbody tr th {\n",
       "        vertical-align: top;\n",
       "    }\n",
       "\n",
       "    .dataframe thead th {\n",
       "        text-align: right;\n",
       "    }\n",
       "</style>\n",
       "<table border=\"1\" class=\"dataframe\">\n",
       "  <thead>\n",
       "    <tr style=\"text-align: right;\">\n",
       "      <th></th>\n",
       "      <th>wheel-base</th>\n",
       "      <th>length</th>\n",
       "      <th>width</th>\n",
       "      <th>height</th>\n",
       "      <th>curb-weight</th>\n",
       "      <th>engine-size</th>\n",
       "      <th>bore</th>\n",
       "      <th>stroke</th>\n",
       "      <th>compression-ratio</th>\n",
       "      <th>horsepower</th>\n",
       "      <th>peak-rpm</th>\n",
       "      <th>city-mpg</th>\n",
       "      <th>highway-mpg</th>\n",
       "      <th>price</th>\n",
       "    </tr>\n",
       "  </thead>\n",
       "  <tbody>\n",
       "    <tr>\n",
       "      <th>0</th>\n",
       "      <td>0.058309</td>\n",
       "      <td>0.413433</td>\n",
       "      <td>0.324786</td>\n",
       "      <td>0.083333</td>\n",
       "      <td>0.411171</td>\n",
       "      <td>0.260377</td>\n",
       "      <td>0.664286</td>\n",
       "      <td>0.290476</td>\n",
       "      <td>0.1250</td>\n",
       "      <td>0.294393</td>\n",
       "      <td>0.346939</td>\n",
       "      <td>0.222222</td>\n",
       "      <td>0.289474</td>\n",
       "      <td>0.207959</td>\n",
       "    </tr>\n",
       "    <tr>\n",
       "      <th>1</th>\n",
       "      <td>0.058309</td>\n",
       "      <td>0.413433</td>\n",
       "      <td>0.324786</td>\n",
       "      <td>0.083333</td>\n",
       "      <td>0.411171</td>\n",
       "      <td>0.260377</td>\n",
       "      <td>0.664286</td>\n",
       "      <td>0.290476</td>\n",
       "      <td>0.1250</td>\n",
       "      <td>0.294393</td>\n",
       "      <td>0.346939</td>\n",
       "      <td>0.222222</td>\n",
       "      <td>0.289474</td>\n",
       "      <td>0.282558</td>\n",
       "    </tr>\n",
       "    <tr>\n",
       "      <th>2</th>\n",
       "      <td>0.230321</td>\n",
       "      <td>0.449254</td>\n",
       "      <td>0.444444</td>\n",
       "      <td>0.383333</td>\n",
       "      <td>0.517843</td>\n",
       "      <td>0.343396</td>\n",
       "      <td>0.100000</td>\n",
       "      <td>0.666667</td>\n",
       "      <td>0.1250</td>\n",
       "      <td>0.495327</td>\n",
       "      <td>0.346939</td>\n",
       "      <td>0.166667</td>\n",
       "      <td>0.263158</td>\n",
       "      <td>0.282558</td>\n",
       "    </tr>\n",
       "    <tr>\n",
       "      <th>3</th>\n",
       "      <td>0.384840</td>\n",
       "      <td>0.529851</td>\n",
       "      <td>0.504274</td>\n",
       "      <td>0.541667</td>\n",
       "      <td>0.329325</td>\n",
       "      <td>0.181132</td>\n",
       "      <td>0.464286</td>\n",
       "      <td>0.633333</td>\n",
       "      <td>0.1875</td>\n",
       "      <td>0.252336</td>\n",
       "      <td>0.551020</td>\n",
       "      <td>0.305556</td>\n",
       "      <td>0.368421</td>\n",
       "      <td>0.219254</td>\n",
       "    </tr>\n",
       "    <tr>\n",
       "      <th>4</th>\n",
       "      <td>0.373178</td>\n",
       "      <td>0.529851</td>\n",
       "      <td>0.521368</td>\n",
       "      <td>0.541667</td>\n",
       "      <td>0.518231</td>\n",
       "      <td>0.283019</td>\n",
       "      <td>0.464286</td>\n",
       "      <td>0.633333</td>\n",
       "      <td>0.0625</td>\n",
       "      <td>0.313084</td>\n",
       "      <td>0.551020</td>\n",
       "      <td>0.138889</td>\n",
       "      <td>0.157895</td>\n",
       "      <td>0.306142</td>\n",
       "    </tr>\n",
       "  </tbody>\n",
       "</table>\n",
       "</div>"
      ],
      "text/plain": [
       "   wheel-base    length     width    height  curb-weight  engine-size  \\\n",
       "0    0.058309  0.413433  0.324786  0.083333     0.411171     0.260377   \n",
       "1    0.058309  0.413433  0.324786  0.083333     0.411171     0.260377   \n",
       "2    0.230321  0.449254  0.444444  0.383333     0.517843     0.343396   \n",
       "3    0.384840  0.529851  0.504274  0.541667     0.329325     0.181132   \n",
       "4    0.373178  0.529851  0.521368  0.541667     0.518231     0.283019   \n",
       "\n",
       "       bore    stroke  compression-ratio  horsepower  peak-rpm  city-mpg  \\\n",
       "0  0.664286  0.290476             0.1250    0.294393  0.346939  0.222222   \n",
       "1  0.664286  0.290476             0.1250    0.294393  0.346939  0.222222   \n",
       "2  0.100000  0.666667             0.1250    0.495327  0.346939  0.166667   \n",
       "3  0.464286  0.633333             0.1875    0.252336  0.551020  0.305556   \n",
       "4  0.464286  0.633333             0.0625    0.313084  0.551020  0.138889   \n",
       "\n",
       "   highway-mpg     price  \n",
       "0     0.289474  0.207959  \n",
       "1     0.289474  0.282558  \n",
       "2     0.263158  0.282558  \n",
       "3     0.368421  0.219254  \n",
       "4     0.157895  0.306142  "
      ]
     },
     "execution_count": 25,
     "metadata": {},
     "output_type": "execute_result"
    }
   ],
   "source": [
    "cars_cont_norm.head()"
   ]
  },
  {
   "cell_type": "markdown",
   "metadata": {},
   "source": [
    "## Creating A Univariate KNN Model\n",
    "\n",
    "###### All values are now normalised, so the next step is creating our machine learning model.\n",
    "\n",
    "###### The first demonstration is that of a single variable or 'univariate'\n",
    "\n",
    "\n",
    "###### Data is split into two equal sized portions to form the train & test data. This is called holdout validation"
   ]
  },
  {
   "cell_type": "code",
   "execution_count": 26,
   "metadata": {
    "collapsed": true
   },
   "outputs": [],
   "source": [
    "def knn_train_test(training_column_name, target_column_name, dataframe):\n",
    "    #find midpoint of data#\n",
    "    data_midpoint = int(len(dataframe)/ 2)\n",
    "    #randomise data#\n",
    "    np.random.seed(10)\n",
    "    shuffle_index = np.random.permutation(dataframe.index)\n",
    "    df = dataframe.reindex(shuffle_index)\n",
    "    #split data into 50:50 train and test#\n",
    "    train = df[:data_midpoint]\n",
    "    test = df[data_midpoint:]\n",
    "    knn = KNeighborsRegressor()\n",
    "    knn.fit(train[[training_column_name]], train[target_column_name])\n",
    "    predictions = knn.predict(test[[training_column_name]])\n",
    "    mse = mean_squared_error(test[[target_column_name]], predictions)\n",
    "    rmse = mse ** 0.5\n",
    "    return (rmse, training_column_name)"
   ]
  },
  {
   "cell_type": "code",
   "execution_count": 27,
   "metadata": {
    "collapsed": false,
    "scrolled": true
   },
   "outputs": [
    {
     "data": {
      "text/plain": [
       "[(0.23951319951959624, 'peak-rpm'),\n",
       " (0.20529337510706833, 'height'),\n",
       " (0.1924112289171109, 'stroke'),\n",
       " (0.1812322381292307, 'bore'),\n",
       " (0.1445044561018585, 'compression-ratio'),\n",
       " (0.14205111727370864, 'length'),\n",
       " (0.138907362392898, 'wheel-base'),\n",
       " (0.11513388210435571, 'highway-mpg'),\n",
       " (0.10825527634424237, 'width'),\n",
       " (0.10398624836252071, 'horsepower'),\n",
       " (0.10279219956671605, 'city-mpg'),\n",
       " (0.09747328986609792, 'curb-weight'),\n",
       " (0.08914233568669673, 'engine-size')]"
      ]
     },
     "execution_count": 27,
     "metadata": {},
     "output_type": "execute_result"
    }
   ],
   "source": [
    "uni_vari_column_results = []\n",
    "column_names = ['wheel-base', 'length', 'width', 'height', 'curb-weight', 'engine-size',\n",
    "       'bore', 'stroke', 'compression-ratio', 'horsepower', 'peak-rpm',\n",
    "       'city-mpg', 'highway-mpg']\n",
    "for i in column_names:\n",
    "    uni_vari_column_results.append(knn_train_test(i, 'price', cars_cont_norm))\n",
    "sorted(uni_vari_column_results, reverse = True)"
   ]
  },
  {
   "cell_type": "markdown",
   "metadata": {},
   "source": [
    "###### The smallest errors are in engine-size. This list correlates well with are precalculated correlations."
   ]
  },
  {
   "cell_type": "markdown",
   "metadata": {},
   "source": [
    "## Creating A Univariate KNN Model With Variable K\n",
    "\n",
    "###### K by default is set as 5. This means it will take the 5 nearest points to the target into consideration. It is useful to explore a variation of these to explore and minimise bias and variation."
   ]
  },
  {
   "cell_type": "code",
   "execution_count": 28,
   "metadata": {
    "collapsed": true
   },
   "outputs": [],
   "source": [
    "def knn_train_test_vari_k(training_column_name, target_column_name, dataframe, k):\n",
    "    #find midpoint of data#\n",
    "    data_midpoint = int(len(dataframe)/ 2)\n",
    "    #randomise data#\n",
    "    np.random.seed(10)\n",
    "    shuffle_index = np.random.permutation(dataframe.index)\n",
    "    df = dataframe.reindex(shuffle_index)\n",
    "    #split data into 50:50 train and test#\n",
    "    train = df[:data_midpoint]\n",
    "    test = df[data_midpoint:]\n",
    "    knn = KNeighborsRegressor(n_neighbors = k)\n",
    "    knn.fit(train[[training_column_name]], train[target_column_name])\n",
    "    predictions = knn.predict(test[[training_column_name]])\n",
    "    mse = mean_squared_error(test[[target_column_name]], predictions)\n",
    "    rmse = mse ** 0.5\n",
    "    return (training_column_name, rmse, k)"
   ]
  },
  {
   "cell_type": "code",
   "execution_count": 29,
   "metadata": {
    "collapsed": false
   },
   "outputs": [],
   "source": [
    "column_results = []\n",
    "for i in column_names:\n",
    "    for k in range(1,11):\n",
    "        column_results.append(knn_train_test_vari_k(i, 'price', cars_cont_norm, k))"
   ]
  },
  {
   "cell_type": "code",
   "execution_count": 30,
   "metadata": {
    "collapsed": false,
    "scrolled": true
   },
   "outputs": [
    {
     "data": {
      "text/html": [
       "<div>\n",
       "<style scoped>\n",
       "    .dataframe tbody tr th:only-of-type {\n",
       "        vertical-align: middle;\n",
       "    }\n",
       "\n",
       "    .dataframe tbody tr th {\n",
       "        vertical-align: top;\n",
       "    }\n",
       "\n",
       "    .dataframe thead th {\n",
       "        text-align: right;\n",
       "    }\n",
       "</style>\n",
       "<table border=\"1\" class=\"dataframe\">\n",
       "  <thead>\n",
       "    <tr style=\"text-align: right;\">\n",
       "      <th></th>\n",
       "      <th>feature</th>\n",
       "      <th>rmse</th>\n",
       "      <th>k_value</th>\n",
       "    </tr>\n",
       "  </thead>\n",
       "  <tbody>\n",
       "    <tr>\n",
       "      <th>0</th>\n",
       "      <td>wheel-base</td>\n",
       "      <td>0.109526</td>\n",
       "      <td>1</td>\n",
       "    </tr>\n",
       "    <tr>\n",
       "      <th>1</th>\n",
       "      <td>wheel-base</td>\n",
       "      <td>0.122833</td>\n",
       "      <td>2</td>\n",
       "    </tr>\n",
       "    <tr>\n",
       "      <th>2</th>\n",
       "      <td>wheel-base</td>\n",
       "      <td>0.129346</td>\n",
       "      <td>3</td>\n",
       "    </tr>\n",
       "    <tr>\n",
       "      <th>3</th>\n",
       "      <td>wheel-base</td>\n",
       "      <td>0.132992</td>\n",
       "      <td>4</td>\n",
       "    </tr>\n",
       "    <tr>\n",
       "      <th>4</th>\n",
       "      <td>wheel-base</td>\n",
       "      <td>0.138907</td>\n",
       "      <td>5</td>\n",
       "    </tr>\n",
       "    <tr>\n",
       "      <th>5</th>\n",
       "      <td>wheel-base</td>\n",
       "      <td>0.136451</td>\n",
       "      <td>6</td>\n",
       "    </tr>\n",
       "    <tr>\n",
       "      <th>6</th>\n",
       "      <td>wheel-base</td>\n",
       "      <td>0.141106</td>\n",
       "      <td>7</td>\n",
       "    </tr>\n",
       "    <tr>\n",
       "      <th>7</th>\n",
       "      <td>wheel-base</td>\n",
       "      <td>0.140233</td>\n",
       "      <td>8</td>\n",
       "    </tr>\n",
       "    <tr>\n",
       "      <th>8</th>\n",
       "      <td>wheel-base</td>\n",
       "      <td>0.139969</td>\n",
       "      <td>9</td>\n",
       "    </tr>\n",
       "    <tr>\n",
       "      <th>9</th>\n",
       "      <td>wheel-base</td>\n",
       "      <td>0.138883</td>\n",
       "      <td>10</td>\n",
       "    </tr>\n",
       "    <tr>\n",
       "      <th>10</th>\n",
       "      <td>length</td>\n",
       "      <td>0.131980</td>\n",
       "      <td>1</td>\n",
       "    </tr>\n",
       "    <tr>\n",
       "      <th>11</th>\n",
       "      <td>length</td>\n",
       "      <td>0.122759</td>\n",
       "      <td>2</td>\n",
       "    </tr>\n",
       "    <tr>\n",
       "      <th>12</th>\n",
       "      <td>length</td>\n",
       "      <td>0.131021</td>\n",
       "      <td>3</td>\n",
       "    </tr>\n",
       "    <tr>\n",
       "      <th>13</th>\n",
       "      <td>length</td>\n",
       "      <td>0.139825</td>\n",
       "      <td>4</td>\n",
       "    </tr>\n",
       "    <tr>\n",
       "      <th>14</th>\n",
       "      <td>length</td>\n",
       "      <td>0.142051</td>\n",
       "      <td>5</td>\n",
       "    </tr>\n",
       "    <tr>\n",
       "      <th>15</th>\n",
       "      <td>length</td>\n",
       "      <td>0.137902</td>\n",
       "      <td>6</td>\n",
       "    </tr>\n",
       "    <tr>\n",
       "      <th>16</th>\n",
       "      <td>length</td>\n",
       "      <td>0.132378</td>\n",
       "      <td>7</td>\n",
       "    </tr>\n",
       "    <tr>\n",
       "      <th>17</th>\n",
       "      <td>length</td>\n",
       "      <td>0.129481</td>\n",
       "      <td>8</td>\n",
       "    </tr>\n",
       "    <tr>\n",
       "      <th>18</th>\n",
       "      <td>length</td>\n",
       "      <td>0.130547</td>\n",
       "      <td>9</td>\n",
       "    </tr>\n",
       "    <tr>\n",
       "      <th>19</th>\n",
       "      <td>length</td>\n",
       "      <td>0.132106</td>\n",
       "      <td>10</td>\n",
       "    </tr>\n",
       "    <tr>\n",
       "      <th>20</th>\n",
       "      <td>width</td>\n",
       "      <td>0.135694</td>\n",
       "      <td>1</td>\n",
       "    </tr>\n",
       "    <tr>\n",
       "      <th>21</th>\n",
       "      <td>width</td>\n",
       "      <td>0.112043</td>\n",
       "      <td>2</td>\n",
       "    </tr>\n",
       "    <tr>\n",
       "      <th>22</th>\n",
       "      <td>width</td>\n",
       "      <td>0.102339</td>\n",
       "      <td>3</td>\n",
       "    </tr>\n",
       "    <tr>\n",
       "      <th>23</th>\n",
       "      <td>width</td>\n",
       "      <td>0.112780</td>\n",
       "      <td>4</td>\n",
       "    </tr>\n",
       "    <tr>\n",
       "      <th>24</th>\n",
       "      <td>width</td>\n",
       "      <td>0.108255</td>\n",
       "      <td>5</td>\n",
       "    </tr>\n",
       "    <tr>\n",
       "      <th>25</th>\n",
       "      <td>width</td>\n",
       "      <td>0.107106</td>\n",
       "      <td>6</td>\n",
       "    </tr>\n",
       "    <tr>\n",
       "      <th>26</th>\n",
       "      <td>width</td>\n",
       "      <td>0.105882</td>\n",
       "      <td>7</td>\n",
       "    </tr>\n",
       "    <tr>\n",
       "      <th>27</th>\n",
       "      <td>width</td>\n",
       "      <td>0.106190</td>\n",
       "      <td>8</td>\n",
       "    </tr>\n",
       "    <tr>\n",
       "      <th>28</th>\n",
       "      <td>width</td>\n",
       "      <td>0.106423</td>\n",
       "      <td>9</td>\n",
       "    </tr>\n",
       "    <tr>\n",
       "      <th>29</th>\n",
       "      <td>width</td>\n",
       "      <td>0.108644</td>\n",
       "      <td>10</td>\n",
       "    </tr>\n",
       "    <tr>\n",
       "      <th>...</th>\n",
       "      <td>...</td>\n",
       "      <td>...</td>\n",
       "      <td>...</td>\n",
       "    </tr>\n",
       "    <tr>\n",
       "      <th>100</th>\n",
       "      <td>peak-rpm</td>\n",
       "      <td>0.200695</td>\n",
       "      <td>1</td>\n",
       "    </tr>\n",
       "    <tr>\n",
       "      <th>101</th>\n",
       "      <td>peak-rpm</td>\n",
       "      <td>0.239027</td>\n",
       "      <td>2</td>\n",
       "    </tr>\n",
       "    <tr>\n",
       "      <th>102</th>\n",
       "      <td>peak-rpm</td>\n",
       "      <td>0.233636</td>\n",
       "      <td>3</td>\n",
       "    </tr>\n",
       "    <tr>\n",
       "      <th>103</th>\n",
       "      <td>peak-rpm</td>\n",
       "      <td>0.234543</td>\n",
       "      <td>4</td>\n",
       "    </tr>\n",
       "    <tr>\n",
       "      <th>104</th>\n",
       "      <td>peak-rpm</td>\n",
       "      <td>0.239513</td>\n",
       "      <td>5</td>\n",
       "    </tr>\n",
       "    <tr>\n",
       "      <th>105</th>\n",
       "      <td>peak-rpm</td>\n",
       "      <td>0.235429</td>\n",
       "      <td>6</td>\n",
       "    </tr>\n",
       "    <tr>\n",
       "      <th>106</th>\n",
       "      <td>peak-rpm</td>\n",
       "      <td>0.234939</td>\n",
       "      <td>7</td>\n",
       "    </tr>\n",
       "    <tr>\n",
       "      <th>107</th>\n",
       "      <td>peak-rpm</td>\n",
       "      <td>0.225238</td>\n",
       "      <td>8</td>\n",
       "    </tr>\n",
       "    <tr>\n",
       "      <th>108</th>\n",
       "      <td>peak-rpm</td>\n",
       "      <td>0.220937</td>\n",
       "      <td>9</td>\n",
       "    </tr>\n",
       "    <tr>\n",
       "      <th>109</th>\n",
       "      <td>peak-rpm</td>\n",
       "      <td>0.213509</td>\n",
       "      <td>10</td>\n",
       "    </tr>\n",
       "    <tr>\n",
       "      <th>110</th>\n",
       "      <td>city-mpg</td>\n",
       "      <td>0.124786</td>\n",
       "      <td>1</td>\n",
       "    </tr>\n",
       "    <tr>\n",
       "      <th>111</th>\n",
       "      <td>city-mpg</td>\n",
       "      <td>0.105170</td>\n",
       "      <td>2</td>\n",
       "    </tr>\n",
       "    <tr>\n",
       "      <th>112</th>\n",
       "      <td>city-mpg</td>\n",
       "      <td>0.101259</td>\n",
       "      <td>3</td>\n",
       "    </tr>\n",
       "    <tr>\n",
       "      <th>113</th>\n",
       "      <td>city-mpg</td>\n",
       "      <td>0.099308</td>\n",
       "      <td>4</td>\n",
       "    </tr>\n",
       "    <tr>\n",
       "      <th>114</th>\n",
       "      <td>city-mpg</td>\n",
       "      <td>0.102792</td>\n",
       "      <td>5</td>\n",
       "    </tr>\n",
       "    <tr>\n",
       "      <th>115</th>\n",
       "      <td>city-mpg</td>\n",
       "      <td>0.098193</td>\n",
       "      <td>6</td>\n",
       "    </tr>\n",
       "    <tr>\n",
       "      <th>116</th>\n",
       "      <td>city-mpg</td>\n",
       "      <td>0.097935</td>\n",
       "      <td>7</td>\n",
       "    </tr>\n",
       "    <tr>\n",
       "      <th>117</th>\n",
       "      <td>city-mpg</td>\n",
       "      <td>0.103142</td>\n",
       "      <td>8</td>\n",
       "    </tr>\n",
       "    <tr>\n",
       "      <th>118</th>\n",
       "      <td>city-mpg</td>\n",
       "      <td>0.097417</td>\n",
       "      <td>9</td>\n",
       "    </tr>\n",
       "    <tr>\n",
       "      <th>119</th>\n",
       "      <td>city-mpg</td>\n",
       "      <td>0.094116</td>\n",
       "      <td>10</td>\n",
       "    </tr>\n",
       "    <tr>\n",
       "      <th>120</th>\n",
       "      <td>highway-mpg</td>\n",
       "      <td>0.133482</td>\n",
       "      <td>1</td>\n",
       "    </tr>\n",
       "    <tr>\n",
       "      <th>121</th>\n",
       "      <td>highway-mpg</td>\n",
       "      <td>0.123365</td>\n",
       "      <td>2</td>\n",
       "    </tr>\n",
       "    <tr>\n",
       "      <th>122</th>\n",
       "      <td>highway-mpg</td>\n",
       "      <td>0.127780</td>\n",
       "      <td>3</td>\n",
       "    </tr>\n",
       "    <tr>\n",
       "      <th>123</th>\n",
       "      <td>highway-mpg</td>\n",
       "      <td>0.115106</td>\n",
       "      <td>4</td>\n",
       "    </tr>\n",
       "    <tr>\n",
       "      <th>124</th>\n",
       "      <td>highway-mpg</td>\n",
       "      <td>0.115134</td>\n",
       "      <td>5</td>\n",
       "    </tr>\n",
       "    <tr>\n",
       "      <th>125</th>\n",
       "      <td>highway-mpg</td>\n",
       "      <td>0.117045</td>\n",
       "      <td>6</td>\n",
       "    </tr>\n",
       "    <tr>\n",
       "      <th>126</th>\n",
       "      <td>highway-mpg</td>\n",
       "      <td>0.111120</td>\n",
       "      <td>7</td>\n",
       "    </tr>\n",
       "    <tr>\n",
       "      <th>127</th>\n",
       "      <td>highway-mpg</td>\n",
       "      <td>0.113551</td>\n",
       "      <td>8</td>\n",
       "    </tr>\n",
       "    <tr>\n",
       "      <th>128</th>\n",
       "      <td>highway-mpg</td>\n",
       "      <td>0.119285</td>\n",
       "      <td>9</td>\n",
       "    </tr>\n",
       "    <tr>\n",
       "      <th>129</th>\n",
       "      <td>highway-mpg</td>\n",
       "      <td>0.124851</td>\n",
       "      <td>10</td>\n",
       "    </tr>\n",
       "  </tbody>\n",
       "</table>\n",
       "<p>130 rows × 3 columns</p>\n",
       "</div>"
      ],
      "text/plain": [
       "         feature      rmse  k_value\n",
       "0     wheel-base  0.109526        1\n",
       "1     wheel-base  0.122833        2\n",
       "2     wheel-base  0.129346        3\n",
       "3     wheel-base  0.132992        4\n",
       "4     wheel-base  0.138907        5\n",
       "5     wheel-base  0.136451        6\n",
       "6     wheel-base  0.141106        7\n",
       "7     wheel-base  0.140233        8\n",
       "8     wheel-base  0.139969        9\n",
       "9     wheel-base  0.138883       10\n",
       "10        length  0.131980        1\n",
       "11        length  0.122759        2\n",
       "12        length  0.131021        3\n",
       "13        length  0.139825        4\n",
       "14        length  0.142051        5\n",
       "15        length  0.137902        6\n",
       "16        length  0.132378        7\n",
       "17        length  0.129481        8\n",
       "18        length  0.130547        9\n",
       "19        length  0.132106       10\n",
       "20         width  0.135694        1\n",
       "21         width  0.112043        2\n",
       "22         width  0.102339        3\n",
       "23         width  0.112780        4\n",
       "24         width  0.108255        5\n",
       "25         width  0.107106        6\n",
       "26         width  0.105882        7\n",
       "27         width  0.106190        8\n",
       "28         width  0.106423        9\n",
       "29         width  0.108644       10\n",
       "..           ...       ...      ...\n",
       "100     peak-rpm  0.200695        1\n",
       "101     peak-rpm  0.239027        2\n",
       "102     peak-rpm  0.233636        3\n",
       "103     peak-rpm  0.234543        4\n",
       "104     peak-rpm  0.239513        5\n",
       "105     peak-rpm  0.235429        6\n",
       "106     peak-rpm  0.234939        7\n",
       "107     peak-rpm  0.225238        8\n",
       "108     peak-rpm  0.220937        9\n",
       "109     peak-rpm  0.213509       10\n",
       "110     city-mpg  0.124786        1\n",
       "111     city-mpg  0.105170        2\n",
       "112     city-mpg  0.101259        3\n",
       "113     city-mpg  0.099308        4\n",
       "114     city-mpg  0.102792        5\n",
       "115     city-mpg  0.098193        6\n",
       "116     city-mpg  0.097935        7\n",
       "117     city-mpg  0.103142        8\n",
       "118     city-mpg  0.097417        9\n",
       "119     city-mpg  0.094116       10\n",
       "120  highway-mpg  0.133482        1\n",
       "121  highway-mpg  0.123365        2\n",
       "122  highway-mpg  0.127780        3\n",
       "123  highway-mpg  0.115106        4\n",
       "124  highway-mpg  0.115134        5\n",
       "125  highway-mpg  0.117045        6\n",
       "126  highway-mpg  0.111120        7\n",
       "127  highway-mpg  0.113551        8\n",
       "128  highway-mpg  0.119285        9\n",
       "129  highway-mpg  0.124851       10\n",
       "\n",
       "[130 rows x 3 columns]"
      ]
     },
     "execution_count": 30,
     "metadata": {},
     "output_type": "execute_result"
    }
   ],
   "source": [
    "df_column_results = pd.DataFrame(column_results, columns = ['feature', 'rmse', 'k_value'])\n",
    "df_column_results"
   ]
  },
  {
   "cell_type": "markdown",
   "metadata": {},
   "source": [
    "###### Our list of column results is now complete, next we will collect the data to plot k vs RMSE\n",
    "\n",
    "###### I have plotted this in two separate graphs to better view the data"
   ]
  },
  {
   "cell_type": "code",
   "execution_count": 31,
   "metadata": {
    "collapsed": false,
    "scrolled": true
   },
   "outputs": [
    {
     "data": {
      "text/plain": [
       "<matplotlib.legend.Legend at 0x7f20ad4ff710>"
      ]
     },
     "execution_count": 31,
     "metadata": {},
     "output_type": "execute_result"
    },
    {
     "data": {
      "image/png": "[encoded data removed]",
      "text/plain": [
       "<matplotlib.figure.Figure at 0x7f20ad54c358>"
      ]
     },
     "metadata": {},
     "output_type": "display_data"
    },
    {
     "data": {
      "text/plain": [
       "<matplotlib.figure.Figure at 0x7f20ad506f60>"
      ]
     },
     "metadata": {},
     "output_type": "display_data"
    }
   ],
   "source": [
    "fig, ax = plt.subplots()\n",
    "plt.plot(df_column_results['k_value'][0:10], df_column_results['rmse'][0:10], label = column_names[0])\n",
    "plt.plot(df_column_results['k_value'][10:20], df_column_results['rmse'][10:20], label = column_names[1])\n",
    "plt.plot(df_column_results['k_value'][20:30], df_column_results['rmse'][20:30], label = column_names[2])\n",
    "plt.plot(df_column_results['k_value'][30:40], df_column_results['rmse'][30:40], label = column_names[3])\n",
    "plt.plot(df_column_results['k_value'][40:50], df_column_results['rmse'][40:50], label = column_names[4])\n",
    "plt.plot(df_column_results['k_value'][50:60], df_column_results['rmse'][50:60], label = column_names[5])\n",
    "plt.plot(df_column_results['k_value'][60:70], df_column_results['rmse'][60:70], label = column_names[6])\n",
    "plt.figure(figsize = (30,30))\n",
    "ax.legend(loc='right', bbox_to_anchor=(1.5, 0.5))\n"
   ]
  },
  {
   "cell_type": "code",
   "execution_count": 32,
   "metadata": {
    "collapsed": false,
    "scrolled": true
   },
   "outputs": [
    {
     "data": {
      "text/plain": [
       "<matplotlib.legend.Legend at 0x7f20ad4a2f98>"
      ]
     },
     "execution_count": 32,
     "metadata": {},
     "output_type": "execute_result"
    },
    {
     "data": {
      "image/png": "[encoded data removed]",
      "text/plain": [
       "<matplotlib.figure.Figure at 0x7f20ad513588>"
      ]
     },
     "metadata": {},
     "output_type": "display_data"
    },
    {
     "data": {
      "text/plain": [
       "<matplotlib.figure.Figure at 0x7f20ad4aa2e8>"
      ]
     },
     "metadata": {},
     "output_type": "display_data"
    }
   ],
   "source": [
    "fig, ax = plt.subplots()\n",
    "plt.plot(df_column_results['k_value'][70:80], df_column_results['rmse'][70:80], label = column_names[7])\n",
    "plt.plot(df_column_results['k_value'][80:90], df_column_results['rmse'][80:90], label = column_names[8])\n",
    "plt.plot(df_column_results['k_value'][90:100], df_column_results['rmse'][90:100], label = column_names[9])\n",
    "plt.plot(df_column_results['k_value'][100:110], df_column_results['rmse'][100:110], label = column_names[10])\n",
    "plt.plot(df_column_results['k_value'][110:120], df_column_results['rmse'][110:120], label = column_names[11])\n",
    "plt.plot(df_column_results['k_value'][120:130], df_column_results['rmse'][120:130], label = column_names[12])\n",
    "plt.figure(figsize = (30,30))\n",
    "ax.legend(loc='right', bbox_to_anchor=(1.5, 0.5))\n"
   ]
  },
  {
   "cell_type": "markdown",
   "metadata": {},
   "source": [
    "###### The graphs are not too easy to decypher. We will now sum up for each k_value to see the overall minima"
   ]
  },
  {
   "cell_type": "code",
   "execution_count": 33,
   "metadata": {
    "collapsed": false,
    "scrolled": false
   },
   "outputs": [
    {
     "data": {
      "text/html": [
       "<div>\n",
       "<style scoped>\n",
       "    .dataframe tbody tr th:only-of-type {\n",
       "        vertical-align: middle;\n",
       "    }\n",
       "\n",
       "    .dataframe tbody tr th {\n",
       "        vertical-align: top;\n",
       "    }\n",
       "\n",
       "    .dataframe thead th {\n",
       "        text-align: right;\n",
       "    }\n",
       "</style>\n",
       "<table border=\"1\" class=\"dataframe\">\n",
       "  <thead>\n",
       "    <tr style=\"text-align: right;\">\n",
       "      <th></th>\n",
       "      <th>rmse</th>\n",
       "    </tr>\n",
       "    <tr>\n",
       "      <th>k_value</th>\n",
       "      <th></th>\n",
       "    </tr>\n",
       "  </thead>\n",
       "  <tbody>\n",
       "    <tr>\n",
       "      <th>7</th>\n",
       "      <td>0.141605</td>\n",
       "    </tr>\n",
       "    <tr>\n",
       "      <th>4</th>\n",
       "      <td>0.141735</td>\n",
       "    </tr>\n",
       "    <tr>\n",
       "      <th>6</th>\n",
       "      <td>0.142043</td>\n",
       "    </tr>\n",
       "    <tr>\n",
       "      <th>3</th>\n",
       "      <td>0.142309</td>\n",
       "    </tr>\n",
       "    <tr>\n",
       "      <th>8</th>\n",
       "      <td>0.142575</td>\n",
       "    </tr>\n",
       "    <tr>\n",
       "      <th>5</th>\n",
       "      <td>0.143130</td>\n",
       "    </tr>\n",
       "    <tr>\n",
       "      <th>9</th>\n",
       "      <td>0.144102</td>\n",
       "    </tr>\n",
       "    <tr>\n",
       "      <th>10</th>\n",
       "      <td>0.144278</td>\n",
       "    </tr>\n",
       "    <tr>\n",
       "      <th>2</th>\n",
       "      <td>0.144794</td>\n",
       "    </tr>\n",
       "    <tr>\n",
       "      <th>1</th>\n",
       "      <td>0.156277</td>\n",
       "    </tr>\n",
       "  </tbody>\n",
       "</table>\n",
       "</div>"
      ],
      "text/plain": [
       "             rmse\n",
       "k_value          \n",
       "7        0.141605\n",
       "4        0.141735\n",
       "6        0.142043\n",
       "3        0.142309\n",
       "8        0.142575\n",
       "5        0.143130\n",
       "9        0.144102\n",
       "10       0.144278\n",
       "2        0.144794\n",
       "1        0.156277"
      ]
     },
     "execution_count": 33,
     "metadata": {},
     "output_type": "execute_result"
    }
   ],
   "source": [
    "df_column_results.groupby(by='k_value').mean().sort_values(by='rmse')"
   ]
  },
  {
   "cell_type": "markdown",
   "metadata": {},
   "source": [
    "###### Where K = 7 gives the lowest relative means squared error (rmse)\n",
    "\n",
    "###### The rmse on average was 0.141605, or a 14% error."
   ]
  },
  {
   "cell_type": "markdown",
   "metadata": {},
   "source": [
    "## Creating A Multivariate KNN Model\n",
    "###### We will now proceed with a KNN model that uses all features (variables) to potentially greatly improve the accuracy of our model"
   ]
  },
  {
   "cell_type": "code",
   "execution_count": 34,
   "metadata": {
    "collapsed": false
   },
   "outputs": [],
   "source": [
    "def knn_train_test_multi_feature(n_features, training_column_names, target_column_name, dataframe):\n",
    "    #find midpoint of data#\n",
    "    data_midpoint = int(len(dataframe)/ 2)\n",
    "    #randomise data#\n",
    "    np.random.seed(10)\n",
    "    shuffle_index = np.random.permutation(dataframe.index)\n",
    "    df = dataframe.reindex(shuffle_index)\n",
    "    #split data into 50:50 train and test#\n",
    "    train = df[:data_midpoint]\n",
    "    test = df[data_midpoint:]\n",
    "    knn = KNeighborsRegressor(n_neighbors = k)\n",
    "    knn.fit(train[training_column_names], train[target_column_name])\n",
    "    predictions = knn.predict(test[training_column_names])\n",
    "    mse = mean_squared_error(test[target_column_name], predictions)\n",
    "    rmse = mse ** 0.5\n",
    "    return (n_features, rmse)"
   ]
  },
  {
   "cell_type": "markdown",
   "metadata": {},
   "source": [
    "###### Recall from earlier the columns with the lowest error (seen below)"
   ]
  },
  {
   "cell_type": "code",
   "execution_count": 35,
   "metadata": {
    "collapsed": false,
    "scrolled": true
   },
   "outputs": [
    {
     "data": {
      "text/plain": [
       "[(0.08914233568669673, 'engine-size'),\n",
       " (0.09747328986609792, 'curb-weight'),\n",
       " (0.10279219956671605, 'city-mpg'),\n",
       " (0.10398624836252071, 'horsepower'),\n",
       " (0.10825527634424237, 'width'),\n",
       " (0.11513388210435571, 'highway-mpg'),\n",
       " (0.138907362392898, 'wheel-base'),\n",
       " (0.14205111727370864, 'length'),\n",
       " (0.1445044561018585, 'compression-ratio'),\n",
       " (0.1812322381292307, 'bore'),\n",
       " (0.1924112289171109, 'stroke'),\n",
       " (0.20529337510706833, 'height'),\n",
       " (0.23951319951959624, 'peak-rpm')]"
      ]
     },
     "execution_count": 35,
     "metadata": {},
     "output_type": "execute_result"
    }
   ],
   "source": [
    "sorted(uni_vari_column_results)"
   ]
  },
  {
   "cell_type": "code",
   "execution_count": 36,
   "metadata": {
    "collapsed": false
   },
   "outputs": [],
   "source": [
    "#Create a list of the top feature names#\n",
    "top_feature = [item[1] for item in sorted(uni_vari_column_results)]"
   ]
  },
  {
   "cell_type": "markdown",
   "metadata": {},
   "source": [
    "###### Next challenge is to see how the number of features influences the rmse. We will work down the list from best to worst. Starting with 1 feature and ending on 13 features"
   ]
  },
  {
   "cell_type": "code",
   "execution_count": 37,
   "metadata": {
    "collapsed": false
   },
   "outputs": [
    {
     "name": "stdout",
     "output_type": "stream",
     "text": [
      "number of features, rmse: \n",
      "\n",
      "(1, 0.10348535228042828)\n",
      "(2, 0.09896697090430945)\n",
      "(3, 0.08960053896256964)\n",
      "(4, 0.08976784421671026)\n",
      "(5, 0.09025179327985412)\n",
      "(6, 0.09028811570574113)\n",
      "(7, 0.09566096777171264)\n",
      "(8, 0.0984030275242053)\n",
      "(9, 0.10806574307559925)\n",
      "(10, 0.10882544575990001)\n",
      "(11, 0.10959831663188566)\n",
      "(12, 0.10576516477023892)\n",
      "(13, 0.11004788573307327)\n"
     ]
    }
   ],
   "source": [
    "print('number of features, rmse:', '\\n')\n",
    "for i in range(1,14):\n",
    "    print(knn_train_test_multi_feature(i, top_feature[:i], 'price', cars_cont_norm))"
   ]
  },
  {
   "cell_type": "markdown",
   "metadata": {},
   "source": [
    "###### Including all of the features actually decreases our accuracy. The best number of features here is 3 and gives a ~9% error. \n",
    "\n",
    "###### This is somewhat suprising as where we saw as many as 7 features with high correlation, perhaps this is somewhat reflected in the 3 to 6 features here  which do not significantly increase the error."
   ]
  },
  {
   "cell_type": "markdown",
   "metadata": {},
   "source": [
    "## Creating A The Three Variate KNN Model With Variable K\n",
    "###### The top 3 features of engine-size, curb-weight and city-mpg have been selected as the best variates.\n",
    "\n",
    "###### Now lets see the best K_number for this new model"
   ]
  },
  {
   "cell_type": "code",
   "execution_count": 38,
   "metadata": {
    "collapsed": true
   },
   "outputs": [],
   "source": [
    "def knn_train_test_trivari_k(target_column_name, dataframe, k):\n",
    "    #find midpoint of data#\n",
    "    data_midpoint = int(len(dataframe)/ 2)\n",
    "    #randomise data#\n",
    "    np.random.seed(10)\n",
    "    shuffle_index = np.random.permutation(dataframe.index)\n",
    "    df = dataframe.reindex(shuffle_index)\n",
    "    #split data into 50:50 train and test#\n",
    "    train = df[:data_midpoint]\n",
    "    test = df[data_midpoint:]\n",
    "    knn = KNeighborsRegressor(n_neighbors = k)\n",
    "    knn.fit(train[['engine-size', 'curb-weight', 'city-mpg']], train[target_column_name])\n",
    "    predictions = knn.predict(test[['engine-size', 'curb-weight', 'city-mpg']])\n",
    "    mse = mean_squared_error(test[[target_column_name]], predictions)\n",
    "    rmse = mse ** 0.5\n",
    "    return (rmse, k)"
   ]
  },
  {
   "cell_type": "code",
   "execution_count": 39,
   "metadata": {
    "collapsed": false,
    "scrolled": true
   },
   "outputs": [
    {
     "data": {
      "text/plain": [
       "[(0.08451578609478995, 1),\n",
       " (0.08694630813252058, 11),\n",
       " (0.08960053896256964, 10),\n",
       " (0.08966588210495126, 14),\n",
       " (0.0899296709596606, 9),\n",
       " (0.08998625257207737, 8),\n",
       " (0.09012811248838966, 13),\n",
       " (0.0904875546940634, 12),\n",
       " (0.09093281448592609, 7),\n",
       " (0.09134329828182572, 15),\n",
       " (0.09306681698697236, 16),\n",
       " (0.09439765365481351, 5),\n",
       " (0.09532547297901982, 17),\n",
       " (0.09564605968653893, 6),\n",
       " (0.09606175884672191, 18),\n",
       " (0.09667343889040163, 3),\n",
       " (0.09746177633268838, 19),\n",
       " (0.09747195225711154, 4),\n",
       " (0.0986969071106188, 20),\n",
       " (0.1005900263402369, 21),\n",
       " (0.10096025283609317, 2),\n",
       " (0.10208622218162756, 22),\n",
       " (0.10291747256171033, 23),\n",
       " (0.10301240318176466, 24),\n",
       " (0.10514241952169709, 25)]"
      ]
     },
     "execution_count": 39,
     "metadata": {},
     "output_type": "execute_result"
    }
   ],
   "source": [
    "trivari_column_results = []\n",
    "for k in range(1,26):\n",
    "    trivari_column_results.append(knn_train_test_trivari_k('price', cars_cont_norm, k))\n",
    "sorted(trivari_column_results)"
   ]
  },
  {
   "cell_type": "markdown",
   "metadata": {},
   "source": [
    "###### It is very interesting to see that a value of 1 for number of neighbours gives the best result. Perhaps this is because there happens to be many car nearly identical in the test and train sets. And introducing a second slightly less close car increases the error.\n",
    "\n",
    "###### Our error rate has now dropped to 8%. The lowest error seen in a single variable (engine_size) at neighbours = 3 (see the graphs) was also 8%. \n",
    "\n",
    "###### Another technique we will now explore is K-Folds Cross Validation"
   ]
  },
  {
   "cell_type": "markdown",
   "metadata": {},
   "source": [
    "## Creating A The Three Variate KNN Model With Variable K-Fold Cross Validation\n",
    "###### Earlier we have been using a 50 - 50 split K-Fold Cross Validation. However it can be better to vary this split to 80:20 for instance.\n",
    "\n",
    "###### A K-Fold Cross Validation split number of 5 will use 20% for the test, but crucially it will move the location of the 20% such that 5tests are run and all data is tested and trained.\n",
    "\n",
    "###### [If this is difficult to visualise this graphic may explain better](https://s3.amazonaws.com/dq-content/kfold_cross_validation.png)"
   ]
  },
  {
   "cell_type": "code",
   "execution_count": 83,
   "metadata": {
    "collapsed": false
   },
   "outputs": [],
   "source": [
    "def knn_train_test_kfold_vari_k(train_columns, target_column, dataframe, k, fold):\n",
    "    np.random.seed(10)\n",
    "    shuffle_index = np.random.permutation(dataframe.index)\n",
    "    df = dataframe.reindex(shuffle_index)\n",
    "    kf = KFold(n_splits = fold, shuffle=True, random_state=1)\n",
    "    model = KNeighborsRegressor(n_neighbors = k)\n",
    "    mses = cross_val_score(model, dataframe[train_columns], dataframe[target_column], scoring=\"neg_mean_squared_error\", cv=kf)\n",
    "    absolutes = np.absolute(mses)\n",
    "    rmse = absolutes ** 0.5\n",
    "    mean_rmse = np.mean(rmse)\n",
    "    return (mean_rmse, fold, k)"
   ]
  },
  {
   "cell_type": "code",
   "execution_count": 92,
   "metadata": {
    "collapsed": false,
    "scrolled": true
   },
   "outputs": [],
   "source": [
    "folds_rmses = []\n",
    "for k in range(1,5):\n",
    "    for fold in range(5,51):\n",
    "        folds_rmses.append(knn_train_test_kfold_vari_k(['engine-size', 'curb-weight', 'city-mpg'],'price', cars_cont_norm, k, fold))"
   ]
  },
  {
   "cell_type": "code",
   "execution_count": 93,
   "metadata": {
    "collapsed": false
   },
   "outputs": [],
   "source": [
    "folds_df = pd.DataFrame(folds_rmses, columns = ['rmse', 'n_of_folds', 'k_value'])"
   ]
  },
  {
   "cell_type": "code",
   "execution_count": 95,
   "metadata": {
    "collapsed": false
   },
   "outputs": [
    {
     "data": {
      "text/html": [
       "<div>\n",
       "<style scoped>\n",
       "    .dataframe tbody tr th:only-of-type {\n",
       "        vertical-align: middle;\n",
       "    }\n",
       "\n",
       "    .dataframe tbody tr th {\n",
       "        vertical-align: top;\n",
       "    }\n",
       "\n",
       "    .dataframe thead th {\n",
       "        text-align: right;\n",
       "    }\n",
       "</style>\n",
       "<table border=\"1\" class=\"dataframe\">\n",
       "  <thead>\n",
       "    <tr style=\"text-align: right;\">\n",
       "      <th></th>\n",
       "      <th>rmse</th>\n",
       "      <th>n_of_folds</th>\n",
       "      <th>k_value</th>\n",
       "    </tr>\n",
       "  </thead>\n",
       "  <tbody>\n",
       "    <tr>\n",
       "      <th>85</th>\n",
       "      <td>0.057858</td>\n",
       "      <td>44</td>\n",
       "      <td>2</td>\n",
       "    </tr>\n",
       "    <tr>\n",
       "      <th>84</th>\n",
       "      <td>0.058039</td>\n",
       "      <td>43</td>\n",
       "      <td>2</td>\n",
       "    </tr>\n",
       "    <tr>\n",
       "      <th>89</th>\n",
       "      <td>0.058233</td>\n",
       "      <td>48</td>\n",
       "      <td>2</td>\n",
       "    </tr>\n",
       "    <tr>\n",
       "      <th>88</th>\n",
       "      <td>0.058326</td>\n",
       "      <td>47</td>\n",
       "      <td>2</td>\n",
       "    </tr>\n",
       "    <tr>\n",
       "      <th>91</th>\n",
       "      <td>0.058357</td>\n",
       "      <td>50</td>\n",
       "      <td>2</td>\n",
       "    </tr>\n",
       "  </tbody>\n",
       "</table>\n",
       "</div>"
      ],
      "text/plain": [
       "        rmse  n_of_folds  k_value\n",
       "85  0.057858          44        2\n",
       "84  0.058039          43        2\n",
       "89  0.058233          48        2\n",
       "88  0.058326          47        2\n",
       "91  0.058357          50        2"
      ]
     },
     "execution_count": 95,
     "metadata": {},
     "output_type": "execute_result"
    }
   ],
   "source": [
    "folds_df.sort_values(by='rmse').head()"
   ]
  },
  {
   "cell_type": "markdown",
   "metadata": {},
   "source": [
    "###### Our error rate has now been reduced to just below 6%, for 44 folds with number of neighbours (k_value) of 2.\n",
    "\n",
    "###### This highlights the complexity of machine learning and the great work needed to even acheive small gains in accuracy."
   ]
  }
 ],
 "metadata": {
  "kernelspec": {
   "display_name": "Python 3",
   "language": "python",
   "name": "python3"
  },
  "language_info": {
   "codemirror_mode": {
    "name": "ipython",
    "version": 3
   },
   "file_extension": ".py",
   "mimetype": "text/x-python",
   "name": "python",
   "nbconvert_exporter": "python",
   "pygments_lexer": "ipython3",
   "version": "3.4.3"
  }
 },
 "nbformat": 4,
 "nbformat_minor": 2
}
