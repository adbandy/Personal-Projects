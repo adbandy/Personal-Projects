{
 "cells": [
  {
   "cell_type": "markdown",
   "metadata": {
    "collapsed": true
   },
   "source": [
    "# Studying the Star Wars Survey"
   ]
  },
  {
   "cell_type": "code",
   "execution_count": 1,
   "metadata": {
    "collapsed": true
   },
   "outputs": [],
   "source": [
    "import pandas as pd\n",
    "pd.options.display.max_columns = 50\n",
    "star_wars = pd.read_csv(\"star_wars.csv\", encoding=\"ISO-8859-1\")"
   ]
  },
  {
   "cell_type": "code",
   "execution_count": 2,
   "metadata": {
    "collapsed": false
   },
   "outputs": [
    {
     "name": "stdout",
     "output_type": "stream",
     "text": [
      "Index(['RespondentID',\n",
      "       'Have you seen any of the 6 films in the Star Wars franchise?',\n",
      "       'Do you consider yourself to be a fan of the Star Wars film franchise?',\n",
      "       'Which of the following Star Wars films have you seen? Please select all that apply.',\n",
      "       'Unnamed: 4', 'Unnamed: 5', 'Unnamed: 6', 'Unnamed: 7', 'Unnamed: 8',\n",
      "       'Please rank the Star Wars films in order of preference with 1 being your favorite film in the franchise and 6 being your least favorite film.',\n",
      "       'Unnamed: 10', 'Unnamed: 11', 'Unnamed: 12', 'Unnamed: 13',\n",
      "       'Unnamed: 14',\n",
      "       'Please state whether you view the following characters favorably, unfavorably, or are unfamiliar with him/her.',\n",
      "       'Unnamed: 16', 'Unnamed: 17', 'Unnamed: 18', 'Unnamed: 19',\n",
      "       'Unnamed: 20', 'Unnamed: 21', 'Unnamed: 22', 'Unnamed: 23',\n",
      "       'Unnamed: 24', 'Unnamed: 25', 'Unnamed: 26', 'Unnamed: 27',\n",
      "       'Unnamed: 28', 'Which character shot first?',\n",
      "       'Are you familiar with the Expanded Universe?',\n",
      "       'Do you consider yourself to be a fan of the Expanded Universe?ÂÃ¦',\n",
      "       'Do you consider yourself to be a fan of the Star Trek franchise?',\n",
      "       'Gender', 'Age', 'Household Income', 'Education',\n",
      "       'Location (Census Region)'],\n",
      "      dtype='object')\n",
      "(1187, 38)\n"
     ]
    }
   ],
   "source": [
    "print(star_wars.columns)\n",
    "print(star_wars.shape)"
   ]
  },
  {
   "cell_type": "code",
   "execution_count": 3,
   "metadata": {
    "collapsed": false
   },
   "outputs": [
    {
     "name": "stdout",
     "output_type": "stream",
     "text": [
      "   RespondentID Have you seen any of the 6 films in the Star Wars franchise?  \\\n",
      "0           NaN                                           Response             \n",
      "1  3.292880e+09                                                Yes             \n",
      "2  3.292880e+09                                                 No             \n",
      "3  3.292765e+09                                                Yes             \n",
      "4  3.292763e+09                                                Yes             \n",
      "5  3.292731e+09                                                Yes             \n",
      "6  3.292719e+09                                                Yes             \n",
      "7  3.292685e+09                                                Yes             \n",
      "8  3.292664e+09                                                Yes             \n",
      "9  3.292654e+09                                                Yes             \n",
      "\n",
      "  Do you consider yourself to be a fan of the Star Wars film franchise?  \\\n",
      "0                                           Response                      \n",
      "1                                                Yes                      \n",
      "2                                                NaN                      \n",
      "3                                                 No                      \n",
      "4                                                Yes                      \n",
      "5                                                Yes                      \n",
      "6                                                Yes                      \n",
      "7                                                Yes                      \n",
      "8                                                Yes                      \n",
      "9                                                Yes                      \n",
      "\n",
      "  Which of the following Star Wars films have you seen? Please select all that apply.  \\\n",
      "0           Star Wars: Episode I  The Phantom Menace                                    \n",
      "1           Star Wars: Episode I  The Phantom Menace                                    \n",
      "2                                                NaN                                    \n",
      "3           Star Wars: Episode I  The Phantom Menace                                    \n",
      "4           Star Wars: Episode I  The Phantom Menace                                    \n",
      "5           Star Wars: Episode I  The Phantom Menace                                    \n",
      "6           Star Wars: Episode I  The Phantom Menace                                    \n",
      "7           Star Wars: Episode I  The Phantom Menace                                    \n",
      "8           Star Wars: Episode I  The Phantom Menace                                    \n",
      "9           Star Wars: Episode I  The Phantom Menace                                    \n",
      "\n",
      "                                    Unnamed: 4  \\\n",
      "0  Star Wars: Episode II  Attack of the Clones   \n",
      "1  Star Wars: Episode II  Attack of the Clones   \n",
      "2                                          NaN   \n",
      "3  Star Wars: Episode II  Attack of the Clones   \n",
      "4  Star Wars: Episode II  Attack of the Clones   \n",
      "5  Star Wars: Episode II  Attack of the Clones   \n",
      "6  Star Wars: Episode II  Attack of the Clones   \n",
      "7  Star Wars: Episode II  Attack of the Clones   \n",
      "8  Star Wars: Episode II  Attack of the Clones   \n",
      "9  Star Wars: Episode II  Attack of the Clones   \n",
      "\n",
      "                                    Unnamed: 5  \\\n",
      "0  Star Wars: Episode III  Revenge of the Sith   \n",
      "1  Star Wars: Episode III  Revenge of the Sith   \n",
      "2                                          NaN   \n",
      "3  Star Wars: Episode III  Revenge of the Sith   \n",
      "4  Star Wars: Episode III  Revenge of the Sith   \n",
      "5  Star Wars: Episode III  Revenge of the Sith   \n",
      "6  Star Wars: Episode III  Revenge of the Sith   \n",
      "7  Star Wars: Episode III  Revenge of the Sith   \n",
      "8  Star Wars: Episode III  Revenge of the Sith   \n",
      "9  Star Wars: Episode III  Revenge of the Sith   \n",
      "\n",
      "                          Unnamed: 6  \\\n",
      "0  Star Wars: Episode IV  A New Hope   \n",
      "1  Star Wars: Episode IV  A New Hope   \n",
      "2                                NaN   \n",
      "3                                NaN   \n",
      "4  Star Wars: Episode IV  A New Hope   \n",
      "5  Star Wars: Episode IV  A New Hope   \n",
      "6  Star Wars: Episode IV  A New Hope   \n",
      "7  Star Wars: Episode IV  A New Hope   \n",
      "8  Star Wars: Episode IV  A New Hope   \n",
      "9  Star Wars: Episode IV  A New Hope   \n",
      "\n",
      "                                     Unnamed: 7  \\\n",
      "0  Star Wars: Episode V The Empire Strikes Back   \n",
      "1  Star Wars: Episode V The Empire Strikes Back   \n",
      "2                                           NaN   \n",
      "3                                           NaN   \n",
      "4  Star Wars: Episode V The Empire Strikes Back   \n",
      "5  Star Wars: Episode V The Empire Strikes Back   \n",
      "6  Star Wars: Episode V The Empire Strikes Back   \n",
      "7  Star Wars: Episode V The Empire Strikes Back   \n",
      "8  Star Wars: Episode V The Empire Strikes Back   \n",
      "9  Star Wars: Episode V The Empire Strikes Back   \n",
      "\n",
      "                                 Unnamed: 8  \\\n",
      "0  Star Wars: Episode VI Return of the Jedi   \n",
      "1  Star Wars: Episode VI Return of the Jedi   \n",
      "2                                       NaN   \n",
      "3                                       NaN   \n",
      "4  Star Wars: Episode VI Return of the Jedi   \n",
      "5  Star Wars: Episode VI Return of the Jedi   \n",
      "6  Star Wars: Episode VI Return of the Jedi   \n",
      "7  Star Wars: Episode VI Return of the Jedi   \n",
      "8  Star Wars: Episode VI Return of the Jedi   \n",
      "9  Star Wars: Episode VI Return of the Jedi   \n",
      "\n",
      "  Please rank the Star Wars films in order of preference with 1 being your favorite film in the franchise and 6 being your least favorite film.  \\\n",
      "0           Star Wars: Episode I  The Phantom Menace                                                                                              \n",
      "1                                                  3                                                                                              \n",
      "2                                                NaN                                                                                              \n",
      "3                                                  1                                                                                              \n",
      "4                                                  5                                                                                              \n",
      "5                                                  5                                                                                              \n",
      "6                                                  1                                                                                              \n",
      "7                                                  6                                                                                              \n",
      "8                                                  4                                                                                              \n",
      "9                                                  5                                                                                              \n",
      "\n",
      "                                   Unnamed: 10  \\\n",
      "0  Star Wars: Episode II  Attack of the Clones   \n",
      "1                                            2   \n",
      "2                                          NaN   \n",
      "3                                            2   \n",
      "4                                            6   \n",
      "5                                            4   \n",
      "6                                            4   \n",
      "7                                            5   \n",
      "8                                            5   \n",
      "9                                            4   \n",
      "\n",
      "                                   Unnamed: 11  \\\n",
      "0  Star Wars: Episode III  Revenge of the Sith   \n",
      "1                                            1   \n",
      "2                                          NaN   \n",
      "3                                            3   \n",
      "4                                            1   \n",
      "5                                            6   \n",
      "6                                            3   \n",
      "7                                            4   \n",
      "8                                            6   \n",
      "9                                            6   \n",
      "\n",
      "                         Unnamed: 12  \\\n",
      "0  Star Wars: Episode IV  A New Hope   \n",
      "1                                  4   \n",
      "2                                NaN   \n",
      "3                                  4   \n",
      "4                                  2   \n",
      "5                                  2   \n",
      "6                                  6   \n",
      "7                                  3   \n",
      "8                                  3   \n",
      "9                                  2   \n",
      "\n",
      "                                    Unnamed: 13  \\\n",
      "0  Star Wars: Episode V The Empire Strikes Back   \n",
      "1                                             5   \n",
      "2                                           NaN   \n",
      "3                                             5   \n",
      "4                                             4   \n",
      "5                                             1   \n",
      "6                                             5   \n",
      "7                                             1   \n",
      "8                                             2   \n",
      "9                                             1   \n",
      "\n",
      "                                Unnamed: 14  \\\n",
      "0  Star Wars: Episode VI Return of the Jedi   \n",
      "1                                         6   \n",
      "2                                       NaN   \n",
      "3                                         6   \n",
      "4                                         3   \n",
      "5                                         3   \n",
      "6                                         2   \n",
      "7                                         2   \n",
      "8                                         1   \n",
      "9                                         3   \n",
      "\n",
      "  Please state whether you view the following characters favorably, unfavorably, or are unfamiliar with him/her.  \\\n",
      "0                                           Han Solo                                                               \n",
      "1                                     Very favorably                                                               \n",
      "2                                                NaN                                                               \n",
      "3                                 Somewhat favorably                                                               \n",
      "4                                     Very favorably                                                               \n",
      "5                                     Very favorably                                                               \n",
      "6                                     Very favorably                                                               \n",
      "7                                     Very favorably                                                               \n",
      "8                                     Very favorably                                                               \n",
      "9                                     Very favorably                                                               \n",
      "\n",
      "            Unnamed: 16           Unnamed: 17  \\\n",
      "0        Luke Skywalker  Princess Leia Organa   \n",
      "1        Very favorably        Very favorably   \n",
      "2                   NaN                   NaN   \n",
      "3    Somewhat favorably    Somewhat favorably   \n",
      "4        Very favorably        Very favorably   \n",
      "5    Somewhat favorably    Somewhat favorably   \n",
      "6        Very favorably        Very favorably   \n",
      "7        Very favorably    Somewhat favorably   \n",
      "8    Somewhat favorably        Very favorably   \n",
      "9  Somewhat unfavorably    Somewhat favorably   \n",
      "\n",
      "                                   Unnamed: 18         Unnamed: 19  \\\n",
      "0                             Anakin Skywalker      Obi Wan Kenobi   \n",
      "1                               Very favorably      Very favorably   \n",
      "2                                          NaN                 NaN   \n",
      "3                           Somewhat favorably  Somewhat favorably   \n",
      "4                               Very favorably      Very favorably   \n",
      "5                         Somewhat unfavorably      Very favorably   \n",
      "6                               Very favorably      Very favorably   \n",
      "7                           Somewhat favorably      Very favorably   \n",
      "8  Neither favorably nor unfavorably (neutral)      Very favorably   \n",
      "9                           Somewhat favorably  Somewhat favorably   \n",
      "\n",
      "                                   Unnamed: 20           Unnamed: 21  \\\n",
      "0                            Emperor Palpatine           Darth Vader   \n",
      "1                               Very favorably        Very favorably   \n",
      "2                                          NaN                   NaN   \n",
      "3                             Unfamiliar (N/A)      Unfamiliar (N/A)   \n",
      "4                           Somewhat favorably        Very favorably   \n",
      "5                             Very unfavorably    Somewhat favorably   \n",
      "6  Neither favorably nor unfavorably (neutral)        Very favorably   \n",
      "7                               Very favorably        Very favorably   \n",
      "8                             Very unfavorably  Somewhat unfavorably   \n",
      "9                               Very favorably        Very favorably   \n",
      "\n",
      "                                   Unnamed: 22           Unnamed: 23  \\\n",
      "0                             Lando Calrissian             Boba Fett   \n",
      "1                             Unfamiliar (N/A)      Unfamiliar (N/A)   \n",
      "2                                          NaN                   NaN   \n",
      "3                             Unfamiliar (N/A)      Unfamiliar (N/A)   \n",
      "4                           Somewhat favorably  Somewhat unfavorably   \n",
      "5  Neither favorably nor unfavorably (neutral)        Very favorably   \n",
      "6  Neither favorably nor unfavorably (neutral)    Somewhat favorably   \n",
      "7                               Very favorably        Very favorably   \n",
      "8  Neither favorably nor unfavorably (neutral)    Somewhat favorably   \n",
      "9                               Very favorably        Very favorably   \n",
      "\n",
      "                                   Unnamed: 24         Unnamed: 25  \\\n",
      "0                                        C-3P0               R2 D2   \n",
      "1                               Very favorably      Very favorably   \n",
      "2                                          NaN                 NaN   \n",
      "3                             Unfamiliar (N/A)    Unfamiliar (N/A)   \n",
      "4                               Very favorably      Very favorably   \n",
      "5                           Somewhat favorably  Somewhat favorably   \n",
      "6                           Somewhat favorably  Somewhat favorably   \n",
      "7                           Somewhat favorably      Very favorably   \n",
      "8                           Somewhat favorably  Somewhat favorably   \n",
      "9  Neither favorably nor unfavorably (neutral)  Somewhat favorably   \n",
      "\n",
      "            Unnamed: 26                                  Unnamed: 27  \\\n",
      "0         Jar Jar Binks                                Padme Amidala   \n",
      "1        Very favorably                               Very favorably   \n",
      "2                   NaN                                          NaN   \n",
      "3      Unfamiliar (N/A)                             Unfamiliar (N/A)   \n",
      "4        Very favorably                               Very favorably   \n",
      "5      Very unfavorably                           Somewhat favorably   \n",
      "6    Somewhat favorably  Neither favorably nor unfavorably (neutral)   \n",
      "7  Somewhat unfavorably                           Somewhat favorably   \n",
      "8      Very unfavorably                         Somewhat unfavorably   \n",
      "9      Very unfavorably                         Somewhat unfavorably   \n",
      "\n",
      "          Unnamed: 28       Which character shot first?  \\\n",
      "0                Yoda                          Response   \n",
      "1      Very favorably  I don't understand this question   \n",
      "2                 NaN                               NaN   \n",
      "3    Unfamiliar (N/A)  I don't understand this question   \n",
      "4      Very favorably  I don't understand this question   \n",
      "5  Somewhat favorably                            Greedo   \n",
      "6      Very favorably                               Han   \n",
      "7      Very favorably                               Han   \n",
      "8      Very favorably                               Han   \n",
      "9  Somewhat favorably                               Han   \n",
      "\n",
      "  Are you familiar with the Expanded Universe?  \\\n",
      "0                                     Response   \n",
      "1                                          Yes   \n",
      "2                                          NaN   \n",
      "3                                           No   \n",
      "4                                           No   \n",
      "5                                          Yes   \n",
      "6                                          Yes   \n",
      "7                                          Yes   \n",
      "8                                           No   \n",
      "9                                           No   \n",
      "\n",
      "  Do you consider yourself to be a fan of the Expanded Universe?ÂÃ¦  \\\n",
      "0                                           Response                   \n",
      "1                                                 No                   \n",
      "2                                                NaN                   \n",
      "3                                                NaN                   \n",
      "4                                                NaN                   \n",
      "5                                                 No                   \n",
      "6                                                 No                   \n",
      "7                                                 No                   \n",
      "8                                                NaN                   \n",
      "9                                                NaN                   \n",
      "\n",
      "  Do you consider yourself to be a fan of the Star Trek franchise?    Gender  \\\n",
      "0                                           Response                Response   \n",
      "1                                                 No                    Male   \n",
      "2                                                Yes                    Male   \n",
      "3                                                 No                    Male   \n",
      "4                                                Yes                    Male   \n",
      "5                                                 No                    Male   \n",
      "6                                                Yes                    Male   \n",
      "7                                                 No                    Male   \n",
      "8                                                Yes                    Male   \n",
      "9                                                 No                    Male   \n",
      "\n",
      "        Age     Household Income                         Education  \\\n",
      "0  Response             Response                          Response   \n",
      "1     18-29                  NaN                High school degree   \n",
      "2     18-29         $0 - $24,999                   Bachelor degree   \n",
      "3     18-29         $0 - $24,999                High school degree   \n",
      "4     18-29  $100,000 - $149,999  Some college or Associate degree   \n",
      "5     18-29  $100,000 - $149,999  Some college or Associate degree   \n",
      "6     18-29    $25,000 - $49,999                   Bachelor degree   \n",
      "7     18-29                  NaN                High school degree   \n",
      "8     18-29                  NaN                High school degree   \n",
      "9     18-29         $0 - $24,999  Some college or Associate degree   \n",
      "\n",
      "  Location (Census Region)  \n",
      "0                 Response  \n",
      "1           South Atlantic  \n",
      "2       West South Central  \n",
      "3       West North Central  \n",
      "4       West North Central  \n",
      "5       West North Central  \n",
      "6          Middle Atlantic  \n",
      "7       East North Central  \n",
      "8           South Atlantic  \n",
      "9           South Atlantic  \n"
     ]
    }
   ],
   "source": [
    "print(star_wars.head(10))"
   ]
  },
  {
   "cell_type": "markdown",
   "metadata": {},
   "source": [
    "Lets remove any Respondent ID that are Nan"
   ]
  },
  {
   "cell_type": "code",
   "execution_count": 4,
   "metadata": {
    "collapsed": false
   },
   "outputs": [
    {
     "name": "stdout",
     "output_type": "stream",
     "text": [
      "0\n"
     ]
    }
   ],
   "source": [
    "not_null_filter = star_wars[\"RespondentID\"].notnull()\n",
    "star_wars = star_wars[not_null_filter]\n",
    "#Add a check to see it all worked\n",
    "print(star_wars[\"RespondentID\"].isnull().sum())"
   ]
  },
  {
   "cell_type": "markdown",
   "metadata": {},
   "source": [
    "### Converting Yes/No responses to True/False "
   ]
  },
  {
   "cell_type": "code",
   "execution_count": 5,
   "metadata": {
    "collapsed": true
   },
   "outputs": [],
   "source": [
    "yes_no = {\"Yes\":True, \"No\":False}\n",
    "star_wars[\"Have you seen any of the 6 films in the Star Wars franchise?\"].map(yes_no).inplace=True"
   ]
  },
  {
   "cell_type": "code",
   "execution_count": 6,
   "metadata": {
    "collapsed": false
   },
   "outputs": [
    {
     "name": "stdout",
     "output_type": "stream",
     "text": [
      "Yes    936\n",
      "No     250\n",
      "Name: Have you seen any of the 6 films in the Star Wars franchise?, dtype: int64\n"
     ]
    }
   ],
   "source": [
    "print(star_wars[\"Have you seen any of the 6 films in the Star Wars franchise?\"].value_counts(dropna=False))"
   ]
  },
  {
   "cell_type": "code",
   "execution_count": 7,
   "metadata": {
    "collapsed": false
   },
   "outputs": [
    {
     "name": "stdout",
     "output_type": "stream",
     "text": [
      "Yes    552\n",
      "NaN    350\n",
      "No     284\n",
      "Name: Do you consider yourself to be a fan of the Star Wars film franchise?, dtype: int64\n"
     ]
    }
   ],
   "source": [
    "yes_no = {\"Yes\":True, \"No\":False}\n",
    "star_wars[\"Do you consider yourself to be a fan of the Star Wars film franchise?\"].map(yes_no).inplace=True\n",
    "print(star_wars[\"Do you consider yourself to be a fan of the Star Wars film franchise?\"].value_counts(dropna=False))"
   ]
  },
  {
   "cell_type": "markdown",
   "metadata": {},
   "source": [
    "### Correcting column names and Converting the films seen into True/False."
   ]
  },
  {
   "cell_type": "code",
   "execution_count": 8,
   "metadata": {
    "collapsed": false
   },
   "outputs": [],
   "source": [
    "film_columns = star_wars.columns[3:9]"
   ]
  },
  {
   "cell_type": "code",
   "execution_count": 9,
   "metadata": {
    "collapsed": false
   },
   "outputs": [
    {
     "data": {
      "text/html": [
       "<div>\n",
       "<style scoped>\n",
       "    .dataframe tbody tr th:only-of-type {\n",
       "        vertical-align: middle;\n",
       "    }\n",
       "\n",
       "    .dataframe tbody tr th {\n",
       "        vertical-align: top;\n",
       "    }\n",
       "\n",
       "    .dataframe thead th {\n",
       "        text-align: right;\n",
       "    }\n",
       "</style>\n",
       "<table border=\"1\" class=\"dataframe\">\n",
       "  <thead>\n",
       "    <tr style=\"text-align: right;\">\n",
       "      <th></th>\n",
       "      <th>Which of the following Star Wars films have you seen? Please select all that apply.</th>\n",
       "      <th>Unnamed: 4</th>\n",
       "      <th>Unnamed: 5</th>\n",
       "      <th>Unnamed: 6</th>\n",
       "      <th>Unnamed: 7</th>\n",
       "      <th>Unnamed: 8</th>\n",
       "    </tr>\n",
       "  </thead>\n",
       "  <tbody>\n",
       "    <tr>\n",
       "      <th>Star Wars: Episode I  The Phantom Menace</th>\n",
       "      <td>673.0</td>\n",
       "      <td>NaN</td>\n",
       "      <td>NaN</td>\n",
       "      <td>NaN</td>\n",
       "      <td>NaN</td>\n",
       "      <td>NaN</td>\n",
       "    </tr>\n",
       "    <tr>\n",
       "      <th>Star Wars: Episode II  Attack of the Clones</th>\n",
       "      <td>NaN</td>\n",
       "      <td>571.0</td>\n",
       "      <td>NaN</td>\n",
       "      <td>NaN</td>\n",
       "      <td>NaN</td>\n",
       "      <td>NaN</td>\n",
       "    </tr>\n",
       "    <tr>\n",
       "      <th>Star Wars: Episode III  Revenge of the Sith</th>\n",
       "      <td>NaN</td>\n",
       "      <td>NaN</td>\n",
       "      <td>550.0</td>\n",
       "      <td>NaN</td>\n",
       "      <td>NaN</td>\n",
       "      <td>NaN</td>\n",
       "    </tr>\n",
       "    <tr>\n",
       "      <th>Star Wars: Episode IV  A New Hope</th>\n",
       "      <td>NaN</td>\n",
       "      <td>NaN</td>\n",
       "      <td>NaN</td>\n",
       "      <td>607.0</td>\n",
       "      <td>NaN</td>\n",
       "      <td>NaN</td>\n",
       "    </tr>\n",
       "    <tr>\n",
       "      <th>Star Wars: Episode V The Empire Strikes Back</th>\n",
       "      <td>NaN</td>\n",
       "      <td>NaN</td>\n",
       "      <td>NaN</td>\n",
       "      <td>NaN</td>\n",
       "      <td>758.0</td>\n",
       "      <td>NaN</td>\n",
       "    </tr>\n",
       "    <tr>\n",
       "      <th>Star Wars: Episode VI Return of the Jedi</th>\n",
       "      <td>NaN</td>\n",
       "      <td>NaN</td>\n",
       "      <td>NaN</td>\n",
       "      <td>NaN</td>\n",
       "      <td>NaN</td>\n",
       "      <td>738.0</td>\n",
       "    </tr>\n",
       "  </tbody>\n",
       "</table>\n",
       "</div>"
      ],
      "text/plain": [
       "                                              Which of the following Star Wars films have you seen? Please select all that apply.  \\\n",
       "Star Wars: Episode I  The Phantom Menace                                                  673.0                                     \n",
       "Star Wars: Episode II  Attack of the Clones                                                 NaN                                     \n",
       "Star Wars: Episode III  Revenge of the Sith                                                 NaN                                     \n",
       "Star Wars: Episode IV  A New Hope                                                           NaN                                     \n",
       "Star Wars: Episode V The Empire Strikes Back                                                NaN                                     \n",
       "Star Wars: Episode VI Return of the Jedi                                                    NaN                                     \n",
       "\n",
       "                                              Unnamed: 4  Unnamed: 5  \\\n",
       "Star Wars: Episode I  The Phantom Menace             NaN         NaN   \n",
       "Star Wars: Episode II  Attack of the Clones        571.0         NaN   \n",
       "Star Wars: Episode III  Revenge of the Sith          NaN       550.0   \n",
       "Star Wars: Episode IV  A New Hope                    NaN         NaN   \n",
       "Star Wars: Episode V The Empire Strikes Back         NaN         NaN   \n",
       "Star Wars: Episode VI Return of the Jedi             NaN         NaN   \n",
       "\n",
       "                                              Unnamed: 6  Unnamed: 7  \\\n",
       "Star Wars: Episode I  The Phantom Menace             NaN         NaN   \n",
       "Star Wars: Episode II  Attack of the Clones          NaN         NaN   \n",
       "Star Wars: Episode III  Revenge of the Sith          NaN         NaN   \n",
       "Star Wars: Episode IV  A New Hope                  607.0         NaN   \n",
       "Star Wars: Episode V The Empire Strikes Back         NaN       758.0   \n",
       "Star Wars: Episode VI Return of the Jedi             NaN         NaN   \n",
       "\n",
       "                                              Unnamed: 8  \n",
       "Star Wars: Episode I  The Phantom Menace             NaN  \n",
       "Star Wars: Episode II  Attack of the Clones          NaN  \n",
       "Star Wars: Episode III  Revenge of the Sith          NaN  \n",
       "Star Wars: Episode IV  A New Hope                    NaN  \n",
       "Star Wars: Episode V The Empire Strikes Back         NaN  \n",
       "Star Wars: Episode VI Return of the Jedi           738.0  "
      ]
     },
     "execution_count": 9,
     "metadata": {},
     "output_type": "execute_result"
    }
   ],
   "source": [
    "star_wars[film_columns].apply(pd.value_counts)"
   ]
  },
  {
   "cell_type": "code",
   "execution_count": 10,
   "metadata": {
    "collapsed": false
   },
   "outputs": [
    {
     "data": {
      "text/plain": [
       "[{nan, 'Star Wars: Episode I  The Phantom Menace'},\n",
       " {nan, 'Star Wars: Episode II  Attack of the Clones'},\n",
       " {nan, 'Star Wars: Episode III  Revenge of the Sith'},\n",
       " {nan, 'Star Wars: Episode IV  A New Hope'},\n",
       " {nan, 'Star Wars: Episode V The Empire Strikes Back'},\n",
       " {nan, 'Star Wars: Episode VI Return of the Jedi'}]"
      ]
     },
     "execution_count": 10,
     "metadata": {},
     "output_type": "execute_result"
    }
   ],
   "source": [
    "#The films have different numbers of spaces in the names!\n",
    "star_wars[film_columns].apply(set).tolist()"
   ]
  },
  {
   "cell_type": "code",
   "execution_count": 11,
   "metadata": {
    "collapsed": false
   },
   "outputs": [
    {
     "name": "stdout",
     "output_type": "stream",
     "text": [
      "Index(['Which of the following Star Wars films have you seen? Please select all that apply.',\n",
      "       'Unnamed: 4', 'Unnamed: 5', 'Unnamed: 6', 'Unnamed: 7', 'Unnamed: 8'],\n",
      "      dtype='object')\n"
     ]
    }
   ],
   "source": [
    "print(star_wars.columns[3:9])"
   ]
  },
  {
   "cell_type": "code",
   "execution_count": 12,
   "metadata": {
    "collapsed": false
   },
   "outputs": [],
   "source": [
    "film_rename = {'Which of the following Star Wars films have you seen? Please select all that apply.' : \"seen_1\" , 'Unnamed: 4': \"seen_2\", 'Unnamed: 5': \"seen_3\",\n",
    "'Unnamed: 6': \"seen_4\", 'Unnamed: 7': \"seen_5\", 'Unnamed: 8': \"seen_6\"}\n",
    "star_wars.rename(columns= film_rename, inplace= True)"
   ]
  },
  {
   "cell_type": "code",
   "execution_count": 13,
   "metadata": {
    "collapsed": false
   },
   "outputs": [
    {
     "data": {
      "text/plain": [
       "['seen_1', 'seen_2', 'seen_3', 'seen_4', 'seen_5', 'seen_6']"
      ]
     },
     "execution_count": 13,
     "metadata": {},
     "output_type": "execute_result"
    }
   ],
   "source": [
    "star_wars.columns[3:9].tolist()"
   ]
  },
  {
   "cell_type": "markdown",
   "metadata": {},
   "source": [
    "Next to convert the film name responses to True and False"
   ]
  },
  {
   "cell_type": "code",
   "execution_count": 14,
   "metadata": {
    "collapsed": false
   },
   "outputs": [
    {
     "name": "stdout",
     "output_type": "stream",
     "text": [
      "['Star Wars: Episode I  The Phantom Menace', 'Star Wars: Episode II  Attack of the Clones', 'Star Wars: Episode III  Revenge of the Sith', 'Star Wars: Episode IV  A New Hope', 'Star Wars: Episode V The Empire Strikes Back', 'Star Wars: Episode VI Return of the Jedi']\n"
     ]
    }
   ],
   "source": [
    "first_row = star_wars.iloc[0:1,:]\n",
    "movie_names = list(first_row.iloc[0,3:9])\n",
    "print(movie_names)"
   ]
  },
  {
   "cell_type": "code",
   "execution_count": 15,
   "metadata": {
    "collapsed": false
   },
   "outputs": [],
   "source": [
    "def response_replace(movie):\n",
    "    if movie in movie_names:\n",
    "        return True\n",
    "    else:\n",
    "        return False\n",
    "star_wars.iloc[:,3:9] = star_wars.iloc[:,3:9].applymap(response_replace)"
   ]
  },
  {
   "cell_type": "code",
   "execution_count": 16,
   "metadata": {
    "collapsed": false
   },
   "outputs": [
    {
     "data": {
      "text/html": [
       "<div>\n",
       "<style scoped>\n",
       "    .dataframe tbody tr th:only-of-type {\n",
       "        vertical-align: middle;\n",
       "    }\n",
       "\n",
       "    .dataframe tbody tr th {\n",
       "        vertical-align: top;\n",
       "    }\n",
       "\n",
       "    .dataframe thead th {\n",
       "        text-align: right;\n",
       "    }\n",
       "</style>\n",
       "<table border=\"1\" class=\"dataframe\">\n",
       "  <thead>\n",
       "    <tr style=\"text-align: right;\">\n",
       "      <th></th>\n",
       "      <th>seen_1</th>\n",
       "      <th>seen_2</th>\n",
       "      <th>seen_3</th>\n",
       "      <th>seen_4</th>\n",
       "      <th>seen_5</th>\n",
       "      <th>seen_6</th>\n",
       "    </tr>\n",
       "  </thead>\n",
       "  <tbody>\n",
       "    <tr>\n",
       "      <th>False</th>\n",
       "      <td>513</td>\n",
       "      <td>615</td>\n",
       "      <td>636</td>\n",
       "      <td>579</td>\n",
       "      <td>428</td>\n",
       "      <td>448</td>\n",
       "    </tr>\n",
       "    <tr>\n",
       "      <th>True</th>\n",
       "      <td>673</td>\n",
       "      <td>571</td>\n",
       "      <td>550</td>\n",
       "      <td>607</td>\n",
       "      <td>758</td>\n",
       "      <td>738</td>\n",
       "    </tr>\n",
       "  </tbody>\n",
       "</table>\n",
       "</div>"
      ],
      "text/plain": [
       "       seen_1  seen_2  seen_3  seen_4  seen_5  seen_6\n",
       "False     513     615     636     579     428     448\n",
       "True      673     571     550     607     758     738"
      ]
     },
     "execution_count": 16,
     "metadata": {},
     "output_type": "execute_result"
    }
   ],
   "source": [
    "#check it worked. \n",
    "# print(star_wars.iloc[:,3:9].apply(value_counts(dropna=False)))\n",
    "star_wars.iloc[:,3:9].apply(pd.value_counts)"
   ]
  },
  {
   "cell_type": "markdown",
   "metadata": {},
   "source": [
    "Next to convert the questions about rankings into numerical values"
   ]
  },
  {
   "cell_type": "code",
   "execution_count": 17,
   "metadata": {
    "collapsed": false
   },
   "outputs": [
    {
     "name": "stdout",
     "output_type": "stream",
     "text": [
      "['Please rank the Star Wars films in order of preference with 1 being your favorite film in the franchise and 6 being your least favorite film.', 'Unnamed: 10', 'Unnamed: 11', 'Unnamed: 12', 'Unnamed: 13', 'Unnamed: 14']\n",
      "  Please rank the Star Wars films in order of preference with 1 being your favorite film in the franchise and 6 being your least favorite film.  \\\n",
      "1                                                  3                                                                                              \n",
      "2                                                NaN                                                                                              \n",
      "3                                                  1                                                                                              \n",
      "4                                                  5                                                                                              \n",
      "5                                                  5                                                                                              \n",
      "\n",
      "  Unnamed: 10 Unnamed: 11 Unnamed: 12 Unnamed: 13 Unnamed: 14  \n",
      "1           2           1           4           5           6  \n",
      "2         NaN         NaN         NaN         NaN         NaN  \n",
      "3           2           3           4           5           6  \n",
      "4           6           1           2           4           3  \n",
      "5           4           6           2           1           3  \n"
     ]
    }
   ],
   "source": [
    "#Display the questions\n",
    "print(list(star_wars.iloc[0:1, 9:15]))\n",
    "print(star_wars.iloc[:, 9:15].head(5))"
   ]
  },
  {
   "cell_type": "code",
   "execution_count": 18,
   "metadata": {
    "collapsed": false
   },
   "outputs": [],
   "source": [
    "star_wars[star_wars.columns[9:15]] = star_wars[star_wars.columns[9:15]].astype(float)"
   ]
  },
  {
   "cell_type": "code",
   "execution_count": 19,
   "metadata": {
    "collapsed": false
   },
   "outputs": [
    {
     "name": "stdout",
     "output_type": "stream",
     "text": [
      "['ranking_1', 'ranking_2', 'ranking_3', 'ranking_4', 'ranking_5', 'ranking_6']\n"
     ]
    }
   ],
   "source": [
    "filmrank_rename = {'Please rank the Star Wars films in order of preference with 1 being your favorite film in the franchise and 6 being your least favorite film.':\"ranking_1\", 'Unnamed: 10':\"ranking_2\", 'Unnamed: 11':\"ranking_3\", 'Unnamed: 12':\"ranking_4\", 'Unnamed: 13':\"ranking_5\", 'Unnamed: 14':\"ranking_6\"}\n",
    "star_wars.rename(columns= filmrank_rename, inplace= True)\n",
    "#Check to see it worked\n",
    "print(list(star_wars.iloc[0:1, 9:15]))"
   ]
  },
  {
   "cell_type": "code",
   "execution_count": 20,
   "metadata": {
    "collapsed": false
   },
   "outputs": [],
   "source": [
    "ranked_films = star_wars.iloc[:,9:15].mean().sort_values(ascending = False)"
   ]
  },
  {
   "cell_type": "code",
   "execution_count": 21,
   "metadata": {
    "collapsed": false
   },
   "outputs": [
    {
     "data": {
      "image/png": "[encoded data removed]",
      "text/plain": [
       "<matplotlib.figure.Figure at 0x7fc6ed935cf8>"
      ]
     },
     "metadata": {},
     "output_type": "display_data"
    }
   ],
   "source": [
    "%matplotlib inline\n",
    "plt = ranked_films.plot.barh(color='plum')"
   ]
  },
  {
   "cell_type": "markdown",
   "metadata": {},
   "source": [
    "Lower values here are better. \n",
    "Starwars Episode 5 is the best ranked film\n",
    "Starwars Episode 3 is the worst ranked film.\n",
    "\n",
    "Furthermore the 'original 3' (which are episodes 4,5,6) are better than the sequels (episodes 1,2,3) and suggests improvements in technology alone are no measure of a films popularity."
   ]
  },
  {
   "cell_type": "code",
   "execution_count": 22,
   "metadata": {
    "collapsed": false
   },
   "outputs": [
    {
     "data": {
      "text/plain": [
       "<matplotlib.axes._subplots.AxesSubplot at 0x7fc6e9d418d0>"
      ]
     },
     "execution_count": 22,
     "metadata": {},
     "output_type": "execute_result"
    },
    {
     "data": {
      "image/png": "[encoded data removed]",
      "text/plain": [
       "<matplotlib.figure.Figure at 0x7fc6e9d8d128>"
      ]
     },
     "metadata": {},
     "output_type": "display_data"
    }
   ],
   "source": [
    "seen_films = star_wars.iloc[:,3:9].sum().sort_values(ascending = False)\n",
    "seen_films.plot.barh(color='plum')         #plotting a barh chart of how many have seen each film"
   ]
  },
  {
   "cell_type": "markdown",
   "metadata": {},
   "source": [
    "This gives interesting results.\n",
    "There are certain trends we might expect in a movie series:\n",
    "\n",
    "1) A normal trend is for sequels is their quality deminishes. Often the writing is created for the first film and only if it is popular is another made. The public is aware of this trend and often viewership can decrease. Episode 4 was the first created though so this data doesnt support this trend. \n",
    "\n",
    "2) Advancements in technology and in human psychology can lead to a more popular current film. Silent films are of a bygone era for a reason. This leap would be expected from episode 4 to episode 3. There is a 3 year gap in episodes 4,5,6 but a 16 year gap from 4 to 3.\n",
    "\n",
    "3) Often the more people watch the film the more highly rated it is. This is more of a consequence of word of mouth propogation and positive film reviews than a direct consequence. We see this effect here with episode 5 being the most watched film and ranked the best. For the rest of the films this effect is consistent with the reverse seen for episode 1 and 4."
   ]
  },
  {
   "cell_type": "code",
   "execution_count": 23,
   "metadata": {
    "collapsed": false
   },
   "outputs": [
    {
     "name": "stdout",
     "output_type": "stream",
     "text": [
      "Index(['Do you consider yourself to be a fan of the Star Wars film franchise?',\n",
      "       'Do you consider yourself to be a fan of the Star Trek franchise?',\n",
      "       'Gender'],\n",
      "      dtype='object')\n"
     ]
    }
   ],
   "source": [
    "print(star_wars.iloc[:,[2,-6,-5]].columns)"
   ]
  },
  {
   "cell_type": "code",
   "execution_count": 24,
   "metadata": {
    "collapsed": true
   },
   "outputs": [],
   "source": [
    "males = star_wars[star_wars[\"Gender\"] == \"Male\"]\n",
    "females = star_wars[star_wars[\"Gender\"] == \"Female\"]"
   ]
  },
  {
   "cell_type": "markdown",
   "metadata": {},
   "source": [
    "## Male Respondents"
   ]
  },
  {
   "cell_type": "code",
   "execution_count": 25,
   "metadata": {
    "collapsed": false
   },
   "outputs": [
    {
     "data": {
      "text/plain": [
       "<matplotlib.axes._subplots.AxesSubplot at 0x7fc6e9cdfe48>"
      ]
     },
     "execution_count": 25,
     "metadata": {},
     "output_type": "execute_result"
    },
    {
     "data": {
      "image/png": "[encoded data removed]",
      "text/plain": [
       "<matplotlib.figure.Figure at 0x7fc6e9caa470>"
      ]
     },
     "metadata": {},
     "output_type": "display_data"
    }
   ],
   "source": [
    "male_ranked_films = males.iloc[:,9:15].mean().sort_values(ascending = False)\n",
    "male_ranked_films.plot.barh(color='plum')"
   ]
  },
  {
   "cell_type": "code",
   "execution_count": 26,
   "metadata": {
    "collapsed": false
   },
   "outputs": [
    {
     "data": {
      "text/plain": [
       "<matplotlib.axes._subplots.AxesSubplot at 0x7fc6e9c5f438>"
      ]
     },
     "execution_count": 26,
     "metadata": {},
     "output_type": "execute_result"
    },
    {
     "data": {
      "image/png": "[encoded data removed]",
      "text/plain": [
       "<matplotlib.figure.Figure at 0x7fc6ed909a90>"
      ]
     },
     "metadata": {},
     "output_type": "display_data"
    }
   ],
   "source": [
    "female_ranked_films = females.iloc[:,9:15].mean().sort_values(ascending = False)\n",
    "female_ranked_films.plot.barh(color='plum')"
   ]
  },
  {
   "cell_type": "markdown",
   "metadata": {},
   "source": [
    "Both genders rate episode 5 as the top film, 3 the lowest and 2 as second from lowest.\n",
    "Males vote episode 4 in second place but females vote it as 4th place.\n",
    "Perhaps there are elements of these films that are more appealing to a particular gender."
   ]
  },
  {
   "cell_type": "markdown",
   "metadata": {},
   "source": [
    "## Female & Male seen responses"
   ]
  },
  {
   "cell_type": "code",
   "execution_count": 27,
   "metadata": {
    "collapsed": false
   },
   "outputs": [
    {
     "data": {
      "text/plain": [
       "<matplotlib.axes._subplots.AxesSubplot at 0x7fc6e9bdf1d0>"
      ]
     },
     "execution_count": 27,
     "metadata": {},
     "output_type": "execute_result"
    },
    {
     "data": {
      "image/png": "[encoded data removed]",
      "text/plain": [
       "<matplotlib.figure.Figure at 0x7fc6e9c0f320>"
      ]
     },
     "metadata": {},
     "output_type": "display_data"
    }
   ],
   "source": [
    "male_seen_films = males.iloc[:,3:9].sum().sort_values(ascending = False)\n",
    "male_seen_films.plot.barh(color='plum')         #plotting a barh chart of how many have seen each film"
   ]
  },
  {
   "cell_type": "code",
   "execution_count": 28,
   "metadata": {
    "collapsed": false
   },
   "outputs": [
    {
     "data": {
      "text/plain": [
       "<matplotlib.axes._subplots.AxesSubplot at 0x7fc6e9c16e80>"
      ]
     },
     "execution_count": 28,
     "metadata": {},
     "output_type": "execute_result"
    },
    {
     "data": {
      "image/png": "[encoded data removed]",
      "text/plain": [
       "<matplotlib.figure.Figure at 0x7fc6e9bb2c18>"
      ]
     },
     "metadata": {},
     "output_type": "display_data"
    }
   ],
   "source": [
    "female_seen_films = females.iloc[:,3:9].sum().sort_values(ascending = False)\n",
    "female_seen_films.plot.barh(color='plum')#plotting a barh chart of how many have seen each film"
   ]
  },
  {
   "cell_type": "markdown",
   "metadata": {},
   "source": [
    "The popularity trend is the same for male and female."
   ]
  },
  {
   "cell_type": "markdown",
   "metadata": {
    "collapsed": true
   },
   "source": [
    "## Exploring education of respondents"
   ]
  },
  {
   "cell_type": "code",
   "execution_count": 29,
   "metadata": {
    "collapsed": false
   },
   "outputs": [
    {
     "data": {
      "text/plain": [
       "Some college or Associate degree    328\n",
       "Bachelor degree                     321\n",
       "Graduate degree                     275\n",
       "Unknown                             150\n",
       "High school degree                  105\n",
       "Less than high school degree          7\n",
       "Name: Education, dtype: int64"
      ]
     },
     "execution_count": 29,
     "metadata": {},
     "output_type": "execute_result"
    }
   ],
   "source": [
    "star_wars[\"Education\"].fillna(value=\"Unknown\", inplace=True)\n",
    "star_wars[\"Education\"].value_counts(dropna = False)"
   ]
  },
  {
   "cell_type": "code",
   "execution_count": 30,
   "metadata": {
    "collapsed": false
   },
   "outputs": [],
   "source": [
    "education = star_wars.groupby(by=[\"Education\"])"
   ]
  },
  {
   "cell_type": "code",
   "execution_count": 31,
   "metadata": {
    "collapsed": false
   },
   "outputs": [
    {
     "data": {
      "text/plain": [
       "<matplotlib.axes._subplots.AxesSubplot at 0x7fc6e9b2d6d8>"
      ]
     },
     "execution_count": 31,
     "metadata": {},
     "output_type": "execute_result"
    },
    {
     "data": {
      "image/png": "[encoded data removed]",
      "text/plain": [
       "<matplotlib.figure.Figure at 0x7fc6e9b25e80>"
      ]
     },
     "metadata": {},
     "output_type": "display_data"
    }
   ],
   "source": [
    "import numpy as np\n",
    "seen_group = education.aggregate(np.mean).sort_values(\"seen_5\", ascending = False).iloc[:,1:7]\n",
    "seen_group.plot.barh(figsize=(12,8))"
   ]
  },
  {
   "cell_type": "markdown",
   "metadata": {},
   "source": [
    "In the above graph we have sorted by most seen for Episdode 5 (the most popular film). It is very interesting to see that less than high school degree shows the same viewership on average for all 6 films. Could it be that these respondents are younger and less interested in the older films or could it be higher educated people prefer the films.\n",
    "A similar trend (and averages) is seen in the graduate and bachelor degree levels suggesting education at a university level has no impact.\n",
    "Unknown category shows disproportionately low viewership"
   ]
  },
  {
   "cell_type": "code",
   "execution_count": 32,
   "metadata": {
    "collapsed": false
   },
   "outputs": [
    {
     "data": {
      "text/html": [
       "<div>\n",
       "<style scoped>\n",
       "    .dataframe tbody tr th:only-of-type {\n",
       "        vertical-align: middle;\n",
       "    }\n",
       "\n",
       "    .dataframe tbody tr th {\n",
       "        vertical-align: top;\n",
       "    }\n",
       "\n",
       "    .dataframe thead th {\n",
       "        text-align: right;\n",
       "    }\n",
       "</style>\n",
       "<table border=\"1\" class=\"dataframe\">\n",
       "  <thead>\n",
       "    <tr style=\"text-align: right;\">\n",
       "      <th></th>\n",
       "      <th>seen_1</th>\n",
       "      <th>seen_2</th>\n",
       "      <th>seen_3</th>\n",
       "      <th>seen_4</th>\n",
       "      <th>seen_5</th>\n",
       "      <th>seen_6</th>\n",
       "    </tr>\n",
       "  </thead>\n",
       "  <tbody>\n",
       "    <tr>\n",
       "      <th>count</th>\n",
       "      <td>150</td>\n",
       "      <td>150</td>\n",
       "      <td>150</td>\n",
       "      <td>150</td>\n",
       "      <td>150</td>\n",
       "      <td>150</td>\n",
       "    </tr>\n",
       "    <tr>\n",
       "      <th>unique</th>\n",
       "      <td>2</td>\n",
       "      <td>2</td>\n",
       "      <td>2</td>\n",
       "      <td>2</td>\n",
       "      <td>2</td>\n",
       "      <td>2</td>\n",
       "    </tr>\n",
       "    <tr>\n",
       "      <th>top</th>\n",
       "      <td>False</td>\n",
       "      <td>False</td>\n",
       "      <td>False</td>\n",
       "      <td>False</td>\n",
       "      <td>False</td>\n",
       "      <td>False</td>\n",
       "    </tr>\n",
       "    <tr>\n",
       "      <th>freq</th>\n",
       "      <td>133</td>\n",
       "      <td>135</td>\n",
       "      <td>136</td>\n",
       "      <td>137</td>\n",
       "      <td>133</td>\n",
       "      <td>133</td>\n",
       "    </tr>\n",
       "  </tbody>\n",
       "</table>\n",
       "</div>"
      ],
      "text/plain": [
       "       seen_1 seen_2 seen_3 seen_4 seen_5 seen_6\n",
       "count     150    150    150    150    150    150\n",
       "unique      2      2      2      2      2      2\n",
       "top     False  False  False  False  False  False\n",
       "freq      133    135    136    137    133    133"
      ]
     },
     "execution_count": 32,
     "metadata": {},
     "output_type": "execute_result"
    }
   ],
   "source": [
    "star_wars[star_wars[\"Education\"] == \"Unknown\"].iloc[:,3:9].describe(include='all')"
   ]
  },
  {
   "cell_type": "code",
   "execution_count": 43,
   "metadata": {
    "collapsed": false
   },
   "outputs": [
    {
     "data": {
      "text/plain": [
       "<matplotlib.axes._subplots.AxesSubplot at 0x7fc6e986fac8>"
      ]
     },
     "execution_count": 43,
     "metadata": {},
     "output_type": "execute_result"
    },
    {
     "data": {
      "image/png": "[encoded data removed]",
      "text/plain": [
       "<matplotlib.figure.Figure at 0x7fc6e92ab128>"
      ]
     },
     "metadata": {},
     "output_type": "display_data"
    }
   ],
   "source": [
    "ranking_group = education.aggregate(np.mean).sort_values(\"seen_5\", ascending = False).iloc[:,-6:]\n",
    "ranking_group.plot.barh(figsize=(12,8))"
   ]
  },
  {
   "cell_type": "markdown",
   "metadata": {},
   "source": [
    "Lower numbers implies a better opinion of the film.\n",
    "People with less than a high school degree show episode 5 disproportionately as the favourite film. Episode 3 is is ranked third which is strange considering all other demographics show that this is the worst ranked film."
   ]
  },
  {
   "cell_type": "markdown",
   "metadata": {},
   "source": [
    "## Exploring locations"
   ]
  },
  {
   "cell_type": "code",
   "execution_count": 37,
   "metadata": {
    "collapsed": false
   },
   "outputs": [],
   "source": [
    "region = star_wars.groupby(by=\"Location (Census Region)\")"
   ]
  },
  {
   "cell_type": "code",
   "execution_count": 40,
   "metadata": {
    "collapsed": false
   },
   "outputs": [
    {
     "data": {
      "text/plain": [
       "<matplotlib.axes._subplots.AxesSubplot at 0x7fc6e9579940>"
      ]
     },
     "execution_count": 40,
     "metadata": {},
     "output_type": "execute_result"
    },
    {
     "data": {
      "image/png": "[encoded data removed]",
      "text/plain": [
       "<matplotlib.figure.Figure at 0x7fc6e9624400>"
      ]
     },
     "metadata": {},
     "output_type": "display_data"
    }
   ],
   "source": [
    "region_seen_group = region.aggregate(np.mean).sort_values(\"seen_5\", ascending = False).iloc[:,1:7]\n",
    "region_seen_group.plot.barh(figsize=(12,8))"
   ]
  },
  {
   "cell_type": "code",
   "execution_count": 46,
   "metadata": {
    "collapsed": false
   },
   "outputs": [
    {
     "data": {
      "text/plain": [
       "<matplotlib.axes._subplots.AxesSubplot at 0x7fc6e8f70b70>"
      ]
     },
     "execution_count": 46,
     "metadata": {},
     "output_type": "execute_result"
    },
    {
     "data": {
      "image/png": "[encoded data removed]",
      "text/plain": [
       "<matplotlib.figure.Figure at 0x7fc6e9209320>"
      ]
     },
     "metadata": {},
     "output_type": "display_data"
    }
   ],
   "source": [
    "region_ranking_group = region.aggregate(np.mean).sort_values(\"seen_5\", ascending = False).iloc[:,-6:]\n",
    "region_ranking_group.plot.barh(figsize=(16,8))"
   ]
  },
  {
   "cell_type": "markdown",
   "metadata": {},
   "source": [
    "The trends in which films have been seen is broadly the same for each region group. The trends are also broadly similar in the rankings. New England shows similar rankings for episode 1,2,3 which is more dispersed amongst other regions."
   ]
  },
  {
   "cell_type": "markdown",
   "metadata": {},
   "source": [
    "## Exploring which character shot first"
   ]
  },
  {
   "cell_type": "code",
   "execution_count": 55,
   "metadata": {
    "collapsed": false
   },
   "outputs": [
    {
     "data": {
      "text/plain": [
       "Han                                 325\n",
       "I don't understand this question    306\n",
       "Greedo                              197\n",
       "Name: Which character shot first?, dtype: int64"
      ]
     },
     "execution_count": 55,
     "metadata": {},
     "output_type": "execute_result"
    }
   ],
   "source": [
    "star_wars[\"Which character shot first?\"].value_counts()"
   ]
  },
  {
   "cell_type": "markdown",
   "metadata": {},
   "source": [
    "Explicity this should have only one answer from the films.\n",
    "Interestingly it seems this could have both answers as true.\n",
    "Orginally versions of the film showed Han shot first.\n",
    "Later ones were edited by George Lucas to show Greedo shooting first to give Han a self defense context.\n",
    "The answers here probably reflect on the time the person saw the film."
   ]
  }
 ],
 "metadata": {
  "kernelspec": {
   "display_name": "Python 3",
   "language": "python",
   "name": "python3"
  },
  "language_info": {
   "codemirror_mode": {
    "name": "ipython",
    "version": 3
   },
   "file_extension": ".py",
   "mimetype": "text/x-python",
   "name": "python",
   "nbconvert_exporter": "python",
   "pygments_lexer": "ipython3",
   "version": "3.4.3"
  }
 },
 "nbformat": 4,
 "nbformat_minor": 0
}
